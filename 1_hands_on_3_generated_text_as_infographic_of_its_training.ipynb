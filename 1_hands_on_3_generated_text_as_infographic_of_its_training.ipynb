{
  "nbformat": 4,
  "nbformat_minor": 0,
  "metadata": {
    "colab": {
      "provenance": []
    },
    "kernelspec": {
      "name": "python3",
      "display_name": "Python 3"
    },
    "language_info": {
      "name": "python"
    }
  },
  "cells": [
    {
      "cell_type": "markdown",
      "source": [
        "In 'hands on two', we generated a pile of images and used a trained convolutional neural network (Imagenet3) via Pixplot to visualize the 'ghosts' in the data, a kind of infographic of what it was trained on.\n",
        "\n",
        "Can we do the same with generated text? Maybe, if we create a topic model afterwards on a body of texts created by a model. This notebook allows you to generate many texts from the same prompt which you can then do conventional text analyses (including topic modeling) to surface the clusters or 'attractors' in the LLM training data. Again, a kind of infographic.\n",
        "\n",
        "We'll load up a local LLM to see what we can do, using Simon Willison's llm package; full details about it at https://llm.datasette.io."
      ],
      "metadata": {
        "id": "WNpStND_4nyo"
      }
    },
    {
      "cell_type": "code",
      "execution_count": 1,
      "metadata": {
        "id": "lWaTKk5l4jC8",
        "collapsed": true,
        "colab": {
          "base_uri": "https://localhost:8080/"
        },
        "outputId": "57a9049a-c3b3-4703-eaa4-87b2a045cad7"
      },
      "outputs": [
        {
          "output_type": "stream",
          "name": "stdout",
          "text": [
            "Collecting LLM\n",
            "  Downloading llm-0.27.1-py3-none-any.whl.metadata (30 kB)\n",
            "Requirement already satisfied: click in /usr/local/lib/python3.11/dist-packages (from LLM) (8.2.1)\n",
            "Collecting condense-json>=0.1.3 (from LLM)\n",
            "  Downloading condense_json-0.1.3-py3-none-any.whl.metadata (4.4 kB)\n",
            "Requirement already satisfied: openai>=1.55.3 in /usr/local/lib/python3.11/dist-packages (from LLM) (1.99.8)\n",
            "Collecting click-default-group>=1.2.3 (from LLM)\n",
            "  Downloading click_default_group-1.2.4-py2.py3-none-any.whl.metadata (2.8 kB)\n",
            "Collecting sqlite-utils>=3.37 (from LLM)\n",
            "  Downloading sqlite_utils-3.38-py3-none-any.whl.metadata (7.5 kB)\n",
            "Collecting sqlite-migrate>=0.1a2 (from LLM)\n",
            "  Downloading sqlite_migrate-0.1b0-py3-none-any.whl.metadata (5.4 kB)\n",
            "Requirement already satisfied: pydantic>=2.0.0 in /usr/local/lib/python3.11/dist-packages (from LLM) (2.11.7)\n",
            "Requirement already satisfied: PyYAML in /usr/local/lib/python3.11/dist-packages (from LLM) (6.0.2)\n",
            "Requirement already satisfied: pluggy in /usr/local/lib/python3.11/dist-packages (from LLM) (1.6.0)\n",
            "Collecting python-ulid (from LLM)\n",
            "  Downloading python_ulid-3.0.0-py3-none-any.whl.metadata (5.8 kB)\n",
            "Requirement already satisfied: setuptools in /usr/local/lib/python3.11/dist-packages (from LLM) (75.2.0)\n",
            "Requirement already satisfied: pip in /usr/local/lib/python3.11/dist-packages (from LLM) (24.1.2)\n",
            "Collecting puremagic (from LLM)\n",
            "  Downloading puremagic-1.30-py3-none-any.whl.metadata (5.8 kB)\n",
            "Requirement already satisfied: anyio<5,>=3.5.0 in /usr/local/lib/python3.11/dist-packages (from openai>=1.55.3->LLM) (4.10.0)\n",
            "Requirement already satisfied: distro<2,>=1.7.0 in /usr/local/lib/python3.11/dist-packages (from openai>=1.55.3->LLM) (1.9.0)\n",
            "Requirement already satisfied: httpx<1,>=0.23.0 in /usr/local/lib/python3.11/dist-packages (from openai>=1.55.3->LLM) (0.28.1)\n",
            "Requirement already satisfied: jiter<1,>=0.4.0 in /usr/local/lib/python3.11/dist-packages (from openai>=1.55.3->LLM) (0.10.0)\n",
            "Requirement already satisfied: sniffio in /usr/local/lib/python3.11/dist-packages (from openai>=1.55.3->LLM) (1.3.1)\n",
            "Requirement already satisfied: tqdm>4 in /usr/local/lib/python3.11/dist-packages (from openai>=1.55.3->LLM) (4.67.1)\n",
            "Requirement already satisfied: typing-extensions<5,>=4.11 in /usr/local/lib/python3.11/dist-packages (from openai>=1.55.3->LLM) (4.14.1)\n",
            "Requirement already satisfied: annotated-types>=0.6.0 in /usr/local/lib/python3.11/dist-packages (from pydantic>=2.0.0->LLM) (0.7.0)\n",
            "Requirement already satisfied: pydantic-core==2.33.2 in /usr/local/lib/python3.11/dist-packages (from pydantic>=2.0.0->LLM) (2.33.2)\n",
            "Requirement already satisfied: typing-inspection>=0.4.0 in /usr/local/lib/python3.11/dist-packages (from pydantic>=2.0.0->LLM) (0.4.1)\n",
            "Collecting sqlite-fts4 (from sqlite-utils>=3.37->LLM)\n",
            "  Downloading sqlite_fts4-1.0.3-py3-none-any.whl.metadata (6.6 kB)\n",
            "Requirement already satisfied: tabulate in /usr/local/lib/python3.11/dist-packages (from sqlite-utils>=3.37->LLM) (0.9.0)\n",
            "Requirement already satisfied: python-dateutil in /usr/local/lib/python3.11/dist-packages (from sqlite-utils>=3.37->LLM) (2.9.0.post0)\n",
            "Requirement already satisfied: idna>=2.8 in /usr/local/lib/python3.11/dist-packages (from anyio<5,>=3.5.0->openai>=1.55.3->LLM) (3.10)\n",
            "Requirement already satisfied: certifi in /usr/local/lib/python3.11/dist-packages (from httpx<1,>=0.23.0->openai>=1.55.3->LLM) (2025.8.3)\n",
            "Requirement already satisfied: httpcore==1.* in /usr/local/lib/python3.11/dist-packages (from httpx<1,>=0.23.0->openai>=1.55.3->LLM) (1.0.9)\n",
            "Requirement already satisfied: h11>=0.16 in /usr/local/lib/python3.11/dist-packages (from httpcore==1.*->httpx<1,>=0.23.0->openai>=1.55.3->LLM) (0.16.0)\n",
            "Requirement already satisfied: six>=1.5 in /usr/local/lib/python3.11/dist-packages (from python-dateutil->sqlite-utils>=3.37->LLM) (1.17.0)\n",
            "Downloading llm-0.27.1-py3-none-any.whl (82 kB)\n",
            "\u001b[2K   \u001b[90m━━━━━━━━━━━━━━━━━━━━━━━━━━━━━━━━━━━━━━━━\u001b[0m \u001b[32m82.5/82.5 kB\u001b[0m \u001b[31m5.2 MB/s\u001b[0m eta \u001b[36m0:00:00\u001b[0m\n",
            "\u001b[?25hDownloading click_default_group-1.2.4-py2.py3-none-any.whl (4.1 kB)\n",
            "Downloading condense_json-0.1.3-py3-none-any.whl (8.4 kB)\n",
            "Downloading sqlite_migrate-0.1b0-py3-none-any.whl (10.0 kB)\n",
            "Downloading sqlite_utils-3.38-py3-none-any.whl (68 kB)\n",
            "\u001b[2K   \u001b[90m━━━━━━━━━━━━━━━━━━━━━━━━━━━━━━━━━━━━━━━━\u001b[0m \u001b[32m68.2/68.2 kB\u001b[0m \u001b[31m5.4 MB/s\u001b[0m eta \u001b[36m0:00:00\u001b[0m\n",
            "\u001b[?25hDownloading puremagic-1.30-py3-none-any.whl (43 kB)\n",
            "\u001b[2K   \u001b[90m━━━━━━━━━━━━━━━━━━━━━━━━━━━━━━━━━━━━━━━━\u001b[0m \u001b[32m43.3/43.3 kB\u001b[0m \u001b[31m3.3 MB/s\u001b[0m eta \u001b[36m0:00:00\u001b[0m\n",
            "\u001b[?25hDownloading python_ulid-3.0.0-py3-none-any.whl (11 kB)\n",
            "Downloading sqlite_fts4-1.0.3-py3-none-any.whl (10.0 kB)\n",
            "Installing collected packages: sqlite-fts4, puremagic, python-ulid, condense-json, click-default-group, sqlite-utils, sqlite-migrate, LLM\n",
            "Successfully installed LLM-0.27.1 click-default-group-1.2.4 condense-json-0.1.3 puremagic-1.30 python-ulid-3.0.0 sqlite-fts4-1.0.3 sqlite-migrate-0.1b0 sqlite-utils-3.38\n",
            "Collecting llm-gpt4all\n",
            "  Downloading llm_gpt4all-0.4-py3-none-any.whl.metadata (5.7 kB)\n",
            "Requirement already satisfied: llm>=0.11 in /usr/local/lib/python3.11/dist-packages (from llm-gpt4all) (0.27.1)\n",
            "Collecting gpt4all>=2.5.1 (from llm-gpt4all)\n",
            "  Downloading gpt4all-2.8.2-py3-none-manylinux1_x86_64.whl.metadata (4.8 kB)\n",
            "Requirement already satisfied: httpx in /usr/local/lib/python3.11/dist-packages (from llm-gpt4all) (0.28.1)\n",
            "Requirement already satisfied: requests in /usr/local/lib/python3.11/dist-packages (from gpt4all>=2.5.1->llm-gpt4all) (2.32.3)\n",
            "Requirement already satisfied: tqdm in /usr/local/lib/python3.11/dist-packages (from gpt4all>=2.5.1->llm-gpt4all) (4.67.1)\n",
            "Requirement already satisfied: click in /usr/local/lib/python3.11/dist-packages (from llm>=0.11->llm-gpt4all) (8.2.1)\n",
            "Requirement already satisfied: condense-json>=0.1.3 in /usr/local/lib/python3.11/dist-packages (from llm>=0.11->llm-gpt4all) (0.1.3)\n",
            "Requirement already satisfied: openai>=1.55.3 in /usr/local/lib/python3.11/dist-packages (from llm>=0.11->llm-gpt4all) (1.99.8)\n",
            "Requirement already satisfied: click-default-group>=1.2.3 in /usr/local/lib/python3.11/dist-packages (from llm>=0.11->llm-gpt4all) (1.2.4)\n",
            "Requirement already satisfied: sqlite-utils>=3.37 in /usr/local/lib/python3.11/dist-packages (from llm>=0.11->llm-gpt4all) (3.38)\n",
            "Requirement already satisfied: sqlite-migrate>=0.1a2 in /usr/local/lib/python3.11/dist-packages (from llm>=0.11->llm-gpt4all) (0.1b0)\n",
            "Requirement already satisfied: pydantic>=2.0.0 in /usr/local/lib/python3.11/dist-packages (from llm>=0.11->llm-gpt4all) (2.11.7)\n",
            "Requirement already satisfied: PyYAML in /usr/local/lib/python3.11/dist-packages (from llm>=0.11->llm-gpt4all) (6.0.2)\n",
            "Requirement already satisfied: pluggy in /usr/local/lib/python3.11/dist-packages (from llm>=0.11->llm-gpt4all) (1.6.0)\n",
            "Requirement already satisfied: python-ulid in /usr/local/lib/python3.11/dist-packages (from llm>=0.11->llm-gpt4all) (3.0.0)\n",
            "Requirement already satisfied: setuptools in /usr/local/lib/python3.11/dist-packages (from llm>=0.11->llm-gpt4all) (75.2.0)\n",
            "Requirement already satisfied: pip in /usr/local/lib/python3.11/dist-packages (from llm>=0.11->llm-gpt4all) (24.1.2)\n",
            "Requirement already satisfied: puremagic in /usr/local/lib/python3.11/dist-packages (from llm>=0.11->llm-gpt4all) (1.30)\n",
            "Requirement already satisfied: anyio in /usr/local/lib/python3.11/dist-packages (from httpx->llm-gpt4all) (4.10.0)\n",
            "Requirement already satisfied: certifi in /usr/local/lib/python3.11/dist-packages (from httpx->llm-gpt4all) (2025.8.3)\n",
            "Requirement already satisfied: httpcore==1.* in /usr/local/lib/python3.11/dist-packages (from httpx->llm-gpt4all) (1.0.9)\n",
            "Requirement already satisfied: idna in /usr/local/lib/python3.11/dist-packages (from httpx->llm-gpt4all) (3.10)\n",
            "Requirement already satisfied: h11>=0.16 in /usr/local/lib/python3.11/dist-packages (from httpcore==1.*->httpx->llm-gpt4all) (0.16.0)\n",
            "Requirement already satisfied: distro<2,>=1.7.0 in /usr/local/lib/python3.11/dist-packages (from openai>=1.55.3->llm>=0.11->llm-gpt4all) (1.9.0)\n",
            "Requirement already satisfied: jiter<1,>=0.4.0 in /usr/local/lib/python3.11/dist-packages (from openai>=1.55.3->llm>=0.11->llm-gpt4all) (0.10.0)\n",
            "Requirement already satisfied: sniffio in /usr/local/lib/python3.11/dist-packages (from openai>=1.55.3->llm>=0.11->llm-gpt4all) (1.3.1)\n",
            "Requirement already satisfied: typing-extensions<5,>=4.11 in /usr/local/lib/python3.11/dist-packages (from openai>=1.55.3->llm>=0.11->llm-gpt4all) (4.14.1)\n",
            "Requirement already satisfied: annotated-types>=0.6.0 in /usr/local/lib/python3.11/dist-packages (from pydantic>=2.0.0->llm>=0.11->llm-gpt4all) (0.7.0)\n",
            "Requirement already satisfied: pydantic-core==2.33.2 in /usr/local/lib/python3.11/dist-packages (from pydantic>=2.0.0->llm>=0.11->llm-gpt4all) (2.33.2)\n",
            "Requirement already satisfied: typing-inspection>=0.4.0 in /usr/local/lib/python3.11/dist-packages (from pydantic>=2.0.0->llm>=0.11->llm-gpt4all) (0.4.1)\n",
            "Requirement already satisfied: sqlite-fts4 in /usr/local/lib/python3.11/dist-packages (from sqlite-utils>=3.37->llm>=0.11->llm-gpt4all) (1.0.3)\n",
            "Requirement already satisfied: tabulate in /usr/local/lib/python3.11/dist-packages (from sqlite-utils>=3.37->llm>=0.11->llm-gpt4all) (0.9.0)\n",
            "Requirement already satisfied: python-dateutil in /usr/local/lib/python3.11/dist-packages (from sqlite-utils>=3.37->llm>=0.11->llm-gpt4all) (2.9.0.post0)\n",
            "Requirement already satisfied: charset-normalizer<4,>=2 in /usr/local/lib/python3.11/dist-packages (from requests->gpt4all>=2.5.1->llm-gpt4all) (3.4.3)\n",
            "Requirement already satisfied: urllib3<3,>=1.21.1 in /usr/local/lib/python3.11/dist-packages (from requests->gpt4all>=2.5.1->llm-gpt4all) (2.5.0)\n",
            "Requirement already satisfied: six>=1.5 in /usr/local/lib/python3.11/dist-packages (from python-dateutil->sqlite-utils>=3.37->llm>=0.11->llm-gpt4all) (1.17.0)\n",
            "Downloading llm_gpt4all-0.4-py3-none-any.whl (10 kB)\n",
            "Downloading gpt4all-2.8.2-py3-none-manylinux1_x86_64.whl (121.6 MB)\n",
            "\u001b[2K   \u001b[90m━━━━━━━━━━━━━━━━━━━━━━━━━━━━━━━━━━━━━━━━\u001b[0m \u001b[32m121.6/121.6 MB\u001b[0m \u001b[31m6.3 MB/s\u001b[0m eta \u001b[36m0:00:00\u001b[0m\n",
            "\u001b[?25hInstalling collected packages: gpt4all, llm-gpt4all\n",
            "Successfully installed gpt4all-2.8.2 llm-gpt4all-0.4\n"
          ]
        }
      ],
      "source": [
        "# install LLM\n",
        "# install the GPT4All plugin (https://github.com/simonw/llm-gpt4all)\n",
        "# to access free models via Nomic.AI (https://www.nomic.ai/gpt4all).\n",
        "\n",
        "!pip install LLM\n",
        "!llm install llm-gpt4all\n"
      ]
    },
    {
      "cell_type": "code",
      "source": [
        "# or set yourself up with a free api key from GROQ at\n",
        "# https://console.groq.com/home\n",
        "# GROQ hosts many models on a service that can return results very quickly.\n",
        "# You can get set up with a free account; follow the prompts to sign up FOR THE FREE account\n",
        "# Then, under 'keys' hit the 'Create API Key' button. Give your key (your unique identifier) a sensible name, and then save the resulting string of text and numbers onto your computer: BUT NOT A CLOUD DRIVE like gdrive, dropbox, or onedrive.\n",
        "\n",
        "# then you can install groq with (remove the # in the next two lines) this code:\n",
        "\n",
        "# !llm install llm-groq\n",
        "# !llm keys set groq\n",
        "\n",
        "# Watch the output; it will ask you to paste in your key. Click in that space then paste, then hit enter. If it worked, the block will finish running.\n",
        "\n",
        "#groq is pretty fast and if you try out the 'conversation' piece at the end, you'll want to use groq with that."
      ],
      "metadata": {
        "id": "lxrmM4Se5WG9",
        "colab": {
          "base_uri": "https://localhost:8080/"
        },
        "outputId": "728aa213-bb7c-4e2b-a7fc-195944bd3cd8"
      },
      "execution_count": 2,
      "outputs": [
        {
          "output_type": "stream",
          "name": "stdout",
          "text": [
            "Collecting llm-groq\n",
            "  Downloading llm_groq-0.9-py3-none-any.whl.metadata (2.2 kB)\n",
            "Requirement already satisfied: llm>=0.18 in /usr/local/lib/python3.11/dist-packages (from llm-groq) (0.27.1)\n",
            "Collecting groq (from llm-groq)\n",
            "  Downloading groq-0.31.0-py3-none-any.whl.metadata (16 kB)\n",
            "Requirement already satisfied: click in /usr/local/lib/python3.11/dist-packages (from llm>=0.18->llm-groq) (8.2.1)\n",
            "Requirement already satisfied: condense-json>=0.1.3 in /usr/local/lib/python3.11/dist-packages (from llm>=0.18->llm-groq) (0.1.3)\n",
            "Requirement already satisfied: openai>=1.55.3 in /usr/local/lib/python3.11/dist-packages (from llm>=0.18->llm-groq) (1.99.8)\n",
            "Requirement already satisfied: click-default-group>=1.2.3 in /usr/local/lib/python3.11/dist-packages (from llm>=0.18->llm-groq) (1.2.4)\n",
            "Requirement already satisfied: sqlite-utils>=3.37 in /usr/local/lib/python3.11/dist-packages (from llm>=0.18->llm-groq) (3.38)\n",
            "Requirement already satisfied: sqlite-migrate>=0.1a2 in /usr/local/lib/python3.11/dist-packages (from llm>=0.18->llm-groq) (0.1b0)\n",
            "Requirement already satisfied: pydantic>=2.0.0 in /usr/local/lib/python3.11/dist-packages (from llm>=0.18->llm-groq) (2.11.7)\n",
            "Requirement already satisfied: PyYAML in /usr/local/lib/python3.11/dist-packages (from llm>=0.18->llm-groq) (6.0.2)\n",
            "Requirement already satisfied: pluggy in /usr/local/lib/python3.11/dist-packages (from llm>=0.18->llm-groq) (1.6.0)\n",
            "Requirement already satisfied: python-ulid in /usr/local/lib/python3.11/dist-packages (from llm>=0.18->llm-groq) (3.0.0)\n",
            "Requirement already satisfied: setuptools in /usr/local/lib/python3.11/dist-packages (from llm>=0.18->llm-groq) (75.2.0)\n",
            "Requirement already satisfied: pip in /usr/local/lib/python3.11/dist-packages (from llm>=0.18->llm-groq) (24.1.2)\n",
            "Requirement already satisfied: puremagic in /usr/local/lib/python3.11/dist-packages (from llm>=0.18->llm-groq) (1.30)\n",
            "Requirement already satisfied: anyio<5,>=3.5.0 in /usr/local/lib/python3.11/dist-packages (from groq->llm-groq) (4.10.0)\n",
            "Requirement already satisfied: distro<2,>=1.7.0 in /usr/local/lib/python3.11/dist-packages (from groq->llm-groq) (1.9.0)\n",
            "Requirement already satisfied: httpx<1,>=0.23.0 in /usr/local/lib/python3.11/dist-packages (from groq->llm-groq) (0.28.1)\n",
            "Requirement already satisfied: sniffio in /usr/local/lib/python3.11/dist-packages (from groq->llm-groq) (1.3.1)\n",
            "Requirement already satisfied: typing-extensions<5,>=4.10 in /usr/local/lib/python3.11/dist-packages (from groq->llm-groq) (4.14.1)\n",
            "Requirement already satisfied: idna>=2.8 in /usr/local/lib/python3.11/dist-packages (from anyio<5,>=3.5.0->groq->llm-groq) (3.10)\n",
            "Requirement already satisfied: certifi in /usr/local/lib/python3.11/dist-packages (from httpx<1,>=0.23.0->groq->llm-groq) (2025.8.3)\n",
            "Requirement already satisfied: httpcore==1.* in /usr/local/lib/python3.11/dist-packages (from httpx<1,>=0.23.0->groq->llm-groq) (1.0.9)\n",
            "Requirement already satisfied: h11>=0.16 in /usr/local/lib/python3.11/dist-packages (from httpcore==1.*->httpx<1,>=0.23.0->groq->llm-groq) (0.16.0)\n",
            "Requirement already satisfied: jiter<1,>=0.4.0 in /usr/local/lib/python3.11/dist-packages (from openai>=1.55.3->llm>=0.18->llm-groq) (0.10.0)\n",
            "Requirement already satisfied: tqdm>4 in /usr/local/lib/python3.11/dist-packages (from openai>=1.55.3->llm>=0.18->llm-groq) (4.67.1)\n",
            "Requirement already satisfied: annotated-types>=0.6.0 in /usr/local/lib/python3.11/dist-packages (from pydantic>=2.0.0->llm>=0.18->llm-groq) (0.7.0)\n",
            "Requirement already satisfied: pydantic-core==2.33.2 in /usr/local/lib/python3.11/dist-packages (from pydantic>=2.0.0->llm>=0.18->llm-groq) (2.33.2)\n",
            "Requirement already satisfied: typing-inspection>=0.4.0 in /usr/local/lib/python3.11/dist-packages (from pydantic>=2.0.0->llm>=0.18->llm-groq) (0.4.1)\n",
            "Requirement already satisfied: sqlite-fts4 in /usr/local/lib/python3.11/dist-packages (from sqlite-utils>=3.37->llm>=0.18->llm-groq) (1.0.3)\n",
            "Requirement already satisfied: tabulate in /usr/local/lib/python3.11/dist-packages (from sqlite-utils>=3.37->llm>=0.18->llm-groq) (0.9.0)\n",
            "Requirement already satisfied: python-dateutil in /usr/local/lib/python3.11/dist-packages (from sqlite-utils>=3.37->llm>=0.18->llm-groq) (2.9.0.post0)\n",
            "Requirement already satisfied: six>=1.5 in /usr/local/lib/python3.11/dist-packages (from python-dateutil->sqlite-utils>=3.37->llm>=0.18->llm-groq) (1.17.0)\n",
            "Downloading llm_groq-0.9-py3-none-any.whl (10 kB)\n",
            "Downloading groq-0.31.0-py3-none-any.whl (131 kB)\n",
            "\u001b[2K   \u001b[90m━━━━━━━━━━━━━━━━━━━━━━━━━━━━━━━━━━━━━━━━\u001b[0m \u001b[32m131.4/131.4 kB\u001b[0m \u001b[31m6.0 MB/s\u001b[0m eta \u001b[36m0:00:00\u001b[0m\n",
            "\u001b[?25hInstalling collected packages: groq, llm-groq\n",
            "Successfully installed groq-0.31.0 llm-groq-0.9\n",
            "Enter key: \n"
          ]
        }
      ]
    },
    {
      "cell_type": "markdown",
      "source": [
        "Pick a smallish model; generally because we're using the free version of colab, I think 4 gb is probably as big as we can go - unless you get set up with groq."
      ],
      "metadata": {
        "id": "dH9KXSg1A8kk"
      }
    },
    {
      "cell_type": "code",
      "source": [
        "# see what models you have available with this block.\n",
        "# notice the 'aliases'; that's the short name to use to load or use a particular model\n",
        "!llm models"
      ],
      "metadata": {
        "id": "1fpNRF0-6xTQ",
        "colab": {
          "base_uri": "https://localhost:8080/"
        },
        "outputId": "cfb2424e-4740-4b5f-e4bb-135671b50e60"
      },
      "execution_count": 3,
      "outputs": [
        {
          "output_type": "stream",
          "name": "stdout",
          "text": [
            "OpenAI Chat: gpt-4o (aliases: 4o)\n",
            "OpenAI Chat: chatgpt-4o-latest (aliases: chatgpt-4o)\n",
            "OpenAI Chat: gpt-4o-mini (aliases: 4o-mini)\n",
            "OpenAI Chat: gpt-4o-audio-preview\n",
            "OpenAI Chat: gpt-4o-audio-preview-2024-12-17\n",
            "OpenAI Chat: gpt-4o-audio-preview-2024-10-01\n",
            "OpenAI Chat: gpt-4o-mini-audio-preview\n",
            "OpenAI Chat: gpt-4o-mini-audio-preview-2024-12-17\n",
            "OpenAI Chat: gpt-4.1 (aliases: 4.1)\n",
            "OpenAI Chat: gpt-4.1-mini (aliases: 4.1-mini)\n",
            "OpenAI Chat: gpt-4.1-nano (aliases: 4.1-nano)\n",
            "OpenAI Chat: gpt-3.5-turbo (aliases: 3.5, chatgpt)\n",
            "OpenAI Chat: gpt-3.5-turbo-16k (aliases: chatgpt-16k, 3.5-16k)\n",
            "OpenAI Chat: gpt-4 (aliases: 4, gpt4)\n",
            "OpenAI Chat: gpt-4-32k (aliases: 4-32k)\n",
            "OpenAI Chat: gpt-4-1106-preview\n",
            "OpenAI Chat: gpt-4-0125-preview\n",
            "OpenAI Chat: gpt-4-turbo-2024-04-09\n",
            "OpenAI Chat: gpt-4-turbo (aliases: gpt-4-turbo-preview, 4-turbo, 4t)\n",
            "OpenAI Chat: gpt-4.5-preview-2025-02-27\n",
            "OpenAI Chat: gpt-4.5-preview (aliases: gpt-4.5)\n",
            "OpenAI Chat: o1\n",
            "OpenAI Chat: o1-2024-12-17\n",
            "OpenAI Chat: o1-preview\n",
            "OpenAI Chat: o1-mini\n",
            "OpenAI Chat: o3-mini\n",
            "OpenAI Chat: o3\n",
            "OpenAI Chat: o4-mini\n",
            "OpenAI Chat: gpt-5\n",
            "OpenAI Chat: gpt-5-mini\n",
            "OpenAI Chat: gpt-5-nano\n",
            "OpenAI Chat: gpt-5-2025-08-07\n",
            "OpenAI Chat: gpt-5-mini-2025-08-07\n",
            "OpenAI Chat: gpt-5-nano-2025-08-07\n",
            "OpenAI Completion: gpt-3.5-turbo-instruct (aliases: 3.5-instruct, chatgpt-instruct)\n",
            "gpt4all: all-MiniLM-L6-v2-f16 - SBert, 43.76MB download, needs 1GB RAM\n",
            "gpt4all: all-MiniLM-L6-v2 - SBert, 43.82MB download, needs 1GB RAM\n",
            "gpt4all: nomic-embed-text-v1 - Nomic Embed Text v1, 261.58MB download, needs 1GB RAM\n",
            "gpt4all: nomic-embed-text-v1 - Nomic Embed Text v1.5, 261.58MB download, needs 1GB RAM\n",
            "gpt4all: Llama-3 - Llama 3.2 1B Instruct, 737.21MB download, needs 2GB RAM\n",
            "gpt4all: qwen2-1_5b-instruct-q4_0 - Qwen2-1.5B-Instruct, 894.10MB download, needs 3GB RAM\n",
            "gpt4all: DeepSeek-R1-Distill-Qwen-1 - DeepSeek-R1-Distill-Qwen-1.5B, 1019.29MB download, needs 3GB RAM\n",
            "gpt4all: Llama-3 - Llama 3.2 3B Instruct, 1.79GB download, needs 4GB RAM\n",
            "gpt4all: replit-code-v1_5-3b-newbpe-q4_0 - Replit, 1.82GB download, needs 4GB RAM\n",
            "gpt4all: orca-mini-3b-gguf2-q4_0 - Mini Orca (Small), 1.84GB download, needs 4GB RAM\n",
            "gpt4all: Phi-3-mini-4k-instruct - Phi-3 Mini Instruct, 2.03GB download, needs 4GB RAM\n",
            "gpt4all: mpt-7b-chat - MPT Chat, 3.54GB download, needs 8GB RAM\n",
            "gpt4all: orca-2-7b - Orca 2 (Medium), 3.56GB download, needs 8GB RAM\n",
            "gpt4all: rift-coder-v0-7b-q4_0 - Rift coder, 3.56GB download, needs 8GB RAM\n",
            "gpt4all: mpt-7b-chat-newbpe-q4_0 - MPT Chat, 3.64GB download, needs 8GB RAM\n",
            "gpt4all: em_german_mistral_v01 - EM German Mistral, 3.83GB download, needs 8GB RAM\n",
            "gpt4all: mistral-7b-instruct-v0 - Mistral Instruct, 3.83GB download, needs 8GB RAM\n",
            "gpt4all: ghost-7b-v0 - Ghost 7B v0.9.1, 3.83GB download, needs 8GB RAM\n",
            "gpt4all: Nous-Hermes-2-Mistral-7B-DPO - Nous Hermes 2 Mistral DPO, 3.83GB download, needs 8GB RAM\n",
            "gpt4all: mistral-7b-openorca - Mistral OpenOrca, 3.83GB download, needs 8GB RAM\n",
            "gpt4all: gpt4all-falcon-newbpe-q4_0 - GPT4All Falcon, 3.92GB download, needs 8GB RAM\n",
            "gpt4all: qwen2 - Reasoner v1, 4.13GB download, needs 8GB RAM\n",
            "gpt4all: DeepSeek-R1-Distill-Qwen-7B-Q4_0 - DeepSeek-R1-Distill-Qwen-7B, 4.14GB download, needs 8GB RAM\n",
            "gpt4all: Meta-Llama-3 - Llama 3.1 8B Instruct 128k, 4.34GB download, needs 8GB RAM\n",
            "gpt4all: Meta-Llama-3-8B-Instruct - Llama 3 8B Instruct, 4.34GB download, needs 8GB RAM\n",
            "gpt4all: DeepSeek-R1-Distill-Llama-8B-Q4_0 - DeepSeek-R1-Distill-Llama-8B, 4.35GB download, needs 8GB RAM\n",
            "gpt4all: gpt4all-13b-snoozy-q4_0 - Snoozy, 6.86GB download, needs 16GB RAM\n",
            "gpt4all: wizardlm-13b-v1 - Wizard v1.2, 6.86GB download, needs 16GB RAM\n",
            "gpt4all: orca-2-13b - Orca 2 (Full), 6.86GB download, needs 16GB RAM\n",
            "gpt4all: nous-hermes-llama2-13b - Hermes, 6.86GB download, needs 16GB RAM\n",
            "gpt4all: DeepSeek-R1-Distill-Qwen-14B-Q4_0 - DeepSeek-R1-Distill-Qwen-14B, 7.96GB download, needs 16GB RAM\n",
            "gpt4all: starcoder-newbpe-q4_0 - Starcoder, 8.37GB download, needs 4GB RAM\n",
            "LLMGroq: groq/meta-llama/llama-prompt-guard-2-86m\n",
            "LLMGroq: groq/playai-tts-arabic\n",
            "LLMGroq: groq/meta-llama/llama-prompt-guard-2-22m\n",
            "LLMGroq: groq/moonshotai/kimi-k2-instruct (aliases: groq-kimi-k2)\n",
            "LLMGroqWhisper: groq/whisper-large-v3\n",
            "LLMGroq: groq/compound-beta-mini\n",
            "LLMGroq: groq/allam-2-7b\n",
            "LLMGroq: groq/meta-llama/llama-guard-4-12b\n",
            "LLMGroq: groq/deepseek-r1-distill-llama-70b\n",
            "LLMGroqWhisper: groq/whisper-large-v3-turbo\n",
            "LLMGroq: groq/meta-llama/llama-4-scout-17b-16e-instruct\n",
            "LLMGroq: groq/llama-3.3-70b-versatile (aliases: groq-llama-3.3-70b)\n",
            "LLMGroq: groq/llama3-70b-8192 (aliases: groq-llama3-70b)\n",
            "LLMGroq: groq/meta-llama/llama-4-maverick-17b-128e-instruct\n",
            "LLMGroq: groq/llama3-8b-8192 (aliases: groq-llama3)\n",
            "LLMGroq: groq/compound-beta\n",
            "LLMGroqWhisper: groq/distil-whisper-large-v3-en\n",
            "LLMGroq: groq/openai/gpt-oss-120b\n",
            "LLMGroq: groq/playai-tts\n",
            "LLMGroq: groq/llama-3.1-8b-instant (aliases: groq-llama3.1-8b)\n",
            "LLMGroq: groq/qwen/qwen3-32b\n",
            "LLMGroq: groq/openai/gpt-oss-20b\n",
            "LLMGroq: groq/gemma2-9b-it (aliases: groq-gemma2)\n",
            "Default: gpt-4o-mini\n"
          ]
        }
      ]
    },
    {
      "cell_type": "markdown",
      "source": [
        "Now, test. We're going to use one of the models made available through gpt4all. The line below tells Colab to run the LLM package; the -m tells llm to go use the orcan-mini-3b-gguf2-q4_0 model. If it doesn't find that model locally, it will download it for use and then the prompt follows between the single quotes.\n",
        "\n",
        "(Incidentally, '3b' means, 3 billion parameters; gguf2 is a kind of format; q4_0 means that the model has been further compressed or quantized using a 4bit approach)."
      ],
      "metadata": {
        "id": "jmbeX5B9DHPx"
      }
    },
    {
      "cell_type": "code",
      "source": [
        "# the pattern with using the llm package is !llm -m name-or-alias-of-model 'Prompt', like so:\n",
        "!llm -m orca-mini-3b-gguf2-q4_0 'Write a paragraph about the burning of Parliament in 1849'"
      ],
      "metadata": {
        "colab": {
          "base_uri": "https://localhost:8080/"
        },
        "id": "xrYQiOHN5Mta",
        "outputId": "491799ea-277e-4c1f-8710-2ee4c96a266f"
      },
      "execution_count": 5,
      "outputs": [
        {
          "output_type": "stream",
          "name": "stdout",
          "text": [
            "Downloading: 100% 1.98G/1.98G [00:37<00:00, 52.1MiB/s]\n",
            "Verifying: 100% 1.98G/1.98G [00:04<00:00, 427MiB/s]\n",
            " In 1849, the British government was facing financial difficulties and tensions were high between the ruling Conservatives and their opposition, the Liberals. On September 28th, a group of radicals from both parties gathered outside Parliament to demand changes to the government's budget. As the two sides clashed, a fire broke out in one of the buildings, quickly spreading to others. The resulting blaze destroyed much of the Palace of Westminster and led to widespread public anger towards the government. In the end, the Conservatives were forced to resign and a new election was called, ultimately leading to the formation of the Great Reform Act and significant changes to British politics.\n"
          ]
        }
      ]
    },
    {
      "cell_type": "code",
      "source": [
        "# Now let's see what a different model might return\n",
        "\n",
        "#btw, you can limit the output by adding: `-o max_tokens 200`\n",
        "\n",
        "!llm -m groq-llama3 'Write a paragraph about the burning of Parliament in 1849'"
      ],
      "metadata": {
        "colab": {
          "base_uri": "https://localhost:8080/"
        },
        "id": "W5mhzytm7ts_",
        "outputId": "9c1248a4-99dd-48ad-f665-64c8ff2c73ab"
      },
      "execution_count": 4,
      "outputs": [
        {
          "output_type": "stream",
          "name": "stdout",
          "text": [
            "I apologize, but there is no record of the burning of Parliament in 1849. The Palace of Westminster, which houses the British Parliament, has had several significant fires throughout its history, but none occurred in 1849.\n",
            "\n",
            "However, I can provide information on two notable fires that did occur in the Palace of Westminster:\n",
            "\n",
            "* On October 16, 1834, a major fire broke out in the Palace of Westminster, destroying the medieval palace and its famous clock tower, Big Ben. The fire was caused by a spark from a gas main and quickly spread through the wooden structures of the palace.\n",
            "* On November 7, 1989, a fire started in the Queen's Robing Room in the Palace of Westminster, caused by an electrical fault. The fire was quickly brought under control, and no one was injured.\n"
          ]
        }
      ]
    },
    {
      "cell_type": "code",
      "source": [
        "# here's another model's response\n",
        "\n",
        "!llm -m mistral-7b-instruct-v0 'Write a paragraph about the burning of Parliament in 1849'"
      ],
      "metadata": {
        "colab": {
          "base_uri": "https://localhost:8080/"
        },
        "id": "_MqqRlLCAdrF",
        "outputId": "af303e11-a6d9-44cf-a5ac-e31720ae5d3d"
      },
      "execution_count": null,
      "outputs": [
        {
          "output_type": "stream",
          "name": "stderr",
          "text": [
            "/usr/local/lib/python3.10/dist-packages/ipykernel/ipkernel.py:283: DeprecationWarning: `should_run_async` will not call `transform_cell` automatically in the future. Please pass the result to `transformed_cell` argument and any exception that happen during thetransform in `preprocessing_exc_tuple` in IPython 7.17 and above.\n",
            "  and should_run_async(code)\n"
          ]
        },
        {
          "output_type": "stream",
          "name": "stdout",
          "text": [
            "Downloading: 100% 4.11G/4.11G [01:10<00:00, 58.6MiB/s]\n",
            "Verifying: 100% 4.11G/4.11G [00:21<00:00, 194MiB/s]\n",
            " The Burning of Parliament, also known as the Palace of Westminster Fire, occurred on October 16th, 1849. It was a tragic event that saw the destruction of much of Britain's political and historical landmark, the Palace of Westminster. The fire started in the early hours of the morning and quickly spread throughout the building, causing immense damage to the structure and its contents. Despite the efforts of the firefighters, the blaze was unable to be contained and it burnt for over two days. In the end, only one chamber of Parliament survived relatively unscathed - the House of Lords. The cause of the fire remains unknown but it led to a significant rebuilding project that saw the restoration and expansion of the Palace of Westminster in the following years.\n"
          ]
        }
      ]
    },
    {
      "cell_type": "markdown",
      "source": [
        "Notice how the models return text with certain similarities? Notice how they have particular hangups? Just like with image generation, there are attractors in the behaviour space of the models that are a result of the particularities of the original training data.\n",
        "\n",
        "Incidentally, the Parliament of (the Province of) Canada burned down in 1849. At the time, it was in [Montreal](https://en.wikipedia.org/wiki/Burning_of_the_Parliament_Buildings_in_Montreal)"
      ],
      "metadata": {
        "id": "AKE48gCK77IR"
      }
    },
    {
      "cell_type": "code",
      "source": [
        "# this will write 10 new texts from the orca-mini model\n",
        "# notice the > which means, write the output to the file output{i}.txt, where i equals the iteration we are on ('for each time between the first time and the eleventh time, invoke llm to generat...')\n",
        "for i in range(1, 11):\n",
        "    !llm -m orca-mini-3b-gguf2-q4_0 'Write a paragraph about the burning of Parliament in 1849' > output{i}_orca.txt"
      ],
      "metadata": {
        "id": "NDFBbQS_6AHJ"
      },
      "execution_count": null,
      "outputs": []
    },
    {
      "cell_type": "code",
      "source": [
        "# similarly, this will write 50 new texts from the gemma2 model housed at groq\n",
        "for i in range(1, 51):\n",
        "    !llm -m groq-gemma2 'Write a paragraph about the burning of Parliament in 1849' > output{i}_groq.txt"
      ],
      "metadata": {
        "id": "8plpBeZH69oY"
      },
      "execution_count": 23,
      "outputs": []
    },
    {
      "cell_type": "code",
      "source": [
        "# handy piece of code to delete everything that gets generated\n",
        "#!rm -rf output*"
      ],
      "metadata": {
        "id": "6rYedBtlBP6A"
      },
      "execution_count": null,
      "outputs": []
    },
    {
      "cell_type": "code",
      "source": [
        "# zip up every text file with 'output' in its name\n",
        "!zip generated_texts.zip output*.txt\n",
        "\n",
        "# then you can download that zip file, and use something like the topic modeling tool https://senderle.github.io/topic-modeling-tool/documentation/2017/01/06/quickstart.html\n",
        "# to generate a topic model and a browser for exploring what patterns might be visible; or continue in this notebook"
      ],
      "metadata": {
        "id": "Ac_1FSRV_Yw8"
      },
      "execution_count": null,
      "outputs": []
    },
    {
      "cell_type": "markdown",
      "source": [
        "## Topic Model These Texts with Python\n",
        "Topic modeling is a technique for finding discourses in text."
      ],
      "metadata": {
        "id": "0PK3O0yhsPCV"
      }
    },
    {
      "cell_type": "code",
      "source": [
        "!pip install gensim\n",
        "# if you get a warning saying you must restart the runtime, click 'ok' or 'restart session' then continue."
      ],
      "metadata": {
        "colab": {
          "base_uri": "https://localhost:8080/",
          "height": 697
        },
        "id": "QY7PgEKl8eXK",
        "outputId": "58de46e0-e1f2-4464-c75c-d2caaba64004"
      },
      "execution_count": 12,
      "outputs": [
        {
          "output_type": "stream",
          "name": "stdout",
          "text": [
            "Collecting gensim\n",
            "  Downloading gensim-4.3.3-cp311-cp311-manylinux_2_17_x86_64.manylinux2014_x86_64.whl.metadata (8.1 kB)\n",
            "Collecting numpy<2.0,>=1.18.5 (from gensim)\n",
            "  Downloading numpy-1.26.4-cp311-cp311-manylinux_2_17_x86_64.manylinux2014_x86_64.whl.metadata (61 kB)\n",
            "\u001b[2K     \u001b[90m━━━━━━━━━━━━━━━━━━━━━━━━━━━━━━━━━━━━━━━━\u001b[0m \u001b[32m61.0/61.0 kB\u001b[0m \u001b[31m3.1 MB/s\u001b[0m eta \u001b[36m0:00:00\u001b[0m\n",
            "\u001b[?25hCollecting scipy<1.14.0,>=1.7.0 (from gensim)\n",
            "  Downloading scipy-1.13.1-cp311-cp311-manylinux_2_17_x86_64.manylinux2014_x86_64.whl.metadata (60 kB)\n",
            "\u001b[2K     \u001b[90m━━━━━━━━━━━━━━━━━━━━━━━━━━━━━━━━━━━━━━━━\u001b[0m \u001b[32m60.6/60.6 kB\u001b[0m \u001b[31m3.8 MB/s\u001b[0m eta \u001b[36m0:00:00\u001b[0m\n",
            "\u001b[?25hRequirement already satisfied: smart-open>=1.8.1 in /usr/local/lib/python3.11/dist-packages (from gensim) (7.3.0.post1)\n",
            "Requirement already satisfied: wrapt in /usr/local/lib/python3.11/dist-packages (from smart-open>=1.8.1->gensim) (1.17.2)\n",
            "Downloading gensim-4.3.3-cp311-cp311-manylinux_2_17_x86_64.manylinux2014_x86_64.whl (26.7 MB)\n",
            "\u001b[2K   \u001b[90m━━━━━━━━━━━━━━━━━━━━━━━━━━━━━━━━━━━━━━━━\u001b[0m \u001b[32m26.7/26.7 MB\u001b[0m \u001b[31m74.0 MB/s\u001b[0m eta \u001b[36m0:00:00\u001b[0m\n",
            "\u001b[?25hDownloading numpy-1.26.4-cp311-cp311-manylinux_2_17_x86_64.manylinux2014_x86_64.whl (18.3 MB)\n",
            "\u001b[2K   \u001b[90m━━━━━━━━━━━━━━━━━━━━━━━━━━━━━━━━━━━━━━━━\u001b[0m \u001b[32m18.3/18.3 MB\u001b[0m \u001b[31m94.0 MB/s\u001b[0m eta \u001b[36m0:00:00\u001b[0m\n",
            "\u001b[?25hDownloading scipy-1.13.1-cp311-cp311-manylinux_2_17_x86_64.manylinux2014_x86_64.whl (38.6 MB)\n",
            "\u001b[2K   \u001b[90m━━━━━━━━━━━━━━━━━━━━━━━━━━━━━━━━━━━━━━━━\u001b[0m \u001b[32m38.6/38.6 MB\u001b[0m \u001b[31m22.1 MB/s\u001b[0m eta \u001b[36m0:00:00\u001b[0m\n",
            "\u001b[?25hInstalling collected packages: numpy, scipy, gensim\n",
            "  Attempting uninstall: numpy\n",
            "    Found existing installation: numpy 2.0.2\n",
            "    Uninstalling numpy-2.0.2:\n",
            "      Successfully uninstalled numpy-2.0.2\n",
            "  Attempting uninstall: scipy\n",
            "    Found existing installation: scipy 1.16.1\n",
            "    Uninstalling scipy-1.16.1:\n",
            "      Successfully uninstalled scipy-1.16.1\n",
            "\u001b[31mERROR: pip's dependency resolver does not currently take into account all the packages that are installed. This behaviour is the source of the following dependency conflicts.\n",
            "tsfresh 0.21.0 requires scipy>=1.14.0; python_version >= \"3.10\", but you have scipy 1.13.1 which is incompatible.\n",
            "opencv-python 4.12.0.88 requires numpy<2.3.0,>=2; python_version >= \"3.9\", but you have numpy 1.26.4 which is incompatible.\n",
            "opencv-python-headless 4.12.0.88 requires numpy<2.3.0,>=2; python_version >= \"3.9\", but you have numpy 1.26.4 which is incompatible.\n",
            "opencv-contrib-python 4.12.0.88 requires numpy<2.3.0,>=2; python_version >= \"3.9\", but you have numpy 1.26.4 which is incompatible.\n",
            "thinc 8.3.6 requires numpy<3.0.0,>=2.0.0, but you have numpy 1.26.4 which is incompatible.\u001b[0m\u001b[31m\n",
            "\u001b[0mSuccessfully installed gensim-4.3.3 numpy-1.26.4 scipy-1.13.1\n"
          ]
        },
        {
          "output_type": "display_data",
          "data": {
            "application/vnd.colab-display-data+json": {
              "pip_warning": {
                "packages": [
                  "numpy"
                ]
              },
              "id": "6d50f5aec67a4455b6573d8b71e6f982"
            }
          },
          "metadata": {}
        }
      ]
    },
    {
      "cell_type": "code",
      "source": [
        "# check the file tray for .txt files, and create a dataframe with their contents\n",
        "\n",
        "import pandas as pd\n",
        "import os\n",
        "\n",
        "# Get a list of all output files\n",
        "output_files = [f for f in os.listdir('.') if f.startswith('output') and f.endswith('.txt')]\n",
        "\n",
        "# Create an empty list to store the text from each file\n",
        "text_data = []\n",
        "\n",
        "# Read the text from each file and add it to the list\n",
        "for file in output_files:\n",
        "    with open(file, 'r') as f:\n",
        "        text_data.append(f.read())\n",
        "\n",
        "# Create a pandas DataFrame with the text data\n",
        "df = pd.DataFrame({'text': text_data})"
      ],
      "metadata": {
        "id": "p-YxQGTp8iyr"
      },
      "execution_count": 24,
      "outputs": []
    },
    {
      "cell_type": "code",
      "source": [
        "# take a look inside the dataframe you made from all your text files\n",
        "df"
      ],
      "metadata": {
        "colab": {
          "base_uri": "https://localhost:8080/",
          "height": 1000
        },
        "id": "uA63XkBX8-qy",
        "outputId": "3d3eb7b9-f9de-46e0-91ec-c2275016c035"
      },
      "execution_count": 25,
      "outputs": [
        {
          "output_type": "execute_result",
          "data": {
            "text/plain": [
              "                                                 text\n",
              "0   While the iconic fire of the Houses of Parliam...\n",
              "1   In 1849, a fire of catastrophic proportions ra...\n",
              "2   The burning of Parliament in 1849 occurred on ...\n",
              "3   On the evening of 10th October 1834, rather th...\n",
              "4   On the night of 16 October 1834, the Houses of...\n",
              "5   On May 1st, 1849, an event that shook the colo...\n",
              "6   The burning of Parliament in 1849, while a dra...\n",
              "7   On 10th October, 1849, a devastating fire brok...\n",
              "8   The burning of Parliament in 1849 wasn't a del...\n",
              "9   The burning of Parliament in 1849 refers to th...\n",
              "10  In 1849, the iconic Houses of Parliament in Lo...\n",
              "11  The burning of Parliament in 1849 was a signif...\n",
              "12  While the iconic image of Parliament burning i...\n",
              "13  On the night of October 9th, 1849, a fire of d...\n",
              "14  While the iconic burning of the Houses of Parl...\n",
              "15  On the tragic night of October 18, 1849, the h...\n",
              "16  On 10th October 1849, the fires that blazed th...\n",
              "17  There seems to be some confusion. The British ...\n",
              "18  On the 10th of October, 1834, a devastating fi...\n",
              "19  On October 16, 1849, a devastating fire engulf...\n",
              "20  The burning of the South African Parliament in...\n",
              "21  The burning of Parliament in 1849, although a ...\n",
              "22  Parliament, the iconic symbol of British gover...\n",
              "23  The burning of Parliament in 1849 wasn't an is...\n",
              "24  In 1849, a fire ravaged the Palace of Westmins...\n",
              "25  On the night of 18th October 1849, a fire swep...\n",
              "26  There seems to be a misunderstanding. The Hous...\n",
              "27  The burning of Parliament in 1849 was a signif...\n",
              "28  The Parliament building in Ottawa didn't burn ...\n",
              "29  Although often conflated with the notorious bu...\n",
              "30  The Parliament fire of 1834, not 1849, was a d...\n",
              "31  The burning of Parliament on 10th October 1849...\n",
              "32  On February 10th, 1849, a devastating fire eng...\n",
              "33  The burning of Parliament in 1849 wasn't a sin...\n",
              "34  The flames that consumed the Houses of Parliam...\n",
              "35  The burning of Parliament in 1849 wasn't a fie...\n",
              "36  The burning of Parliament House in 1849 was a ...\n",
              "37  While news reports and historical accounts oft...\n",
              "38  The story of Parliament burning in 1849 is a t...\n",
              "39  The burning of Parliament, a catastrophic even...\n",
              "40  The burning of Parliament in 1849, specificall...\n",
              "41  On August 18, 1849, London was rocked by a dev...\n",
              "42  The burning of the South African Parliament in...\n",
              "43  The burning of the Parliament Building in Vall...\n",
              "44  The burning of Parliament in 1849 is not a his...\n",
              "45  Please be aware that the historical event you'...\n",
              "46  Parliament Hill in London was shaken on Octobe...\n",
              "47  The burning of Parliament in 1849, while a sig...\n",
              "48  In a dramatic event that shook the foundations...\n",
              "49  The burning of Parliament in 1834, not 1849, s...\n",
              "50  The burning of Parliament in 1849 was a devast..."
            ],
            "text/html": [
              "\n",
              "  <div id=\"df-35976bb7-b78f-4937-b2de-9d86928990d6\" class=\"colab-df-container\">\n",
              "    <div>\n",
              "<style scoped>\n",
              "    .dataframe tbody tr th:only-of-type {\n",
              "        vertical-align: middle;\n",
              "    }\n",
              "\n",
              "    .dataframe tbody tr th {\n",
              "        vertical-align: top;\n",
              "    }\n",
              "\n",
              "    .dataframe thead th {\n",
              "        text-align: right;\n",
              "    }\n",
              "</style>\n",
              "<table border=\"1\" class=\"dataframe\">\n",
              "  <thead>\n",
              "    <tr style=\"text-align: right;\">\n",
              "      <th></th>\n",
              "      <th>text</th>\n",
              "    </tr>\n",
              "  </thead>\n",
              "  <tbody>\n",
              "    <tr>\n",
              "      <th>0</th>\n",
              "      <td>While the iconic fire of the Houses of Parliam...</td>\n",
              "    </tr>\n",
              "    <tr>\n",
              "      <th>1</th>\n",
              "      <td>In 1849, a fire of catastrophic proportions ra...</td>\n",
              "    </tr>\n",
              "    <tr>\n",
              "      <th>2</th>\n",
              "      <td>The burning of Parliament in 1849 occurred on ...</td>\n",
              "    </tr>\n",
              "    <tr>\n",
              "      <th>3</th>\n",
              "      <td>On the evening of 10th October 1834, rather th...</td>\n",
              "    </tr>\n",
              "    <tr>\n",
              "      <th>4</th>\n",
              "      <td>On the night of 16 October 1834, the Houses of...</td>\n",
              "    </tr>\n",
              "    <tr>\n",
              "      <th>5</th>\n",
              "      <td>On May 1st, 1849, an event that shook the colo...</td>\n",
              "    </tr>\n",
              "    <tr>\n",
              "      <th>6</th>\n",
              "      <td>The burning of Parliament in 1849, while a dra...</td>\n",
              "    </tr>\n",
              "    <tr>\n",
              "      <th>7</th>\n",
              "      <td>On 10th October, 1849, a devastating fire brok...</td>\n",
              "    </tr>\n",
              "    <tr>\n",
              "      <th>8</th>\n",
              "      <td>The burning of Parliament in 1849 wasn't a del...</td>\n",
              "    </tr>\n",
              "    <tr>\n",
              "      <th>9</th>\n",
              "      <td>The burning of Parliament in 1849 refers to th...</td>\n",
              "    </tr>\n",
              "    <tr>\n",
              "      <th>10</th>\n",
              "      <td>In 1849, the iconic Houses of Parliament in Lo...</td>\n",
              "    </tr>\n",
              "    <tr>\n",
              "      <th>11</th>\n",
              "      <td>The burning of Parliament in 1849 was a signif...</td>\n",
              "    </tr>\n",
              "    <tr>\n",
              "      <th>12</th>\n",
              "      <td>While the iconic image of Parliament burning i...</td>\n",
              "    </tr>\n",
              "    <tr>\n",
              "      <th>13</th>\n",
              "      <td>On the night of October 9th, 1849, a fire of d...</td>\n",
              "    </tr>\n",
              "    <tr>\n",
              "      <th>14</th>\n",
              "      <td>While the iconic burning of the Houses of Parl...</td>\n",
              "    </tr>\n",
              "    <tr>\n",
              "      <th>15</th>\n",
              "      <td>On the tragic night of October 18, 1849, the h...</td>\n",
              "    </tr>\n",
              "    <tr>\n",
              "      <th>16</th>\n",
              "      <td>On 10th October 1849, the fires that blazed th...</td>\n",
              "    </tr>\n",
              "    <tr>\n",
              "      <th>17</th>\n",
              "      <td>There seems to be some confusion. The British ...</td>\n",
              "    </tr>\n",
              "    <tr>\n",
              "      <th>18</th>\n",
              "      <td>On the 10th of October, 1834, a devastating fi...</td>\n",
              "    </tr>\n",
              "    <tr>\n",
              "      <th>19</th>\n",
              "      <td>On October 16, 1849, a devastating fire engulf...</td>\n",
              "    </tr>\n",
              "    <tr>\n",
              "      <th>20</th>\n",
              "      <td>The burning of the South African Parliament in...</td>\n",
              "    </tr>\n",
              "    <tr>\n",
              "      <th>21</th>\n",
              "      <td>The burning of Parliament in 1849, although a ...</td>\n",
              "    </tr>\n",
              "    <tr>\n",
              "      <th>22</th>\n",
              "      <td>Parliament, the iconic symbol of British gover...</td>\n",
              "    </tr>\n",
              "    <tr>\n",
              "      <th>23</th>\n",
              "      <td>The burning of Parliament in 1849 wasn't an is...</td>\n",
              "    </tr>\n",
              "    <tr>\n",
              "      <th>24</th>\n",
              "      <td>In 1849, a fire ravaged the Palace of Westmins...</td>\n",
              "    </tr>\n",
              "    <tr>\n",
              "      <th>25</th>\n",
              "      <td>On the night of 18th October 1849, a fire swep...</td>\n",
              "    </tr>\n",
              "    <tr>\n",
              "      <th>26</th>\n",
              "      <td>There seems to be a misunderstanding. The Hous...</td>\n",
              "    </tr>\n",
              "    <tr>\n",
              "      <th>27</th>\n",
              "      <td>The burning of Parliament in 1849 was a signif...</td>\n",
              "    </tr>\n",
              "    <tr>\n",
              "      <th>28</th>\n",
              "      <td>The Parliament building in Ottawa didn't burn ...</td>\n",
              "    </tr>\n",
              "    <tr>\n",
              "      <th>29</th>\n",
              "      <td>Although often conflated with the notorious bu...</td>\n",
              "    </tr>\n",
              "    <tr>\n",
              "      <th>30</th>\n",
              "      <td>The Parliament fire of 1834, not 1849, was a d...</td>\n",
              "    </tr>\n",
              "    <tr>\n",
              "      <th>31</th>\n",
              "      <td>The burning of Parliament on 10th October 1849...</td>\n",
              "    </tr>\n",
              "    <tr>\n",
              "      <th>32</th>\n",
              "      <td>On February 10th, 1849, a devastating fire eng...</td>\n",
              "    </tr>\n",
              "    <tr>\n",
              "      <th>33</th>\n",
              "      <td>The burning of Parliament in 1849 wasn't a sin...</td>\n",
              "    </tr>\n",
              "    <tr>\n",
              "      <th>34</th>\n",
              "      <td>The flames that consumed the Houses of Parliam...</td>\n",
              "    </tr>\n",
              "    <tr>\n",
              "      <th>35</th>\n",
              "      <td>The burning of Parliament in 1849 wasn't a fie...</td>\n",
              "    </tr>\n",
              "    <tr>\n",
              "      <th>36</th>\n",
              "      <td>The burning of Parliament House in 1849 was a ...</td>\n",
              "    </tr>\n",
              "    <tr>\n",
              "      <th>37</th>\n",
              "      <td>While news reports and historical accounts oft...</td>\n",
              "    </tr>\n",
              "    <tr>\n",
              "      <th>38</th>\n",
              "      <td>The story of Parliament burning in 1849 is a t...</td>\n",
              "    </tr>\n",
              "    <tr>\n",
              "      <th>39</th>\n",
              "      <td>The burning of Parliament, a catastrophic even...</td>\n",
              "    </tr>\n",
              "    <tr>\n",
              "      <th>40</th>\n",
              "      <td>The burning of Parliament in 1849, specificall...</td>\n",
              "    </tr>\n",
              "    <tr>\n",
              "      <th>41</th>\n",
              "      <td>On August 18, 1849, London was rocked by a dev...</td>\n",
              "    </tr>\n",
              "    <tr>\n",
              "      <th>42</th>\n",
              "      <td>The burning of the South African Parliament in...</td>\n",
              "    </tr>\n",
              "    <tr>\n",
              "      <th>43</th>\n",
              "      <td>The burning of the Parliament Building in Vall...</td>\n",
              "    </tr>\n",
              "    <tr>\n",
              "      <th>44</th>\n",
              "      <td>The burning of Parliament in 1849 is not a his...</td>\n",
              "    </tr>\n",
              "    <tr>\n",
              "      <th>45</th>\n",
              "      <td>Please be aware that the historical event you'...</td>\n",
              "    </tr>\n",
              "    <tr>\n",
              "      <th>46</th>\n",
              "      <td>Parliament Hill in London was shaken on Octobe...</td>\n",
              "    </tr>\n",
              "    <tr>\n",
              "      <th>47</th>\n",
              "      <td>The burning of Parliament in 1849, while a sig...</td>\n",
              "    </tr>\n",
              "    <tr>\n",
              "      <th>48</th>\n",
              "      <td>In a dramatic event that shook the foundations...</td>\n",
              "    </tr>\n",
              "    <tr>\n",
              "      <th>49</th>\n",
              "      <td>The burning of Parliament in 1834, not 1849, s...</td>\n",
              "    </tr>\n",
              "    <tr>\n",
              "      <th>50</th>\n",
              "      <td>The burning of Parliament in 1849 was a devast...</td>\n",
              "    </tr>\n",
              "  </tbody>\n",
              "</table>\n",
              "</div>\n",
              "    <div class=\"colab-df-buttons\">\n",
              "\n",
              "  <div class=\"colab-df-container\">\n",
              "    <button class=\"colab-df-convert\" onclick=\"convertToInteractive('df-35976bb7-b78f-4937-b2de-9d86928990d6')\"\n",
              "            title=\"Convert this dataframe to an interactive table.\"\n",
              "            style=\"display:none;\">\n",
              "\n",
              "  <svg xmlns=\"http://www.w3.org/2000/svg\" height=\"24px\" viewBox=\"0 -960 960 960\">\n",
              "    <path d=\"M120-120v-720h720v720H120Zm60-500h600v-160H180v160Zm220 220h160v-160H400v160Zm0 220h160v-160H400v160ZM180-400h160v-160H180v160Zm440 0h160v-160H620v160ZM180-180h160v-160H180v160Zm440 0h160v-160H620v160Z\"/>\n",
              "  </svg>\n",
              "    </button>\n",
              "\n",
              "  <style>\n",
              "    .colab-df-container {\n",
              "      display:flex;\n",
              "      gap: 12px;\n",
              "    }\n",
              "\n",
              "    .colab-df-convert {\n",
              "      background-color: #E8F0FE;\n",
              "      border: none;\n",
              "      border-radius: 50%;\n",
              "      cursor: pointer;\n",
              "      display: none;\n",
              "      fill: #1967D2;\n",
              "      height: 32px;\n",
              "      padding: 0 0 0 0;\n",
              "      width: 32px;\n",
              "    }\n",
              "\n",
              "    .colab-df-convert:hover {\n",
              "      background-color: #E2EBFA;\n",
              "      box-shadow: 0px 1px 2px rgba(60, 64, 67, 0.3), 0px 1px 3px 1px rgba(60, 64, 67, 0.15);\n",
              "      fill: #174EA6;\n",
              "    }\n",
              "\n",
              "    .colab-df-buttons div {\n",
              "      margin-bottom: 4px;\n",
              "    }\n",
              "\n",
              "    [theme=dark] .colab-df-convert {\n",
              "      background-color: #3B4455;\n",
              "      fill: #D2E3FC;\n",
              "    }\n",
              "\n",
              "    [theme=dark] .colab-df-convert:hover {\n",
              "      background-color: #434B5C;\n",
              "      box-shadow: 0px 1px 3px 1px rgba(0, 0, 0, 0.15);\n",
              "      filter: drop-shadow(0px 1px 2px rgba(0, 0, 0, 0.3));\n",
              "      fill: #FFFFFF;\n",
              "    }\n",
              "  </style>\n",
              "\n",
              "    <script>\n",
              "      const buttonEl =\n",
              "        document.querySelector('#df-35976bb7-b78f-4937-b2de-9d86928990d6 button.colab-df-convert');\n",
              "      buttonEl.style.display =\n",
              "        google.colab.kernel.accessAllowed ? 'block' : 'none';\n",
              "\n",
              "      async function convertToInteractive(key) {\n",
              "        const element = document.querySelector('#df-35976bb7-b78f-4937-b2de-9d86928990d6');\n",
              "        const dataTable =\n",
              "          await google.colab.kernel.invokeFunction('convertToInteractive',\n",
              "                                                    [key], {});\n",
              "        if (!dataTable) return;\n",
              "\n",
              "        const docLinkHtml = 'Like what you see? Visit the ' +\n",
              "          '<a target=\"_blank\" href=https://colab.research.google.com/notebooks/data_table.ipynb>data table notebook</a>'\n",
              "          + ' to learn more about interactive tables.';\n",
              "        element.innerHTML = '';\n",
              "        dataTable['output_type'] = 'display_data';\n",
              "        await google.colab.output.renderOutput(dataTable, element);\n",
              "        const docLink = document.createElement('div');\n",
              "        docLink.innerHTML = docLinkHtml;\n",
              "        element.appendChild(docLink);\n",
              "      }\n",
              "    </script>\n",
              "  </div>\n",
              "\n",
              "\n",
              "    <div id=\"df-106d48c0-070e-412b-a654-de4a5305947c\">\n",
              "      <button class=\"colab-df-quickchart\" onclick=\"quickchart('df-106d48c0-070e-412b-a654-de4a5305947c')\"\n",
              "                title=\"Suggest charts\"\n",
              "                style=\"display:none;\">\n",
              "\n",
              "<svg xmlns=\"http://www.w3.org/2000/svg\" height=\"24px\"viewBox=\"0 0 24 24\"\n",
              "     width=\"24px\">\n",
              "    <g>\n",
              "        <path d=\"M19 3H5c-1.1 0-2 .9-2 2v14c0 1.1.9 2 2 2h14c1.1 0 2-.9 2-2V5c0-1.1-.9-2-2-2zM9 17H7v-7h2v7zm4 0h-2V7h2v10zm4 0h-2v-4h2v4z\"/>\n",
              "    </g>\n",
              "</svg>\n",
              "      </button>\n",
              "\n",
              "<style>\n",
              "  .colab-df-quickchart {\n",
              "      --bg-color: #E8F0FE;\n",
              "      --fill-color: #1967D2;\n",
              "      --hover-bg-color: #E2EBFA;\n",
              "      --hover-fill-color: #174EA6;\n",
              "      --disabled-fill-color: #AAA;\n",
              "      --disabled-bg-color: #DDD;\n",
              "  }\n",
              "\n",
              "  [theme=dark] .colab-df-quickchart {\n",
              "      --bg-color: #3B4455;\n",
              "      --fill-color: #D2E3FC;\n",
              "      --hover-bg-color: #434B5C;\n",
              "      --hover-fill-color: #FFFFFF;\n",
              "      --disabled-bg-color: #3B4455;\n",
              "      --disabled-fill-color: #666;\n",
              "  }\n",
              "\n",
              "  .colab-df-quickchart {\n",
              "    background-color: var(--bg-color);\n",
              "    border: none;\n",
              "    border-radius: 50%;\n",
              "    cursor: pointer;\n",
              "    display: none;\n",
              "    fill: var(--fill-color);\n",
              "    height: 32px;\n",
              "    padding: 0;\n",
              "    width: 32px;\n",
              "  }\n",
              "\n",
              "  .colab-df-quickchart:hover {\n",
              "    background-color: var(--hover-bg-color);\n",
              "    box-shadow: 0 1px 2px rgba(60, 64, 67, 0.3), 0 1px 3px 1px rgba(60, 64, 67, 0.15);\n",
              "    fill: var(--button-hover-fill-color);\n",
              "  }\n",
              "\n",
              "  .colab-df-quickchart-complete:disabled,\n",
              "  .colab-df-quickchart-complete:disabled:hover {\n",
              "    background-color: var(--disabled-bg-color);\n",
              "    fill: var(--disabled-fill-color);\n",
              "    box-shadow: none;\n",
              "  }\n",
              "\n",
              "  .colab-df-spinner {\n",
              "    border: 2px solid var(--fill-color);\n",
              "    border-color: transparent;\n",
              "    border-bottom-color: var(--fill-color);\n",
              "    animation:\n",
              "      spin 1s steps(1) infinite;\n",
              "  }\n",
              "\n",
              "  @keyframes spin {\n",
              "    0% {\n",
              "      border-color: transparent;\n",
              "      border-bottom-color: var(--fill-color);\n",
              "      border-left-color: var(--fill-color);\n",
              "    }\n",
              "    20% {\n",
              "      border-color: transparent;\n",
              "      border-left-color: var(--fill-color);\n",
              "      border-top-color: var(--fill-color);\n",
              "    }\n",
              "    30% {\n",
              "      border-color: transparent;\n",
              "      border-left-color: var(--fill-color);\n",
              "      border-top-color: var(--fill-color);\n",
              "      border-right-color: var(--fill-color);\n",
              "    }\n",
              "    40% {\n",
              "      border-color: transparent;\n",
              "      border-right-color: var(--fill-color);\n",
              "      border-top-color: var(--fill-color);\n",
              "    }\n",
              "    60% {\n",
              "      border-color: transparent;\n",
              "      border-right-color: var(--fill-color);\n",
              "    }\n",
              "    80% {\n",
              "      border-color: transparent;\n",
              "      border-right-color: var(--fill-color);\n",
              "      border-bottom-color: var(--fill-color);\n",
              "    }\n",
              "    90% {\n",
              "      border-color: transparent;\n",
              "      border-bottom-color: var(--fill-color);\n",
              "    }\n",
              "  }\n",
              "</style>\n",
              "\n",
              "      <script>\n",
              "        async function quickchart(key) {\n",
              "          const quickchartButtonEl =\n",
              "            document.querySelector('#' + key + ' button');\n",
              "          quickchartButtonEl.disabled = true;  // To prevent multiple clicks.\n",
              "          quickchartButtonEl.classList.add('colab-df-spinner');\n",
              "          try {\n",
              "            const charts = await google.colab.kernel.invokeFunction(\n",
              "                'suggestCharts', [key], {});\n",
              "          } catch (error) {\n",
              "            console.error('Error during call to suggestCharts:', error);\n",
              "          }\n",
              "          quickchartButtonEl.classList.remove('colab-df-spinner');\n",
              "          quickchartButtonEl.classList.add('colab-df-quickchart-complete');\n",
              "        }\n",
              "        (() => {\n",
              "          let quickchartButtonEl =\n",
              "            document.querySelector('#df-106d48c0-070e-412b-a654-de4a5305947c button');\n",
              "          quickchartButtonEl.style.display =\n",
              "            google.colab.kernel.accessAllowed ? 'block' : 'none';\n",
              "        })();\n",
              "      </script>\n",
              "    </div>\n",
              "\n",
              "  <div id=\"id_b8dff24f-917c-4d20-a819-b0ab9423e715\">\n",
              "    <style>\n",
              "      .colab-df-generate {\n",
              "        background-color: #E8F0FE;\n",
              "        border: none;\n",
              "        border-radius: 50%;\n",
              "        cursor: pointer;\n",
              "        display: none;\n",
              "        fill: #1967D2;\n",
              "        height: 32px;\n",
              "        padding: 0 0 0 0;\n",
              "        width: 32px;\n",
              "      }\n",
              "\n",
              "      .colab-df-generate:hover {\n",
              "        background-color: #E2EBFA;\n",
              "        box-shadow: 0px 1px 2px rgba(60, 64, 67, 0.3), 0px 1px 3px 1px rgba(60, 64, 67, 0.15);\n",
              "        fill: #174EA6;\n",
              "      }\n",
              "\n",
              "      [theme=dark] .colab-df-generate {\n",
              "        background-color: #3B4455;\n",
              "        fill: #D2E3FC;\n",
              "      }\n",
              "\n",
              "      [theme=dark] .colab-df-generate:hover {\n",
              "        background-color: #434B5C;\n",
              "        box-shadow: 0px 1px 3px 1px rgba(0, 0, 0, 0.15);\n",
              "        filter: drop-shadow(0px 1px 2px rgba(0, 0, 0, 0.3));\n",
              "        fill: #FFFFFF;\n",
              "      }\n",
              "    </style>\n",
              "    <button class=\"colab-df-generate\" onclick=\"generateWithVariable('df')\"\n",
              "            title=\"Generate code using this dataframe.\"\n",
              "            style=\"display:none;\">\n",
              "\n",
              "  <svg xmlns=\"http://www.w3.org/2000/svg\" height=\"24px\"viewBox=\"0 0 24 24\"\n",
              "       width=\"24px\">\n",
              "    <path d=\"M7,19H8.4L18.45,9,17,7.55,7,17.6ZM5,21V16.75L18.45,3.32a2,2,0,0,1,2.83,0l1.4,1.43a1.91,1.91,0,0,1,.58,1.4,1.91,1.91,0,0,1-.58,1.4L9.25,21ZM18.45,9,17,7.55Zm-12,3A5.31,5.31,0,0,0,4.9,8.1,5.31,5.31,0,0,0,1,6.5,5.31,5.31,0,0,0,4.9,4.9,5.31,5.31,0,0,0,6.5,1,5.31,5.31,0,0,0,8.1,4.9,5.31,5.31,0,0,0,12,6.5,5.46,5.46,0,0,0,6.5,12Z\"/>\n",
              "  </svg>\n",
              "    </button>\n",
              "    <script>\n",
              "      (() => {\n",
              "      const buttonEl =\n",
              "        document.querySelector('#id_b8dff24f-917c-4d20-a819-b0ab9423e715 button.colab-df-generate');\n",
              "      buttonEl.style.display =\n",
              "        google.colab.kernel.accessAllowed ? 'block' : 'none';\n",
              "\n",
              "      buttonEl.onclick = () => {\n",
              "        google.colab.notebook.generateWithVariable('df');\n",
              "      }\n",
              "      })();\n",
              "    </script>\n",
              "  </div>\n",
              "\n",
              "    </div>\n",
              "  </div>\n"
            ],
            "application/vnd.google.colaboratory.intrinsic+json": {
              "type": "dataframe",
              "variable_name": "df",
              "summary": "{\n  \"name\": \"df\",\n  \"rows\": 51,\n  \"fields\": [\n    {\n      \"column\": \"text\",\n      \"properties\": {\n        \"dtype\": \"string\",\n        \"num_unique_values\": 51,\n        \"samples\": [\n          \"The burning of the Parliament Building in Valletta, Malta in 1849 was a devastating fire that swept through the historic structure. While the exact cause remains debated, theories include negligent candle usage and accidental ignition of gunpowder stored within the parliament building. The blaze, which consumed the building's upper floors, caused extensive damage to both the interior and the iconic clock tower. The incident, deeply felt by the Maltese population, highlighted the vulnerability of the island's heritage to hazards and sparked debate surrounding inadequate fire safety measures. The devastation of Parliament prompted a period of reconstruction and ultimately contributed to the development of modern fire safety practices in Malta.  \\n\\n\\n\\n\",\n          \"The burning of Parliament in 1849, specifically the Houses of Parliament, was not a singular event but a devastating fire that erupted on October 16, 1834.  The fire, which started in the House of Commons chamber, spread rapidly throughout the Gothic Revival structure, fueled by wooden construction and a complex system of galleries and passageways. Despite the valiant efforts of firefighters, immense portions of the Palace of Westminster were destroyed, leaving the British government temporarily homeless and prompting a major rebuilding project that spanned decades. The fire, its cause still debated, became a symbolic event, representing both the destruction of the old and the promise of renewal in a rapidly evolving nation.  \\n\\n\\n\\n\\n\",\n          \"Parliament Hill in London was shaken on October 16, 1834, not by a war, but by fire.  A devastating blaze ripped through the House of Commons chamber, engulfing the complex in flames.  Though the fire began in the debating chamber, quickly consuming the library and Lords' apartments in the process, Parliament narrowly escaped destruction thanks to the courage of firefighters and the structural integrity of the building. While the fire ultimately destroyed a significant portion of the Parliament complex, it also served as a catalyst for modernization, leading to the construction of the iconic neoclassical Houses of Parliament as we know them today. \\n\\n\\n\"\n        ],\n        \"semantic_type\": \"\",\n        \"description\": \"\"\n      }\n    }\n  ]\n}"
            }
          },
          "metadata": {},
          "execution_count": 25
        }
      ]
    },
    {
      "cell_type": "code",
      "source": [
        "# optional pre_processing\n",
        "# Load the regular expression library\n",
        "import re\n",
        "# Remove punctuation\n",
        "df['text_processed'] = df['text'].map(lambda x: re.sub('[,\\.!?]', '', x))# Convert the titles to lowercase\n",
        "df['text_processed'] = df['text_processed'].map(lambda x: x.lower())# Print out the first rows of papers\n",
        "df['text_processed'].head()"
      ],
      "metadata": {
        "colab": {
          "base_uri": "https://localhost:8080/",
          "height": 240
        },
        "id": "vVKDC6Xc8zeX",
        "outputId": "f4c6e58b-d13c-4f57-aaf3-d0284f4a63ce"
      },
      "execution_count": 4,
      "outputs": [
        {
          "output_type": "execute_result",
          "data": {
            "text/plain": [
              "0    while the iconic fire of the houses of parliam...\n",
              "1    in 1849 a fire of catastrophic proportions rag...\n",
              "2    the burning of parliament in 1849 occurred on ...\n",
              "3    on the evening of 10th october 1834 rather tha...\n",
              "4    on the night of 16 october 1834 the houses of ...\n",
              "Name: text_processed, dtype: object"
            ],
            "text/html": [
              "<div>\n",
              "<style scoped>\n",
              "    .dataframe tbody tr th:only-of-type {\n",
              "        vertical-align: middle;\n",
              "    }\n",
              "\n",
              "    .dataframe tbody tr th {\n",
              "        vertical-align: top;\n",
              "    }\n",
              "\n",
              "    .dataframe thead th {\n",
              "        text-align: right;\n",
              "    }\n",
              "</style>\n",
              "<table border=\"1\" class=\"dataframe\">\n",
              "  <thead>\n",
              "    <tr style=\"text-align: right;\">\n",
              "      <th></th>\n",
              "      <th>text_processed</th>\n",
              "    </tr>\n",
              "  </thead>\n",
              "  <tbody>\n",
              "    <tr>\n",
              "      <th>0</th>\n",
              "      <td>while the iconic fire of the houses of parliam...</td>\n",
              "    </tr>\n",
              "    <tr>\n",
              "      <th>1</th>\n",
              "      <td>in 1849 a fire of catastrophic proportions rag...</td>\n",
              "    </tr>\n",
              "    <tr>\n",
              "      <th>2</th>\n",
              "      <td>the burning of parliament in 1849 occurred on ...</td>\n",
              "    </tr>\n",
              "    <tr>\n",
              "      <th>3</th>\n",
              "      <td>on the evening of 10th october 1834 rather tha...</td>\n",
              "    </tr>\n",
              "    <tr>\n",
              "      <th>4</th>\n",
              "      <td>on the night of 16 october 1834 the houses of ...</td>\n",
              "    </tr>\n",
              "  </tbody>\n",
              "</table>\n",
              "</div><br><label><b>dtype:</b> object</label>"
            ]
          },
          "metadata": {},
          "execution_count": 4
        }
      ]
    },
    {
      "cell_type": "code",
      "source": [
        "# Import the wordcloud library\n",
        "from wordcloud import WordCloud# Join the different processed titles together.\n",
        "long_string = ','.join(list(df['text_processed'].values))# Create a WordCloud object ; note that if you *didn't* preprocess, you would change df to call the text column, eg df['text']\n",
        "wordcloud = WordCloud(background_color=\"white\", max_words=5000, contour_width=3, contour_color='steelblue')# Generate a word cloud\n",
        "wordcloud.generate(long_string)# Visualize the word cloud\n",
        "wordcloud.to_image()\n",
        "\n",
        "# I just like word clouds. They're a histogram of the most frequent words."
      ],
      "metadata": {
        "colab": {
          "base_uri": "https://localhost:8080/",
          "height": 217
        },
        "id": "zyVGsoUn9f7m",
        "outputId": "7c7a420d-a24d-4eba-8e35-764cf1bff4b7"
      },
      "execution_count": 5,
      "outputs": [
        {
          "output_type": "execute_result",
          "data": {
            "text/plain": [
              "<PIL.Image.Image image mode=RGB size=400x200>"
            ],
            "image/png": "[encoded data removed]",
            "image/jpeg": "[encoded data removed]"
          },
          "metadata": {},
          "execution_count": 5
        }
      ]
    },
    {
      "cell_type": "code",
      "source": [
        "import gensim\n",
        "from gensim.utils import simple_preprocess\n",
        "import nltk\n",
        "nltk.download('stopwords')\n",
        "from nltk.corpus import stopwords\n",
        "stop_words = stopwords.words('english')\n",
        "#stop_words.extend(['from', 'subject', 're', 'edu', 'use']) #if there are other things you want to remove\n",
        "def sent_to_words(sentences):\n",
        "    for sentence in sentences:\n",
        "        # deacc=True removes punctuations\n",
        "        yield(gensim.utils.simple_preprocess(str(sentence), deacc=True))\n",
        "def remove_stopwords(texts):\n",
        "    return [[word for word in simple_preprocess(str(doc))\n",
        "             if word not in stop_words] for doc in texts]\n",
        "\n",
        "data = df.text_processed.values.tolist()\n",
        "data_words = list(sent_to_words(data))# remove stop words\n",
        "data_words = remove_stopwords(data_words)\n",
        "print(data_words[:1][0][:30])"
      ],
      "metadata": {
        "colab": {
          "base_uri": "https://localhost:8080/"
        },
        "id": "ICaP8IoW9lg-",
        "outputId": "8898d640-93bf-4a7c-9044-95b27371ae60"
      },
      "execution_count": 7,
      "outputs": [
        {
          "output_type": "stream",
          "name": "stdout",
          "text": [
            "['iconic', 'fire', 'houses', 'parliament', 'widely', 'known', 'another', 'significant', 'fire', 'ravaged', 'building', 'evening', 'january', 'th', 'fire', 'ignited', 'library', 'house', 'lords', 'rapidly', 'spreading', 'roof', 'causing', 'extensive', 'damage', 'blaze', 'attributed', 'faulty', 'gas', 'pipe']\n"
          ]
        },
        {
          "output_type": "stream",
          "name": "stderr",
          "text": [
            "[nltk_data] Downloading package stopwords to /root/nltk_data...\n",
            "[nltk_data]   Package stopwords is already up-to-date!\n"
          ]
        }
      ]
    },
    {
      "cell_type": "code",
      "source": [
        "import gensim.corpora as corpora# Create Dictionary\n",
        "id2word = corpora.Dictionary(data_words)# Create Corpus\n",
        "texts = data_words# Term Document Frequency\n",
        "corpus = [id2word.doc2bow(text) for text in texts]# View\n",
        "print(corpus[:1][0][:30])"
      ],
      "metadata": {
        "id": "agZS_s_F98Ms",
        "colab": {
          "base_uri": "https://localhost:8080/"
        },
        "outputId": "2622d6ce-51cf-487a-d494-8fd037984c5f"
      },
      "execution_count": 8,
      "outputs": [
        {
          "output_type": "stream",
          "name": "stdout",
          "text": [
            "[(0, 1), (1, 1), (2, 1), (3, 1), (4, 1), (5, 1), (6, 1), (7, 1), (8, 1), (9, 1), (10, 1), (11, 1), (12, 1), (13, 1), (14, 1), (15, 1), (16, 1), (17, 5), (18, 1), (19, 1), (20, 1), (21, 1), (22, 2), (23, 1), (24, 1), (25, 1), (26, 1), (27, 1), (28, 1), (29, 1)]\n"
          ]
        }
      ]
    },
    {
      "cell_type": "code",
      "source": [
        "## let's build a topic model and see which words in what proportions constitute the different topics\n",
        "\n",
        "from pprint import pprint# number of topics\n",
        "num_topics = 10# Build LDA model\n",
        "lda_model = gensim.models.LdaMulticore(corpus=corpus,\n",
        "                                       id2word=id2word,\n",
        "                                       num_topics=num_topics)# Print the Keyword in the 10 topics\n",
        "pprint(lda_model.print_topics())\n",
        "doc_lda = lda_model[corpus]"
      ],
      "metadata": {
        "colab": {
          "base_uri": "https://localhost:8080/"
        },
        "id": "6qLHrN2c-Awy",
        "outputId": "1be677d2-db6d-4539-d2fc-c15622360453"
      },
      "execution_count": 9,
      "outputs": [
        {
          "output_type": "stream",
          "name": "stderr",
          "text": [
            "WARNING:gensim.models.ldamulticore:too few updates, training might not converge; consider increasing the number of passes or iterations to improve accuracy\n"
          ]
        },
        {
          "output_type": "stream",
          "name": "stdout",
          "text": [
            "[(0,\n",
            "  '0.028*\"fire\" + 0.023*\"parliament\" + 0.012*\"event\" + 0.010*\"political\" + '\n",
            "  '0.010*\"building\" + 0.009*\"burning\" + 0.008*\"devastating\" + 0.008*\"chamber\" '\n",
            "  '+ 0.007*\"nation\" + 0.007*\"library\"'),\n",
            " (1,\n",
            "  '0.040*\"fire\" + 0.024*\"parliament\" + 0.017*\"building\" + 0.010*\"house\" + '\n",
            "  '0.010*\"event\" + 0.009*\"engulfed\" + 0.009*\"blaze\" + 0.008*\"colonial\" + '\n",
            "  '0.007*\"structure\" + 0.007*\"quickly\"'),\n",
            " (2,\n",
            "  '0.032*\"parliament\" + 0.031*\"fire\" + 0.012*\"houses\" + 0.012*\"iconic\" + '\n",
            "  '0.011*\"palace\" + 0.010*\"building\" + 0.010*\"raged\" + 0.009*\"days\" + '\n",
            "  '0.009*\"burning\" + 0.008*\"london\"'),\n",
            " (3,\n",
            "  '0.026*\"fire\" + 0.025*\"parliament\" + 0.016*\"building\" + 0.012*\"structure\" + '\n",
            "  '0.011*\"iconic\" + 0.011*\"houses\" + 0.010*\"house\" + 0.010*\"blaze\" + '\n",
            "  '0.010*\"devastating\" + 0.009*\"october\"'),\n",
            " (4,\n",
            "  '0.041*\"fire\" + 0.030*\"parliament\" + 0.017*\"building\" + 0.014*\"house\" + '\n",
            "  '0.012*\"iconic\" + 0.010*\"tower\" + 0.010*\"clock\" + 0.010*\"charles\" + '\n",
            "  '0.010*\"october\" + 0.009*\"blaze\"'),\n",
            " (5,\n",
            "  '0.013*\"parliament\" + 0.013*\"fire\" + 0.009*\"political\" + 0.008*\"event\" + '\n",
            "  '0.007*\"building\" + 0.007*\"cause\" + 0.007*\"burning\" + 0.007*\"remains\" + '\n",
            "  '0.006*\"blaze\" + 0.006*\"engulfing\"'),\n",
            " (6,\n",
            "  '0.037*\"fire\" + 0.024*\"parliament\" + 0.013*\"building\" + 0.011*\"event\" + '\n",
            "  '0.010*\"house\" + 0.009*\"palace\" + 0.009*\"westminster\" + 0.009*\"october\" + '\n",
            "  '0.009*\"british\" + 0.008*\"houses\"'),\n",
            " (7,\n",
            "  '0.033*\"parliament\" + 0.027*\"fire\" + 0.020*\"building\" + 0.016*\"event\" + '\n",
            "  '0.015*\"houses\" + 0.010*\"burning\" + 0.010*\"devastating\" + 0.010*\"palace\" + '\n",
            "  '0.009*\"british\" + 0.008*\"october\"'),\n",
            " (8,\n",
            "  '0.028*\"parliament\" + 0.023*\"fire\" + 0.011*\"building\" + 0.011*\"house\" + '\n",
            "  '0.010*\"event\" + 0.009*\"burning\" + 0.009*\"october\" + 0.009*\"th\" + '\n",
            "  '0.008*\"ultimately\" + 0.007*\"blaze\"'),\n",
            " (9,\n",
            "  '0.041*\"fire\" + 0.029*\"parliament\" + 0.016*\"building\" + 0.014*\"blaze\" + '\n",
            "  '0.013*\"house\" + 0.011*\"structure\" + 0.010*\"event\" + 0.008*\"burning\" + '\n",
            "  '0.008*\"lords\" + 0.008*\"significant\"')]\n"
          ]
        }
      ]
    },
    {
      "cell_type": "code",
      "source": [
        "# now let's make a visualization of these to see the\n",
        "# 'behaviour space' for these text generations, this corner of the model from whence\n",
        "# your texts came.\n",
        "\n",
        "!pip install pyLDAvis"
      ],
      "metadata": {
        "id": "ZauZMDyJ-c_D",
        "colab": {
          "base_uri": "https://localhost:8080/"
        },
        "outputId": "eaa12c18-616e-4618-82e4-e0df6faf32bb"
      },
      "execution_count": 10,
      "outputs": [
        {
          "output_type": "stream",
          "name": "stdout",
          "text": [
            "Collecting pyLDAvis\n",
            "  Downloading pyLDAvis-3.4.1-py3-none-any.whl.metadata (4.2 kB)\n",
            "Requirement already satisfied: numpy>=1.24.2 in /usr/local/lib/python3.11/dist-packages (from pyLDAvis) (1.26.4)\n",
            "Requirement already satisfied: scipy in /usr/local/lib/python3.11/dist-packages (from pyLDAvis) (1.13.1)\n",
            "Requirement already satisfied: pandas>=2.0.0 in /usr/local/lib/python3.11/dist-packages (from pyLDAvis) (2.2.2)\n",
            "Requirement already satisfied: joblib>=1.2.0 in /usr/local/lib/python3.11/dist-packages (from pyLDAvis) (1.5.1)\n",
            "Requirement already satisfied: jinja2 in /usr/local/lib/python3.11/dist-packages (from pyLDAvis) (3.1.6)\n",
            "Requirement already satisfied: numexpr in /usr/local/lib/python3.11/dist-packages (from pyLDAvis) (2.11.0)\n",
            "Collecting funcy (from pyLDAvis)\n",
            "  Downloading funcy-2.0-py2.py3-none-any.whl.metadata (5.9 kB)\n",
            "Requirement already satisfied: scikit-learn>=1.0.0 in /usr/local/lib/python3.11/dist-packages (from pyLDAvis) (1.6.1)\n",
            "Requirement already satisfied: gensim in /usr/local/lib/python3.11/dist-packages (from pyLDAvis) (4.3.3)\n",
            "Requirement already satisfied: setuptools in /usr/local/lib/python3.11/dist-packages (from pyLDAvis) (75.2.0)\n",
            "Requirement already satisfied: python-dateutil>=2.8.2 in /usr/local/lib/python3.11/dist-packages (from pandas>=2.0.0->pyLDAvis) (2.9.0.post0)\n",
            "Requirement already satisfied: pytz>=2020.1 in /usr/local/lib/python3.11/dist-packages (from pandas>=2.0.0->pyLDAvis) (2025.2)\n",
            "Requirement already satisfied: tzdata>=2022.7 in /usr/local/lib/python3.11/dist-packages (from pandas>=2.0.0->pyLDAvis) (2025.2)\n",
            "Requirement already satisfied: threadpoolctl>=3.1.0 in /usr/local/lib/python3.11/dist-packages (from scikit-learn>=1.0.0->pyLDAvis) (3.6.0)\n",
            "Requirement already satisfied: smart-open>=1.8.1 in /usr/local/lib/python3.11/dist-packages (from gensim->pyLDAvis) (7.3.0.post1)\n",
            "Requirement already satisfied: MarkupSafe>=2.0 in /usr/local/lib/python3.11/dist-packages (from jinja2->pyLDAvis) (3.0.2)\n",
            "Requirement already satisfied: six>=1.5 in /usr/local/lib/python3.11/dist-packages (from python-dateutil>=2.8.2->pandas>=2.0.0->pyLDAvis) (1.17.0)\n",
            "Requirement already satisfied: wrapt in /usr/local/lib/python3.11/dist-packages (from smart-open>=1.8.1->gensim->pyLDAvis) (1.17.2)\n",
            "Downloading pyLDAvis-3.4.1-py3-none-any.whl (2.6 MB)\n",
            "\u001b[2K   \u001b[90m━━━━━━━━━━━━━━━━━━━━━━━━━━━━━━━━━━━━━━━━\u001b[0m \u001b[32m2.6/2.6 MB\u001b[0m \u001b[31m38.7 MB/s\u001b[0m eta \u001b[36m0:00:00\u001b[0m\n",
            "\u001b[?25hDownloading funcy-2.0-py2.py3-none-any.whl (30 kB)\n",
            "Installing collected packages: funcy, pyLDAvis\n",
            "Successfully installed funcy-2.0 pyLDAvis-3.4.1\n"
          ]
        }
      ]
    },
    {
      "cell_type": "code",
      "source": [
        "import pyLDAvis.gensim\n",
        "import pyLDAvis\n",
        "\n",
        "# Assuming 'lda_model' and 'corpus' are already defined and loaded\n",
        "\n",
        "# Prepare the visualization data\n",
        "vis_data = pyLDAvis.gensim.prepare(lda_model, corpus, id2word)\n",
        "\n",
        "# Display the visualization\n",
        "pyLDAvis.display(vis_data)\n"
      ],
      "metadata": {
        "colab": {
          "base_uri": "https://localhost:8080/",
          "height": 862
        },
        "id": "TcTMnjLv-Hys",
        "outputId": "a1676774-707b-4e33-a045-5e3170a8ccbd"
      },
      "execution_count": 11,
      "outputs": [
        {
          "output_type": "execute_result",
          "data": {
            "text/plain": [
              "<IPython.core.display.HTML object>"
            ],
            "text/html": [
              "\n",
              "<link rel=\"stylesheet\" type=\"text/css\" href=\"https://cdn.jsdelivr.net/gh/bmabey/pyLDAvis@3.4.0/pyLDAvis/js/ldavis.v1.0.0.css\">\n",
              "\n",
              "\n",
              "<div id=\"ldavis_el5535137695512350944471707277\" style=\"background-color:white;\"></div>\n",
              "<script type=\"text/javascript\">\n",
              "\n",
              "var ldavis_el5535137695512350944471707277_data = {\"mdsDat\": {\"x\": [0.013550803342948024, 0.031109880087344107, 0.0018612034671036232, 0.044775245933277405, -0.06266023643254859, -0.006555355160847544, 0.016792530626061817, 0.04843380268533117, -0.011710334711638168, -0.07559753983703174], \"y\": [0.0003362129471185181, 0.033929747677179045, 0.023494678516884478, 0.028605186500266864, 0.04147180756884172, 0.028721456239081466, -0.0012435009632604003, -0.07020051162892339, -0.04087293398609676, -0.044242142871091746], \"topics\": [1, 2, 3, 4, 5, 6, 7, 8, 9, 10], \"cluster\": [1, 1, 1, 1, 1, 1, 1, 1, 1, 1], \"Freq\": [16.77379241974476, 15.480136112862464, 14.970507159660999, 14.596283952743958, 10.991369187195902, 8.984180443422304, 8.857244267493163, 4.497280760654778, 2.787362818108839, 2.0618428781128415]}, \"tinfo\": {\"Term\": [\"parliament\", \"fire\", \"event\", \"political\", \"houses\", \"burning\", \"canadian\", \"chamber\", \"palace\", \"building\", \"cause\", \"library\", \"arson\", \"london\", \"days\", \"raged\", \"act\", \"engulfing\", \"westminster\", \"iconic\", \"spread\", \"buildings\", \"much\", \"nation\", \"became\", \"point\", \"ultimately\", \"tragic\", \"destroyed\", \"consumed\", \"indigenous\", \"short\", \"following\", \"widespread\", \"seated\", \"proceedings\", \"oppressive\", \"redistribution\", \"alter\", \"colonists\", \"representation\", \"disruptions\", \"way\", \"escalated\", \"minimal\", \"conflated\", \"census\", \"required\", \"notorious\", \"target\", \"extinguished\", \"rallying\", \"built\", \"scale\", \"events\", \"minor\", \"large\", \"decades\", \"dangerous\", \"distinguish\", \"population\", \"became\", \"power\", \"people\", \"act\", \"tensions\", \"project\", \"important\", \"within\", \"broke\", \"parliamentary\", \"fire\", \"reconstruction\", \"magnificent\", \"british\", \"major\", \"westminster\", \"palace\", \"parliament\", \"event\", \"incident\", \"extensive\", \"colony\", \"october\", \"colonial\", \"house\", \"building\", \"lords\", \"rapidly\", \"houses\", \"burning\", \"gothic\", \"devastating\", \"historic\", \"quickly\", \"neo\", \"blaze\", \"spread\", \"structure\", \"ultimately\", \"iconic\", \"th\", \"today\", \"significant\", \"political\", \"destruction\", \"standing\", \"varied\", \"survived\", \"hindering\", \"ability\", \"majority\", \"majestic\", \"bring\", \"exterior\", \"relocated\", \"forever\", \"function\", \"altering\", \"insulation\", \"sessions\", \"inspiring\", \"represented\", \"reaching\", \"spearheaded\", \"quebec\", \"city\", \"requiring\", \"got\", \"example\", \"awe\", \"priceless\", \"welby\", \"transformation\", \"masterpiece\", \"seat\", \"irreplaceable\", \"smoldering\", \"canadian\", \"big\", \"ruin\", \"clock\", \"extensive\", \"structure\", \"history\", \"tower\", \"engulfed\", \"iconic\", \"barry\", \"nation\", \"consumed\", \"leaving\", \"ben\", \"london\", \"houses\", \"parliament\", \"building\", \"spread\", \"started\", \"devastating\", \"neo\", \"fire\", \"charles\", \"pugin\", \"blaze\", \"gothic\", \"house\", \"october\", \"wooden\", \"th\", \"lords\", \"destruction\", \"event\", \"british\", \"burning\", \"outcry\", \"landmarks\", \"eventually\", \"books\", \"intact\", \"grander\", \"resulting\", \"thinking\", \"ravaged\", \"nd\", \"often\", \"pipe\", \"determination\", \"accounts\", \"ironically\", \"chapel\", \"stronger\", \"numerous\", \"winds\", \"attributed\", \"resilience\", \"force\", \"causing\", \"news\", \"room\", \"reached\", \"catastrophe\", \"strong\", \"resistant\", \"another\", \"valuable\", \"trail\", \"point\", \"miraculously\", \"highlighting\", \"leading\", \"french\", \"january\", \"fire\", \"library\", \"wooden\", \"blaze\", \"evening\", \"parliament\", \"significant\", \"house\", \"historical\", \"structure\", \"vulnerability\", \"building\", \"rapidly\", \"lords\", \"ignited\", \"destruction\", \"event\", \"th\", \"burning\", \"damage\", \"leaving\", \"quickly\", \"records\", \"iconic\", \"historic\", \"incident\", \"october\", \"history\", \"houses\", \"palace\", \"gothic\", \"devastating\", \"huge\", \"confusion\", \"possibilities\", \"us\", \"malta\", \"elements\", \"persist\", \"saved\", \"incorporated\", \"never\", \"conspiracy\", \"aware\", \"famously\", \"redesign\", \"referring\", \"gave\", \"burned\", \"abound\", \"development\", \"negligent\", \"inadequate\", \"seems\", \"opportunity\", \"upper\", \"floors\", \"augustus\", \"weight\", \"modern\", \"valletta\", \"one\", \"tower\", \"clock\", \"impact\", \"exact\", \"pugin\", \"profound\", \"charles\", \"designed\", \"including\", \"ben\", \"fire\", \"known\", \"barry\", \"parliament\", \"iconic\", \"ultimately\", \"today\", \"cause\", \"house\", \"building\", \"destroyed\", \"commons\", \"westminster\", \"october\", \"devastating\", \"lords\", \"blaze\", \"palace\", \"houses\", \"big\", \"theories\", \"raged\", \"chamber\", \"gothic\", \"leading\", \"led\", \"reconstruction\", \"british\", \"historic\", \"structure\", \"th\", \"debates\", \"shook\", \"blazing\", \"social\", \"official\", \"inconclusive\", \"symbolizing\", \"lengthy\", \"transforming\", \"reigniting\", \"remained\", \"morning\", \"infrastructural\", \"infrastructure\", \"sydney\", \"home\", \"without\", \"australia\", \"adequacy\", \"hoax\", \"investment\", \"prevention\", \"ignition\", \"foundations\", \"movement\", \"skeleton\", \"charred\", \"inadequacies\", \"stark\", \"cultural\", \"fledgling\", \"reminder\", \"vulnerability\", \"colony\", \"dramatic\", \"colonial\", \"town\", \"cape\", \"measures\", \"fire\", \"engulfed\", \"early\", \"artifacts\", \"building\", \"parliament\", \"accidental\", \"theories\", \"cause\", \"event\", \"house\", \"quickly\", \"safety\", \"leaving\", \"blaze\", \"british\", \"th\", \"fueled\", \"structure\", \"devastating\", \"arson\", \"political\", \"burning\", \"know\", \"historical\", \"reconstruction\", \"malicious\", \"story\", \"valued\", \"alarming\", \"intent\", \"tale\", \"unable\", \"speed\", \"contain\", \"blow\", \"erupted\", \"artworks\", \"valiantly\", \"enduring\", \"modernization\", \"statement\", \"style\", \"symbolic\", \"provincial\", \"battled\", \"grand\", \"hobart\", \"halls\", \"years\", \"complex\", \"candle\", \"institution\", \"portion\", \"tasmania\", \"prominent\", \"spirit\", \"town\", \"though\", \"engulfing\", \"cape\", \"firefighters\", \"flames\", \"loss\", \"ultimately\", \"parliament\", \"lost\", \"lives\", \"chamber\", \"burning\", \"fire\", \"th\", \"event\", \"house\", \"october\", \"quickly\", \"building\", \"lords\", \"nation\", \"revival\", \"new\", \"structure\", \"blaze\", \"devastating\", \"spread\", \"houses\", \"gothic\", \"palace\", \"westminster\", \"significant\", \"else\", \"accurate\", \"somewhere\", \"something\", \"related\", \"provide\", \"write\", \"tell\", \"separate\", \"clarify\", \"context\", \"lesser\", \"mean\", \"finished\", \"helpful\", \"paragraph\", \"cabinet\", \"storage\", \"near\", \"contents\", \"brings\", \"describing\", \"type\", \"details\", \"small\", \"day\", \"area\", \"flimsy\", \"gaping\", \"escapes\", \"attack\", \"houses\", \"event\", \"parliament\", \"building\", \"main\", \"consumed\", \"fire\", \"palace\", \"burning\", \"british\", \"much\", \"devastating\", \"incident\", \"britain\", \"gothic\", \"arson\", \"westminster\", \"october\", \"today\", \"architect\", \"iconic\", \"significant\", \"rebuild\", \"blaze\", \"led\", \"structure\", \"barry\", \"lords\", \"historic\", \"house\", \"charles\", \"chamber\", \"history\", \"five\", \"end\", \"radicalism\", \"restoration\", \"heroic\", \"outdated\", \"sent\", \"techniques\", \"designing\", \"monumental\", \"blazed\", \"tasked\", \"ensue\", \"shockwaves\", \"fighting\", \"claiming\", \"commissioned\", \"original\", \"william\", \"orange\", \"would\", \"queen\", \"anne\", \"four\", \"site\", \"successor\", \"governance\", \"constructed\", \"defining\", \"burned\", \"days\", \"parliament\", \"raged\", \"fire\", \"london\", \"houses\", \"iconic\", \"act\", \"palace\", \"project\", \"destroyed\", \"burning\", \"roof\", \"building\", \"westminster\", \"structure\", \"including\", \"spread\", \"october\", \"became\", \"quickly\", \"interior\", \"blaze\", \"th\", \"much\", \"british\", \"library\", \"devastating\", \"accident\", \"house\", \"ultimately\", \"woes\", \"plunged\", \"uncertainty\", \"accusations\", \"suspected\", \"turmoil\", \"province\", \"economic\", \"young\", \"kingston\", \"amidst\", \"annals\", \"arsonist\", \"hardship\", \"powerful\", \"simmering\", \"ontario\", \"financial\", \"provisional\", \"factions\", \"corruption\", \"ripped\", \"fledgling\", \"tensions\", \"canada\", \"originated\", \"symbol\", \"ashes\", \"constructed\", \"governance\", \"occurred\", \"canadian\", \"political\", \"fire\", \"parliament\", \"event\", \"chamber\", \"nation\", \"burning\", \"library\", \"devastating\", \"building\", \"records\", \"incident\", \"palace\", \"rapidly\", \"westminster\", \"ignited\", \"houses\", \"blaze\", \"consumed\", \"gothic\", \"believed\", \"leaving\", \"buildings\", \"destruction\", \"history\", \"old\", \"destroyed\", \"significant\", \"iconic\", \"potentially\", \"existing\", \"party\", \"december\", \"rd\", \"ascendency\", \"unrest\", \"isolated\", \"towards\", \"reformers\", \"depth\", \"division\", \"saw\", \"dissatisfaction\", \"deeper\", \"grievances\", \"culmination\", \"reforms\", \"contested\", \"sought\", \"montreal\", \"reform\", \"tension\", \"eventual\", \"canada\", \"contributing\", \"years\", \"seemingly\", \"force\", \"current\", \"politics\", \"fuelled\", \"point\", \"political\", \"profound\", \"parliament\", \"cause\", \"engulfing\", \"fire\", \"remains\", \"event\", \"burning\", \"building\", \"arson\", \"blaze\", \"exact\", \"much\", \"canadian\", \"chamber\", \"destroying\", \"government\", \"ultimately\"], \"Freq\": [86.0, 107.0, 28.0, 11.0, 25.0, 23.0, 6.0, 13.0, 21.0, 48.0, 13.0, 12.0, 10.0, 9.0, 7.0, 12.0, 5.0, 7.0, 19.0, 24.0, 12.0, 5.0, 11.0, 10.0, 5.0, 4.0, 14.0, 5.0, 12.0, 9.0, 1.2838620006506924, 0.7905878583404926, 0.7763527306620296, 1.2136437554807742, 0.7670523215164083, 0.7730925603816542, 0.7657599561953271, 0.7650640959985255, 0.6855308912543892, 0.7429574986901206, 0.735901852232665, 0.7417873444796147, 0.6522158427602414, 0.7244902570802889, 0.7294129855603814, 0.7285803638244076, 0.7178703116542507, 0.7231873380148606, 0.7188398198257794, 0.7113849420806856, 0.7141996694117847, 0.7055241793175314, 0.6259262782471017, 0.7007018675292147, 1.0365889571143463, 0.7057984517741727, 0.698373986298292, 1.6096073790556242, 0.6172802012509992, 0.7005945190881933, 1.4296892686651859, 2.3053531707705375, 1.0787375520751878, 0.9874256817096094, 2.225205912960337, 1.1007329291547043, 2.403718314562298, 1.3196571790664031, 2.4008379541820344, 1.449989926726413, 1.720107954986311, 19.658934451345274, 3.7740861727682082, 2.330369916246505, 4.634258801825029, 2.640432430551682, 4.717047618131568, 4.809021814015165, 13.118962177559675, 5.820118482676011, 3.3551632218313476, 2.5841978341934473, 2.1669907097635708, 4.693019052836359, 2.397462254747564, 5.428924027478594, 6.73199946317819, 3.862923720894024, 2.0650964937792544, 4.398358510666006, 3.9818230789828584, 3.2910499118529684, 3.917382040895997, 2.8633934564520414, 3.161850349074154, 2.4230232986597984, 3.9358529669491213, 2.6032015682156207, 3.3787084381250994, 2.7400507846485143, 3.122677597778231, 2.886928431242403, 2.7217184935803043, 2.594729097191618, 2.48704143759448, 2.4957407204496573, 1.1581868154905677, 0.772824791162674, 0.7558690656483229, 0.7362924115727338, 0.714107507966702, 1.1457438451960116, 0.7214889515358643, 0.6893736581151737, 0.7050384853987012, 0.6931687801919616, 0.6947895637512926, 0.6918600736860665, 0.6847773365560469, 0.692846329386057, 0.6730714213743978, 0.6354500859350263, 0.9781899921820552, 0.6227516331699473, 0.6174851672013371, 0.630882810882812, 1.5153540756155146, 0.6007086194449051, 0.6117581066231128, 0.6122961585844937, 0.5673806919925719, 0.5603055622810293, 0.5686776992109606, 0.5389679637238644, 1.228589900314791, 0.898379412299558, 1.522950313492739, 1.8790800831068912, 2.155748753032828, 2.637031852459197, 1.165810025124211, 3.8759714150842597, 2.8155878768137117, 5.895288725148643, 3.157227127923803, 3.1900370017042365, 3.5563399645727753, 5.568992714995547, 3.684201996418507, 2.8344150849053893, 2.6517293849569685, 3.641494871199357, 2.2570682712840995, 2.6335089261207982, 5.2663631531969, 12.428080040790219, 7.95993610611195, 3.0335000738121276, 2.6201901805900443, 4.810937438646387, 2.6045050668572443, 12.824294681527247, 3.3937258619566206, 2.319833162165558, 4.899439839930728, 3.5621236773658707, 5.1753383163678155, 4.286891426265369, 2.851098845209184, 3.1730219729049387, 3.1832993647396783, 2.7754096419186176, 3.4206639613118908, 2.8746341232268606, 2.733618634306377, 0.8892397625283691, 0.8724521578825628, 0.8708994468548026, 0.8507546110999055, 0.8481188647624991, 0.8463503492514666, 2.510335619433588, 0.7345694790523756, 1.7694786054207443, 0.634692355168586, 1.8730348836304072, 0.6810393776213081, 0.5808811282691233, 0.6739341041849689, 0.6153732279414992, 0.6619835407813542, 0.5633200941774564, 0.6590497813829825, 0.5994321208400993, 0.6557120016593934, 0.9085193739035344, 0.5931906226831394, 2.348309702568037, 0.6449829741183516, 0.9648600612030067, 0.6399781159084085, 0.5358244739457203, 0.5867895005488829, 0.5801443164744792, 0.9167468640936677, 1.7130393792972987, 1.1930926979144973, 1.5283931173976595, 0.9476640331962962, 1.6864615412003887, 3.5642379926536063, 1.1985232572203173, 0.9469533052079981, 19.674973214307002, 3.42675069528115, 3.6342444765624546, 6.5760463818908494, 1.1329150158199814, 13.671811490532118, 3.7262904392025344, 6.447480860981286, 2.9778715736730397, 5.231341893998308, 2.0156143196417333, 7.547805498403101, 2.031810802812956, 3.9329296971528644, 2.416451974607956, 2.9568997474938667, 4.573613970809998, 3.6422644667290283, 3.9681624543092817, 2.1945425430194576, 2.9502708936657434, 3.1168652665966032, 2.2532917465741304, 3.554598577108426, 2.6610239980792825, 2.610294338814152, 3.2598529030303176, 2.428122582970383, 2.7957290227748377, 2.5060175233214967, 2.377266071689775, 2.455305030322081, 0.9310502913176988, 0.9248831933598997, 0.8928524642541319, 0.8800830479844519, 1.3270961401706893, 0.7200948720495921, 0.7653164894023475, 0.7634232346718939, 0.6797775126236081, 0.6860391646351096, 0.7470677744034376, 0.6576074671251496, 0.9628327345203826, 0.7224615491454796, 0.6536001685147064, 1.0990066569091568, 0.8748146482681063, 0.6767503156870586, 0.6659202356636597, 0.6669501684106828, 0.6637144634832967, 1.4431930851566674, 0.6641087647555175, 0.6557644781991068, 0.6470663203796445, 2.0881438944382475, 0.6833128560866922, 0.6363413366435215, 0.6337864209027922, 0.6419868114050629, 4.874987469595297, 4.855591498744798, 1.825564461553534, 1.7216301023098255, 2.9967046671070765, 1.7089558378493597, 4.52702420465789, 1.4819742672584497, 1.8029021372203116, 2.4498879236300786, 19.090749495684616, 2.4519222486613432, 3.8053311517350874, 13.806891604435322, 5.379797433545419, 3.6728902668596097, 3.7549623160106735, 3.3514553915408265, 6.387301524299137, 8.153820783214275, 3.0373411736350113, 2.244415009234402, 3.9474839334368186, 4.518518252406212, 4.182486622217836, 3.666156714042159, 4.405435516759751, 3.7098828557869328, 4.038187137448601, 2.1578219721225222, 2.1053486022648995, 2.5829491700441, 2.538739172383139, 2.768669633938538, 2.4112594408908845, 2.3462023393621454, 2.4338322105801407, 2.532416657992243, 2.430549119943083, 2.601519151459957, 2.487482615382127, 1.4309239581379238, 1.629740381773979, 0.8431600526506269, 1.1537112369690623, 0.8104393246077358, 0.8098204437284651, 0.7923389003092982, 0.7912604009404766, 0.7811313620588395, 0.7797426856822902, 0.7742770230743539, 0.7377524118804943, 0.7349578725385771, 1.5036538373372121, 0.7296588380012828, 1.0255091871305144, 0.7268814034072852, 0.7272838969492389, 0.7221762064341258, 0.7216606906104646, 0.7151466460845888, 0.7133531846209101, 1.4783928254097198, 0.6972806959621775, 0.6940450341739142, 0.9701525758408356, 0.9738961422491403, 0.6342653724108491, 0.8890610938176636, 0.5747723993174595, 0.7285854127682077, 1.1487114945999104, 2.2778330605370978, 2.362658042537981, 1.2966659272859675, 2.6531079562558877, 1.938751156688866, 2.159764305306942, 1.7446379658443911, 14.087982383199938, 3.216966707991688, 1.3273051957411184, 1.9069104638343903, 6.040989070141001, 8.527699910772206, 2.166467238628025, 1.8782828446800164, 2.5256188224897183, 3.589599452122753, 3.6138106089961215, 2.571674952160619, 1.7491744068835309, 2.3576079680158597, 3.157861537998857, 2.5060991133184545, 2.560981947643032, 1.8193546147111186, 2.5718183374159063, 2.4513195622085875, 1.8484431618094297, 1.861482381223464, 2.1297034883268884, 1.683259091991748, 1.7220669005897196, 1.6861498762310498, 0.6435809018161541, 0.6263692854514205, 0.6168446337938532, 0.6085641050988121, 0.6045137817838282, 0.5993931300786723, 0.598033813023154, 0.5636461687126598, 0.856441256292167, 1.0873120934851284, 0.7818088631380604, 0.5153269628368764, 0.6853957555126247, 0.945009860250508, 0.7160672196524416, 0.6898231020030466, 0.593284966642534, 1.0642942800813335, 0.4407552104756254, 0.6712803984940854, 0.8728962173805735, 0.6507982599421326, 0.6242843526428898, 0.7836537079095706, 0.8319194308136076, 0.6168244982410132, 0.6151788014455993, 0.391440431958171, 0.387257956534763, 0.3844801867801692, 0.7369165477377478, 1.470851026789428, 1.8918226886742608, 1.6171857891295454, 1.5349025548514408, 1.2913890656092926, 1.9629501577237005, 1.628933713540073, 2.391696417452645, 8.050554726143591, 1.781991074707812, 1.825521464127155, 2.0731154465657853, 2.72027545962315, 6.6336347373229065, 2.4485113214776564, 2.8816205073070393, 3.053319644255355, 2.4912190297381036, 2.019366230632324, 3.1018892735266768, 1.995692305925354, 1.484223977278334, 1.1982054732146274, 1.2972515217843619, 2.063407166693779, 2.1459756434878647, 1.8846378417731338, 1.4942514825927091, 1.8457801047321352, 1.6334874256760596, 1.717485861199415, 1.6374317195848922, 1.561811279535608, 1.1096397266988576, 1.0690440440746027, 0.5877165000982855, 0.579130817485275, 0.5750140636593875, 0.5739603086911065, 0.5739526584485029, 0.5732192244140648, 0.571183336576361, 0.5684673685513426, 0.566037361318818, 0.5643277299480115, 0.56140243545727, 0.5696871205940485, 0.5573618543055823, 0.5558442044539061, 0.5562355539333015, 0.5558709803030188, 0.5569070605728706, 0.5530145379957099, 0.5507861080607538, 0.5502072287120189, 0.5423925718427919, 0.8480626315960004, 0.5399412296664546, 0.5435256980780854, 0.538855983397801, 0.5112919614458687, 0.4996280454404117, 0.4747658451597179, 0.6774963838255984, 4.158246367556316, 4.409151110425659, 9.241842338313873, 5.680877054770279, 1.187396924422751, 1.840697965106332, 7.666016876262273, 2.7525319638402035, 2.8213662087728544, 2.472528599922863, 1.8630188669097287, 2.756705039279742, 1.9909172055658046, 0.8261555683472389, 2.101113806142254, 1.5558869513155567, 2.0378215024722506, 2.2098039684294633, 1.770973258314767, 1.4331919647365507, 2.088253880226309, 1.6896689860374865, 0.9704367696382253, 2.0943705129893697, 1.3687343180768412, 1.872359945029479, 1.471270519693114, 1.613401739011015, 1.4250856093928772, 1.8152963897468994, 1.344869254374125, 1.2891423811354255, 1.2572785930884245, 0.5397296455162726, 0.5386735511003108, 0.5386146485041513, 0.5385022346239311, 0.5384600082602261, 0.5381552149513897, 0.5380800714461129, 0.5372655145094566, 0.536811673187257, 0.5367602380606504, 0.5367160694851335, 0.5363561240581193, 0.536049087159776, 0.5343207195655895, 0.531847446768693, 0.5317914909766621, 0.45538457691622575, 0.44637633064104315, 0.43015105967746886, 0.4265503664101367, 0.732473975548333, 0.4202115228384486, 0.41223254836437634, 0.40409833089098895, 0.40074958937664357, 0.3963374868952468, 0.38890393907623144, 0.38852242840082235, 0.5409228332970306, 0.5188518731299548, 1.2990083206864218, 4.632361623872794, 1.4396970544108332, 4.500386054173789, 1.2076047520655324, 1.791458000849385, 1.6653495181702234, 0.855320279084424, 1.5175084889890158, 0.8910254991986798, 1.078518791705806, 1.2710679294507636, 0.7121992264432202, 1.5021188044279241, 1.1106198024796217, 1.0858128686248756, 0.7426173441683781, 0.8840763323082866, 0.9925817456617474, 0.7201071092676924, 0.876589306691621, 0.7343774100968807, 0.9247033180725275, 0.8550672557662995, 0.7488150760060037, 0.7986437925255917, 0.7500911091664654, 0.8145273346694916, 0.642329228072882, 0.8286792275509711, 0.7399824324677513, 0.30844955956993547, 0.30844327095898655, 0.30844310492305393, 0.3084429181326297, 0.30844233700686546, 0.3084411955098285, 0.3084399087313505, 0.3084399709948253, 0.3084373559288861, 0.3084372936654114, 0.30843733517439453, 0.308436816312105, 0.3084357993420176, 0.30843501067133755, 0.3084347201084554, 0.3084326446592974, 0.3084322503239573, 0.30842901262327077, 0.3084281409346244, 0.3084216240242681, 0.3084088185029629, 0.3084271239645369, 0.30843893327024624, 0.3370089022362362, 0.30842826546157387, 0.4035673944833811, 0.38215108367535894, 0.14838246304577665, 0.11901149523172874, 0.11881292663353228, 0.5105980585101365, 0.588822858019598, 0.9330023955879149, 2.460949726103878, 2.024107859029988, 1.064500695774858, 0.7057200413077919, 0.629828295705878, 0.7849041549270874, 0.6250812868826021, 0.722683434438234, 0.8606772263461441, 0.5507816598388118, 0.5636415994209062, 0.6057087538784784, 0.48078659736678403, 0.5897041767500725, 0.5001458890052793, 0.6040629226961446, 0.6102407876779634, 0.4710434012943168, 0.5188145126729587, 0.4428563526979872, 0.5005895785262874, 0.4094229837199379, 0.4635922482540341, 0.4215793875464365, 0.38391027589070553, 0.4139809606338985, 0.398708934040318, 0.40102442964798835, 0.31811319855209363, 0.3141236204864983, 0.30713035998007243, 0.3042733229503067, 0.30357752486401324, 0.29884646019209415, 0.2956564926363287, 0.29498504333792763, 0.2952421333770493, 0.29134430080732104, 0.2886888091038176, 0.2854131755729955, 0.28218768273653444, 0.28036708118635195, 0.27842320046417934, 0.2772779784076693, 0.2740786152288331, 0.3168806831740474, 0.30131198222259564, 0.30412827418107097, 0.30895716386966765, 0.2870646559079048, 0.27820783804516597, 0.2681024155674885, 0.2775694883600664, 0.3054548379037762, 0.3187761426622901, 0.15760362450699456, 0.15586039867621806, 0.15400319718257052, 0.2994779013308182, 0.2911652619899177, 0.3282550060406823, 0.5818359948779492, 0.34700007238770236, 0.888377531774272, 0.475040246084044, 0.4031024124057983, 0.8746028114409691, 0.42961372883704035, 0.5220156594284429, 0.4426129418112014, 0.49250062985171983, 0.38074515885319055, 0.41286989949943514, 0.3146234000836299, 0.3284912476220751, 0.31314408072439887, 0.31512827665275406, 0.306699543028094, 0.3070227094752163, 0.307760726456027], \"Total\": [86.0, 107.0, 28.0, 11.0, 25.0, 23.0, 6.0, 13.0, 21.0, 48.0, 13.0, 12.0, 10.0, 9.0, 7.0, 12.0, 5.0, 7.0, 19.0, 24.0, 12.0, 5.0, 11.0, 10.0, 5.0, 4.0, 14.0, 5.0, 12.0, 9.0, 2.5718774436628893, 1.6459421577420619, 1.6473377922864725, 2.5818914093078327, 1.6436186451397246, 1.6586047247675715, 1.646015132848331, 1.6465016640350711, 1.4946954696490382, 1.6434371616652188, 1.6428850701853528, 1.6594088366228552, 1.4791343721249184, 1.646697939035492, 1.6593896865964133, 1.659535179554813, 1.6438259513438205, 1.6599785610092224, 1.6594939030437634, 1.6463070813183645, 1.6605148155672602, 1.640628825501283, 1.4668737114681771, 1.642990638938151, 2.434370118560277, 1.660267329603542, 1.6433217956559363, 3.809300612053745, 1.4628431058284892, 1.6603723161874813, 3.4098943594509588, 5.722735544382472, 2.595012801040375, 2.3817432887383303, 5.736109691030467, 2.702048108310052, 6.74440558889618, 3.4739010249103095, 7.382144906090959, 3.967194914254713, 4.9232244074325, 107.4725244313679, 13.329431151163607, 7.336428952413874, 18.23218387491188, 8.975801041418903, 19.321857334288644, 21.284151611399025, 86.39068930322405, 28.267793363201534, 13.679575998778343, 9.538222314335599, 7.643292022119299, 24.256645069733942, 9.077540860434745, 33.115735351562144, 48.07261390997125, 19.986831055767166, 7.501255657047549, 25.934841030143215, 23.04461565668137, 17.531277996564068, 24.21541942831489, 13.939379713753091, 17.42012226649411, 10.11657982997225, 29.162796405256465, 12.386180730279682, 25.297077331403756, 14.981362593533005, 24.941673171367356, 19.544822213253372, 15.494406599692939, 15.846658942172228, 11.255063256990203, 13.855968820508325, 2.3470864301788326, 1.5963286216240893, 1.61222357727216, 1.593088365512734, 1.5862237133924324, 2.5503008520480885, 1.6083735363639164, 1.5480119184966052, 1.5848946022366535, 1.5679973644156062, 1.5770645530116505, 1.5761988913292901, 1.5693523377788787, 1.60199637956697, 1.5679477906790278, 1.5346871593468232, 2.380699170311402, 1.5262867746430124, 1.5255990155142507, 1.5634868633822472, 3.797712445670054, 1.5091739535623623, 1.6062149080444033, 1.6078297559739556, 1.5040070159808472, 1.4877289655272539, 1.5106579474468118, 1.4849766052841318, 3.3939293525618637, 2.4866633913476797, 4.2560649171631955, 5.356829997250334, 6.1921405098254025, 7.951637769330633, 3.278339094871015, 13.019064857376172, 9.538222314335599, 25.297077331403756, 11.779462083679531, 12.15722249702311, 13.974667190851434, 24.941673171367356, 14.861329242593909, 10.561110407513914, 9.76634111273887, 15.157020231036194, 7.956877130950943, 9.89659224121873, 25.934841030143215, 86.39068930322405, 48.07261390997125, 12.386180730279682, 10.112242545991984, 24.21541942831489, 10.11657982997225, 107.4725244313679, 14.994571399750457, 8.70992849265059, 29.162796405256465, 17.531277996564068, 33.115735351562144, 24.256645069733942, 13.798030326537313, 19.544822213253372, 19.986831055767166, 13.855968820508325, 28.267793363201534, 18.23218387491188, 23.04461565668137, 1.6728440854131696, 1.6724602814481788, 1.6724716042718646, 1.672010116073671, 1.6719906796905877, 1.671960815976079, 5.6724343890705375, 1.6649542316125392, 4.184816247768713, 1.529760313600164, 4.5190251131627965, 1.6726155722001577, 1.4274044437752553, 1.663450007001138, 1.5427605378320746, 1.6623512577365334, 1.416739601159648, 1.6731808695856625, 1.522966535239636, 1.6722136405936836, 2.3224589717555597, 1.5188793491132107, 6.016672747978603, 1.6593857298311208, 2.5183449701066465, 1.6730137113341539, 1.4047579610839889, 1.5397595742039458, 1.5270840084379196, 2.4132211192043904, 4.564516192446676, 3.1734990098287894, 4.113473304607738, 2.5593324931672523, 4.967557607771749, 11.855918798794592, 3.4330822710603432, 2.612695904939333, 107.4725244313679, 12.747273297957157, 13.798030326537313, 29.162796405256465, 3.3129564249564036, 86.39068930322405, 15.846658942172228, 33.115735351562144, 11.875016166783542, 25.297077331403756, 7.105025673926822, 48.07261390997125, 7.501255657047549, 19.986831055767166, 9.837300909656664, 13.855968820508325, 28.267793363201534, 19.544822213253372, 23.04461565668137, 8.88168180504029, 15.157020231036194, 17.42012226649411, 9.951317122345591, 24.941673171367356, 13.939379713753091, 13.679575998778343, 24.256645069733942, 11.779462083679531, 25.934841030143215, 21.284151611399025, 17.531277996564068, 24.21541942831489, 1.6215690877512143, 1.6185696814389148, 1.6029971601246147, 1.596793812873825, 2.448863712765109, 1.549163795431796, 1.67777964095693, 1.6770235518666137, 1.4945468515613152, 1.534221555752964, 1.676924778420235, 1.480920640121547, 2.1920721007000057, 1.6759391158744208, 1.5176688560517673, 2.5534427839090132, 2.0395914015753895, 1.5939614970432805, 1.5685137530651254, 1.5731872044769666, 1.5746433711188408, 3.4275002176282, 1.587292487768524, 1.5689400247415433, 1.558986732180116, 5.0987560391582685, 1.6764213690029568, 1.5643685281775184, 1.5588421361569893, 1.580568171640003, 12.15722249702311, 13.019064857376172, 4.700600433149054, 4.636561865172245, 8.70992849265059, 4.651523330608896, 14.994571399750457, 4.097576912674181, 5.318512547004482, 7.956877130950943, 107.4725244313679, 8.37252747192684, 14.861329242593909, 86.39068930322405, 24.941673171367356, 14.981362593533005, 15.494406599692939, 13.2326664175007, 33.115735351562144, 48.07261390997125, 12.130946375023518, 7.985423664066943, 19.321857334288644, 24.256645069733942, 24.21541942831489, 19.986831055767166, 29.162796405256465, 21.284151611399025, 25.934841030143215, 7.951637769330633, 7.601301790662096, 12.484303629346515, 13.288812901189813, 17.531277996564068, 11.855918798794592, 11.035518033002337, 13.329431151163607, 18.23218387491188, 13.939379713753091, 25.297077331403756, 19.544822213253372, 2.49546313582438, 3.042056734649313, 1.605213565119944, 2.258316509479566, 1.607425434646528, 1.6074757142651208, 1.6086598707032476, 1.60875323989444, 1.6094422314921422, 1.6095338374711419, 1.6099158100044861, 1.6041321684943681, 1.6024395561712723, 3.3008651428847, 1.6023573024262865, 2.2564478153594374, 1.600557919716335, 1.6028785529420237, 1.603386355492834, 1.605880227730685, 1.6046580716533316, 1.601080167263822, 3.349018047278493, 1.6059063160189118, 1.6057269221289399, 2.256000256873248, 2.2690903224083327, 1.4920148569033704, 2.257517880164884, 1.4726956084069163, 1.881275871070499, 3.118469469448627, 7.105025673926822, 7.643292022119299, 3.624253353302252, 9.077540860434745, 6.330438207527737, 7.4432236971691745, 5.570261993347956, 107.4725244313679, 13.974667190851434, 4.1035060036812805, 7.462805340992865, 48.07261390997125, 86.39068930322405, 9.25926592429226, 7.601301790662096, 13.2326664175007, 28.267793363201534, 33.115735351562144, 17.42012226649411, 7.905925411150219, 15.157020231036194, 29.162796405256465, 18.23218387491188, 19.544822213253372, 9.594158893817488, 25.297077331403756, 24.21541942831489, 10.32851374907818, 11.255063256990203, 23.04461565668137, 9.061392047130335, 11.875016166783542, 13.329431151163607, 1.4444343809144726, 1.4504209146795957, 1.4506180854307034, 1.4458914320348595, 1.4517354586404465, 1.4568221515726614, 1.460806325944443, 1.4645427200331629, 2.3192180885900378, 3.03171205242708, 2.2427001821463923, 1.5087995787339092, 2.07999836999391, 3.0626659231247424, 2.349655341016442, 2.3679699093803905, 2.041012302091133, 3.694079990608526, 1.536258186726596, 2.3477436391195616, 3.1088311610264125, 2.3544316483306615, 2.2996303990496774, 2.904975897154894, 3.1067506831304987, 2.3064379140905844, 2.381936217241491, 1.5218690076707615, 1.5306133397489572, 1.5232768669462078, 3.0257272818663274, 6.330438207527737, 8.628952807589043, 7.896216546430521, 7.4432236971691745, 6.007829210638314, 10.868741933004635, 8.461611764425603, 14.981362593533005, 86.39068930322405, 9.935304214106562, 10.885998889986716, 13.288812901189813, 23.04461565668137, 107.4725244313679, 19.544822213253372, 28.267793363201534, 33.115735351562144, 24.256645069733942, 17.42012226649411, 48.07261390997125, 19.986831055767166, 10.561110407513914, 6.587724756650513, 8.004661540689646, 25.297077331403756, 29.162796405256465, 24.21541942831489, 12.386180730279682, 25.934841030143215, 17.531277996564068, 21.284151611399025, 19.321857334288644, 15.846658942172228, 1.8890856492543258, 1.9013000718408488, 1.3038635628211188, 1.302467021525326, 1.3018123541057605, 1.301631428508076, 1.3016319573987611, 1.30151479816636, 1.3011768285832528, 1.3007415133886815, 1.3003471179651094, 1.30006736512095, 1.2996031877180827, 1.320336573956296, 1.298953624322166, 1.2986947670573725, 1.3036930237393454, 1.3040069216636534, 1.3089889526965797, 1.301734052435096, 1.2978596767434265, 1.2977857748181096, 1.2965354079004086, 2.0337900080454205, 1.2961358440436062, 1.3113705391446115, 1.3199905699311263, 1.344688027724054, 1.3421245718551857, 1.3399755570013925, 1.9638871748587456, 25.934841030143215, 28.267793363201534, 86.39068930322405, 48.07261390997125, 4.57355563890282, 9.76634111273887, 107.4725244313679, 21.284151611399025, 23.04461565668137, 18.23218387491188, 11.357180676876906, 24.21541942831489, 13.679575998778343, 2.797922452163297, 17.531277996564068, 10.32851374907818, 19.321857334288644, 24.256645069733942, 15.494406599692939, 10.176623465768769, 24.941673171367356, 15.846658942172228, 4.541910741617874, 29.162796405256465, 11.035518033002337, 25.297077331403756, 14.861329242593909, 19.986831055767166, 13.939379713753091, 33.115735351562144, 14.994571399750457, 13.288812901189813, 11.779462083679531, 1.2293304172131738, 1.2303008834303386, 1.230384812202893, 1.2304692577540228, 1.2305243236250771, 1.2307862685664925, 1.2308936747693877, 1.2316499792407078, 1.2320483021272715, 1.232112921813126, 1.2321311734828904, 1.232484843023109, 1.232782741689822, 1.2343606912574931, 1.2367007858220125, 1.2367098169427615, 1.1765102487260248, 1.1725463864638928, 1.1653907874061227, 1.1638119103775568, 2.000077805007525, 1.1610255156884877, 1.1575064729548994, 1.1539186246309292, 1.1524500362401007, 1.1505035826074803, 1.147240218777348, 1.147058405733275, 2.0231609233379872, 2.0395914015753895, 7.676764511872153, 86.39068930322405, 12.484303629346515, 107.4725244313679, 9.89659224121873, 25.934841030143215, 24.941673171367356, 5.736109691030467, 21.284151611399025, 6.74440558889618, 12.130946375023518, 23.04461565668137, 4.577576952780635, 48.07261390997125, 19.321857334288644, 25.297077331403756, 5.318512547004482, 12.386180730279682, 24.256645069733942, 5.722735544382472, 17.42012226649411, 6.681562668684717, 29.162796405256465, 19.544822213253372, 11.357180676876906, 18.23218387491188, 12.747273297957157, 24.21541942831489, 4.372512768504029, 33.115735351562144, 14.981362593533005, 0.9980765427533855, 0.9980707173482448, 0.9980705047712795, 0.9980703663409962, 0.9980698633991069, 0.9980687826684946, 0.9980675879139823, 0.9980677968310198, 0.998065111250189, 0.9980650106799052, 0.998065409058204, 0.9980648428743454, 0.9980639633848785, 0.9980630529077796, 0.998062782069791, 0.9980606875313244, 0.9980601334917415, 0.9980572456748427, 0.9980565096682706, 0.998050392627741, 0.9980387555176782, 1.8013627887583687, 1.881275871070499, 2.702048108310052, 2.4868029796904794, 3.3649677036897185, 3.1921204782890356, 1.351353763471102, 1.147058405733275, 1.147240218777348, 4.983412201923507, 6.1921405098254025, 11.255063256990203, 107.4725244313679, 86.39068930322405, 28.267793363201534, 13.288812901189813, 10.561110407513914, 23.04461565668137, 12.747273297957157, 24.21541942831489, 48.07261390997125, 9.951317122345591, 13.679575998778343, 21.284151611399025, 7.501255657047549, 19.321857334288644, 9.837300909656664, 25.934841030143215, 29.162796405256465, 9.76634111273887, 17.531277996564068, 7.438629677332315, 15.157020231036194, 5.4986891914479985, 13.855968820508325, 11.779462083679531, 5.689284060240805, 12.130946375023518, 15.846658942172228, 24.941673171367356, 1.2902274924922748, 1.2953715237068868, 1.3066614965287782, 1.3054238469607986, 1.3109937216484417, 1.318484072585638, 1.3176516114623822, 1.318824482985827, 1.3211468710064516, 1.3245951706494814, 1.3257869757667007, 1.3298951558740608, 1.338866745427279, 1.340847179095917, 1.3424721942446851, 1.3418272116853482, 1.346514707243923, 2.0620460143840424, 2.0955396250023286, 2.122261488812753, 2.1649789402930324, 2.0947762089847806, 2.16360838189641, 2.1065633663816508, 2.4868029796904794, 2.7823605980464943, 2.904975897154894, 1.5155392292774397, 1.5188793491132107, 1.5199881681622325, 3.115433964166943, 3.149649608144902, 4.113473304607738, 11.255063256990203, 4.651523330608896, 86.39068930322405, 13.2326664175007, 7.896216546430521, 107.4725244313679, 10.443738708697163, 28.267793363201534, 23.04461565668137, 48.07261390997125, 10.32851374907818, 29.162796405256465, 4.636561865172245, 11.357180676876906, 6.1921405098254025, 13.288812901189813, 6.630423380036258, 8.98985340964789, 14.981362593533005], \"Category\": [\"Default\", \"Default\", \"Default\", \"Default\", \"Default\", \"Default\", \"Default\", \"Default\", \"Default\", \"Default\", \"Default\", \"Default\", \"Default\", \"Default\", \"Default\", \"Default\", \"Default\", \"Default\", \"Default\", \"Default\", \"Default\", \"Default\", \"Default\", \"Default\", \"Default\", \"Default\", \"Default\", \"Default\", \"Default\", \"Default\", \"Topic1\", \"Topic1\", \"Topic1\", \"Topic1\", \"Topic1\", \"Topic1\", \"Topic1\", \"Topic1\", \"Topic1\", \"Topic1\", \"Topic1\", \"Topic1\", \"Topic1\", \"Topic1\", \"Topic1\", \"Topic1\", \"Topic1\", \"Topic1\", \"Topic1\", \"Topic1\", \"Topic1\", \"Topic1\", \"Topic1\", \"Topic1\", \"Topic1\", \"Topic1\", \"Topic1\", \"Topic1\", \"Topic1\", \"Topic1\", \"Topic1\", \"Topic1\", \"Topic1\", \"Topic1\", \"Topic1\", \"Topic1\", \"Topic1\", \"Topic1\", \"Topic1\", \"Topic1\", \"Topic1\", \"Topic1\", \"Topic1\", \"Topic1\", \"Topic1\", \"Topic1\", \"Topic1\", \"Topic1\", \"Topic1\", \"Topic1\", \"Topic1\", \"Topic1\", \"Topic1\", \"Topic1\", \"Topic1\", \"Topic1\", \"Topic1\", \"Topic1\", \"Topic1\", \"Topic1\", \"Topic1\", \"Topic1\", \"Topic1\", \"Topic1\", \"Topic1\", \"Topic1\", \"Topic1\", \"Topic1\", \"Topic1\", \"Topic1\", \"Topic1\", \"Topic1\", \"Topic1\", \"Topic1\", \"Topic1\", \"Topic1\", \"Topic2\", \"Topic2\", \"Topic2\", \"Topic2\", \"Topic2\", \"Topic2\", \"Topic2\", \"Topic2\", \"Topic2\", \"Topic2\", \"Topic2\", \"Topic2\", \"Topic2\", \"Topic2\", \"Topic2\", \"Topic2\", \"Topic2\", \"Topic2\", \"Topic2\", \"Topic2\", \"Topic2\", \"Topic2\", \"Topic2\", \"Topic2\", \"Topic2\", \"Topic2\", \"Topic2\", \"Topic2\", \"Topic2\", \"Topic2\", \"Topic2\", \"Topic2\", \"Topic2\", \"Topic2\", \"Topic2\", \"Topic2\", \"Topic2\", \"Topic2\", \"Topic2\", \"Topic2\", \"Topic2\", \"Topic2\", \"Topic2\", \"Topic2\", \"Topic2\", \"Topic2\", \"Topic2\", \"Topic2\", \"Topic2\", \"Topic2\", \"Topic2\", \"Topic2\", \"Topic2\", \"Topic2\", \"Topic2\", \"Topic2\", \"Topic2\", \"Topic2\", \"Topic2\", \"Topic2\", \"Topic2\", \"Topic2\", \"Topic2\", \"Topic2\", \"Topic2\", \"Topic2\", \"Topic2\", \"Topic2\", \"Topic2\", \"Topic3\", \"Topic3\", \"Topic3\", \"Topic3\", \"Topic3\", \"Topic3\", \"Topic3\", \"Topic3\", \"Topic3\", \"Topic3\", \"Topic3\", \"Topic3\", \"Topic3\", \"Topic3\", \"Topic3\", \"Topic3\", \"Topic3\", \"Topic3\", \"Topic3\", \"Topic3\", \"Topic3\", \"Topic3\", \"Topic3\", \"Topic3\", \"Topic3\", \"Topic3\", \"Topic3\", \"Topic3\", \"Topic3\", \"Topic3\", \"Topic3\", \"Topic3\", \"Topic3\", \"Topic3\", \"Topic3\", \"Topic3\", \"Topic3\", \"Topic3\", \"Topic3\", \"Topic3\", \"Topic3\", \"Topic3\", \"Topic3\", \"Topic3\", \"Topic3\", \"Topic3\", \"Topic3\", \"Topic3\", \"Topic3\", \"Topic3\", \"Topic3\", \"Topic3\", \"Topic3\", \"Topic3\", \"Topic3\", \"Topic3\", \"Topic3\", \"Topic3\", \"Topic3\", \"Topic3\", \"Topic3\", \"Topic3\", \"Topic3\", \"Topic3\", \"Topic3\", \"Topic3\", \"Topic3\", \"Topic3\", \"Topic3\", \"Topic3\", \"Topic4\", \"Topic4\", \"Topic4\", \"Topic4\", \"Topic4\", \"Topic4\", \"Topic4\", \"Topic4\", \"Topic4\", \"Topic4\", \"Topic4\", \"Topic4\", \"Topic4\", \"Topic4\", \"Topic4\", \"Topic4\", \"Topic4\", \"Topic4\", \"Topic4\", \"Topic4\", \"Topic4\", \"Topic4\", \"Topic4\", \"Topic4\", \"Topic4\", \"Topic4\", \"Topic4\", \"Topic4\", \"Topic4\", \"Topic4\", \"Topic4\", \"Topic4\", \"Topic4\", \"Topic4\", \"Topic4\", \"Topic4\", \"Topic4\", \"Topic4\", \"Topic4\", \"Topic4\", \"Topic4\", \"Topic4\", \"Topic4\", \"Topic4\", \"Topic4\", \"Topic4\", \"Topic4\", \"Topic4\", \"Topic4\", \"Topic4\", \"Topic4\", \"Topic4\", \"Topic4\", \"Topic4\", \"Topic4\", \"Topic4\", \"Topic4\", \"Topic4\", \"Topic4\", \"Topic4\", \"Topic4\", \"Topic4\", \"Topic4\", \"Topic4\", \"Topic4\", \"Topic4\", \"Topic4\", \"Topic4\", \"Topic4\", \"Topic4\", \"Topic4\", \"Topic5\", \"Topic5\", \"Topic5\", \"Topic5\", \"Topic5\", \"Topic5\", \"Topic5\", \"Topic5\", \"Topic5\", \"Topic5\", \"Topic5\", \"Topic5\", \"Topic5\", \"Topic5\", \"Topic5\", \"Topic5\", \"Topic5\", \"Topic5\", \"Topic5\", \"Topic5\", \"Topic5\", \"Topic5\", \"Topic5\", \"Topic5\", \"Topic5\", \"Topic5\", \"Topic5\", \"Topic5\", \"Topic5\", \"Topic5\", \"Topic5\", \"Topic5\", \"Topic5\", \"Topic5\", \"Topic5\", \"Topic5\", \"Topic5\", \"Topic5\", \"Topic5\", \"Topic5\", \"Topic5\", \"Topic5\", \"Topic5\", \"Topic5\", \"Topic5\", \"Topic5\", \"Topic5\", \"Topic5\", \"Topic5\", \"Topic5\", \"Topic5\", \"Topic5\", \"Topic5\", \"Topic5\", \"Topic5\", \"Topic5\", \"Topic5\", \"Topic5\", \"Topic5\", \"Topic5\", \"Topic5\", \"Topic5\", \"Topic5\", \"Topic5\", \"Topic5\", \"Topic6\", \"Topic6\", \"Topic6\", \"Topic6\", \"Topic6\", \"Topic6\", \"Topic6\", \"Topic6\", \"Topic6\", \"Topic6\", \"Topic6\", \"Topic6\", \"Topic6\", \"Topic6\", \"Topic6\", \"Topic6\", \"Topic6\", \"Topic6\", \"Topic6\", \"Topic6\", \"Topic6\", \"Topic6\", \"Topic6\", \"Topic6\", \"Topic6\", \"Topic6\", \"Topic6\", \"Topic6\", \"Topic6\", \"Topic6\", \"Topic6\", \"Topic6\", \"Topic6\", \"Topic6\", \"Topic6\", \"Topic6\", \"Topic6\", \"Topic6\", \"Topic6\", \"Topic6\", \"Topic6\", \"Topic6\", \"Topic6\", \"Topic6\", \"Topic6\", \"Topic6\", \"Topic6\", \"Topic6\", \"Topic6\", \"Topic6\", \"Topic6\", \"Topic6\", \"Topic6\", \"Topic6\", \"Topic6\", \"Topic6\", \"Topic6\", \"Topic6\", \"Topic6\", \"Topic6\", \"Topic6\", \"Topic6\", \"Topic6\", \"Topic6\", \"Topic7\", \"Topic7\", \"Topic7\", \"Topic7\", \"Topic7\", \"Topic7\", \"Topic7\", \"Topic7\", \"Topic7\", \"Topic7\", \"Topic7\", \"Topic7\", \"Topic7\", \"Topic7\", \"Topic7\", \"Topic7\", \"Topic7\", \"Topic7\", \"Topic7\", \"Topic7\", \"Topic7\", \"Topic7\", \"Topic7\", \"Topic7\", \"Topic7\", \"Topic7\", \"Topic7\", \"Topic7\", \"Topic7\", \"Topic7\", \"Topic7\", \"Topic7\", \"Topic7\", \"Topic7\", \"Topic7\", \"Topic7\", \"Topic7\", \"Topic7\", \"Topic7\", \"Topic7\", \"Topic7\", \"Topic7\", \"Topic7\", \"Topic7\", \"Topic7\", \"Topic7\", \"Topic7\", \"Topic7\", \"Topic7\", \"Topic7\", \"Topic7\", \"Topic7\", \"Topic7\", \"Topic7\", \"Topic7\", \"Topic7\", \"Topic7\", \"Topic7\", \"Topic7\", \"Topic7\", \"Topic7\", \"Topic7\", \"Topic7\", \"Topic7\", \"Topic8\", \"Topic8\", \"Topic8\", \"Topic8\", \"Topic8\", \"Topic8\", \"Topic8\", \"Topic8\", \"Topic8\", \"Topic8\", \"Topic8\", \"Topic8\", \"Topic8\", \"Topic8\", \"Topic8\", \"Topic8\", \"Topic8\", \"Topic8\", \"Topic8\", \"Topic8\", \"Topic8\", \"Topic8\", \"Topic8\", \"Topic8\", \"Topic8\", \"Topic8\", \"Topic8\", \"Topic8\", \"Topic8\", \"Topic8\", \"Topic8\", \"Topic8\", \"Topic8\", \"Topic8\", \"Topic8\", \"Topic8\", \"Topic8\", \"Topic8\", \"Topic8\", \"Topic8\", \"Topic8\", \"Topic8\", \"Topic8\", \"Topic8\", \"Topic8\", \"Topic8\", \"Topic8\", \"Topic8\", \"Topic8\", \"Topic8\", \"Topic8\", \"Topic8\", \"Topic8\", \"Topic8\", \"Topic8\", \"Topic8\", \"Topic8\", \"Topic8\", \"Topic8\", \"Topic8\", \"Topic8\", \"Topic9\", \"Topic9\", \"Topic9\", \"Topic9\", \"Topic9\", \"Topic9\", \"Topic9\", \"Topic9\", \"Topic9\", \"Topic9\", \"Topic9\", \"Topic9\", \"Topic9\", \"Topic9\", \"Topic9\", \"Topic9\", \"Topic9\", \"Topic9\", \"Topic9\", \"Topic9\", \"Topic9\", \"Topic9\", \"Topic9\", \"Topic9\", \"Topic9\", \"Topic9\", \"Topic9\", \"Topic9\", \"Topic9\", \"Topic9\", \"Topic9\", \"Topic9\", \"Topic9\", \"Topic9\", \"Topic9\", \"Topic9\", \"Topic9\", \"Topic9\", \"Topic9\", \"Topic9\", \"Topic9\", \"Topic9\", \"Topic9\", \"Topic9\", \"Topic9\", \"Topic9\", \"Topic9\", \"Topic9\", \"Topic9\", \"Topic9\", \"Topic9\", \"Topic9\", \"Topic9\", \"Topic9\", \"Topic9\", \"Topic9\", \"Topic9\", \"Topic9\", \"Topic9\", \"Topic9\", \"Topic9\", \"Topic10\", \"Topic10\", \"Topic10\", \"Topic10\", \"Topic10\", \"Topic10\", \"Topic10\", \"Topic10\", \"Topic10\", \"Topic10\", \"Topic10\", \"Topic10\", \"Topic10\", \"Topic10\", \"Topic10\", \"Topic10\", \"Topic10\", \"Topic10\", \"Topic10\", \"Topic10\", \"Topic10\", \"Topic10\", \"Topic10\", \"Topic10\", \"Topic10\", \"Topic10\", \"Topic10\", \"Topic10\", \"Topic10\", \"Topic10\", \"Topic10\", \"Topic10\", \"Topic10\", \"Topic10\", \"Topic10\", \"Topic10\", \"Topic10\", \"Topic10\", \"Topic10\", \"Topic10\", \"Topic10\", \"Topic10\", \"Topic10\", \"Topic10\", \"Topic10\", \"Topic10\", \"Topic10\", \"Topic10\", \"Topic10\", \"Topic10\", \"Topic10\", \"Topic10\"], \"logprob\": [30.0, 29.0, 28.0, 27.0, 26.0, 25.0, 24.0, 23.0, 22.0, 21.0, 20.0, 19.0, 18.0, 17.0, 16.0, 15.0, 14.0, 13.0, 12.0, 11.0, 10.0, 9.0, 8.0, 7.0, 6.0, 5.0, 4.0, 3.0, 2.0, 1.0, -6.0351, -6.5199, -6.5381, -6.0913, -6.5501, -6.5423, -6.5518, -6.5527, -6.6625, -6.582, -6.5916, -6.5836, -6.7123, -6.6072, -6.6004, -6.6016, -6.6164, -6.609, -6.615, -6.6255, -6.6215, -6.6337, -6.7535, -6.6406, -6.249, -6.6334, -6.6439, -5.8089, -6.7674, -6.6408, -5.9275, -5.4497, -6.2091, -6.2976, -5.4851, -6.189, -5.4079, -6.0076, -5.4091, -5.9134, -5.7425, -3.3064, -4.9568, -5.4389, -4.7515, -5.314, -4.7337, -4.7144, -3.7109, -4.5236, -5.0744, -5.3355, -5.5116, -4.7389, -5.4105, -4.5932, -4.3781, -4.9335, -5.5598, -4.8037, -4.9032, -5.0937, -4.9195, -5.2329, -5.1338, -5.3999, -4.9148, -5.3282, -5.0674, -5.277, -5.1462, -5.2247, -5.2837, -5.3314, -5.3738, -5.3703, -6.0578, -6.4624, -6.4846, -6.5108, -6.5414, -6.0686, -6.5311, -6.5766, -6.5542, -6.5712, -6.5688, -6.573, -6.5833, -6.5716, -6.6006, -6.6581, -6.2267, -6.6783, -6.6868, -6.6653, -5.789, -6.7143, -6.6961, -6.6952, -6.7714, -6.7839, -6.7691, -6.8228, -5.9988, -6.3118, -5.784, -5.5739, -5.4365, -5.235, -6.0513, -4.8499, -5.1695, -4.4305, -5.055, -5.0446, -4.9359, -4.4875, -4.9006, -5.1628, -5.2295, -4.9123, -5.3906, -5.2364, -4.5433, -3.6847, -4.1302, -5.095, -5.2414, -4.6338, -5.2474, -3.6533, -4.9827, -5.3632, -4.6155, -4.9343, -4.5608, -4.7491, -5.157, -5.05, -5.0468, -5.1839, -4.9748, -5.1487, -5.199, -6.2886, -6.3076, -6.3094, -6.3328, -6.3359, -6.338, -5.2508, -6.4797, -5.6005, -6.6258, -5.5436, -6.5553, -6.7144, -6.5658, -6.6567, -6.5837, -6.7451, -6.5881, -6.683, -6.5932, -6.2671, -6.6934, -5.3175, -6.6097, -6.207, -6.6175, -6.7951, -6.7043, -6.7157, -6.2581, -5.6329, -5.9946, -5.747, -6.2249, -5.6486, -4.9002, -5.9901, -6.2257, -3.1918, -4.9396, -4.8808, -4.2878, -6.0464, -3.5559, -4.8558, -4.3075, -5.08, -4.5165, -5.4703, -4.1499, -5.4623, -4.8018, -5.2889, -5.0871, -4.6509, -4.8786, -4.7929, -5.3852, -5.0893, -5.0344, -5.3588, -4.903, -5.1925, -5.2117, -4.9895, -5.2841, -5.1431, -5.2525, -5.3052, -5.2729, -6.2173, -6.224, -6.2592, -6.2736, -5.8629, -6.4742, -6.4133, -6.4158, -6.5319, -6.5227, -6.4375, -6.565, -6.1838, -6.471, -6.5711, -6.0515, -6.2796, -6.5363, -6.5525, -6.5509, -6.5558, -5.779, -6.5552, -6.5678, -6.5812, -5.4096, -6.5267, -6.5979, -6.6019, -6.5891, -4.5618, -4.5657, -5.544, -5.6026, -5.0484, -5.61, -4.6358, -5.7525, -5.5565, -5.2498, -3.1967, -5.249, -4.8095, -3.5207, -4.4632, -4.8449, -4.8228, -4.9365, -4.2916, -4.0474, -5.0349, -5.3374, -4.7728, -4.6377, -4.715, -4.8467, -4.663, -4.8349, -4.7501, -5.3768, -5.4014, -5.1969, -5.2142, -5.1275, -5.2657, -5.2931, -5.2564, -5.2167, -5.2578, -5.1898, -5.2346, -5.5039, -5.3738, -6.0328, -5.7192, -6.0724, -6.0732, -6.095, -6.0963, -6.1092, -6.111, -6.118, -6.1664, -6.1702, -5.4543, -6.1774, -5.837, -6.1812, -6.1807, -6.1877, -6.1884, -6.1975, -6.2, -5.4713, -6.2228, -6.2274, -5.8925, -5.8887, -6.3175, -5.9798, -6.416, -6.1789, -5.7236, -5.039, -5.0024, -5.6024, -4.8865, -5.2002, -5.0922, -5.3057, -3.2169, -4.6938, -5.5791, -5.2167, -4.0637, -3.7189, -5.0891, -5.2319, -4.9357, -4.5842, -4.5775, -4.9177, -5.3031, -5.0046, -4.7123, -4.9435, -4.9218, -5.2637, -4.9176, -4.9656, -5.2479, -5.2408, -5.1062, -5.3415, -5.3187, -5.3398, -6.1013, -6.1284, -6.1437, -6.1572, -6.1639, -6.1724, -6.1747, -6.2339, -5.8155, -5.5769, -5.9067, -6.3235, -6.0383, -5.7171, -5.9946, -6.0319, -6.1827, -5.5983, -6.4798, -6.0591, -5.7965, -6.0901, -6.1317, -5.9044, -5.8446, -6.1437, -6.1464, -6.5985, -6.6092, -6.6164, -5.9659, -5.2747, -5.023, -5.1799, -5.2321, -5.4049, -4.9861, -5.1727, -4.7886, -3.5748, -5.0828, -5.0587, -4.9315, -4.6598, -3.7684, -4.7651, -4.6022, -4.5443, -4.7478, -4.9578, -4.5286, -4.9696, -5.2657, -5.4798, -5.4003, -4.9362, -4.897, -5.0268, -5.259, -5.0477, -5.1699, -5.1197, -5.1674, -5.2147, -5.5423, -5.5796, -6.1779, -6.1926, -6.1997, -6.2015, -6.2016, -6.2028, -6.2064, -6.2112, -6.2154, -6.2185, -6.2237, -6.209, -6.2309, -6.2336, -6.2329, -6.2336, -6.2317, -6.2387, -6.2428, -6.2438, -6.2581, -5.8111, -6.2626, -6.256, -6.2647, -6.3172, -6.3402, -6.3913, -6.0357, -4.2213, -4.1627, -3.4226, -3.9092, -5.4746, -5.0362, -3.6095, -4.6338, -4.6091, -4.7411, -5.0241, -4.6323, -4.9578, -5.8373, -4.9039, -5.2043, -4.9345, -4.8534, -5.0748, -5.2864, -4.91, -5.1218, -5.6764, -4.9071, -5.3325, -5.0191, -5.2602, -5.168, -5.2921, -5.0501, -5.35, -5.3924, -5.4174, -5.5853, -5.5872, -5.5873, -5.5875, -5.5876, -5.5882, -5.5883, -5.5898, -5.5907, -5.5908, -5.5909, -5.5915, -5.5921, -5.5953, -5.6, -5.6001, -5.7552, -5.7752, -5.8122, -5.8206, -5.2799, -5.8356, -5.8548, -5.8747, -5.883, -5.8941, -5.913, -5.914, -5.5831, -5.6247, -4.707, -3.4355, -4.6042, -3.4644, -4.7799, -4.3856, -4.4585, -5.1249, -4.5515, -5.084, -4.893, -4.7287, -5.308, -4.5617, -4.8637, -4.8863, -5.2662, -5.0918, -4.976, -5.2969, -5.1003, -5.2773, -5.0469, -5.1252, -5.2578, -5.1934, -5.2561, -5.1737, -5.4112, -5.1565, -5.2697, -5.6664, -5.6664, -5.6664, -5.6664, -5.6664, -5.6664, -5.6664, -5.6664, -5.6664, -5.6664, -5.6664, -5.6664, -5.6664, -5.6665, -5.6665, -5.6665, -5.6665, -5.6665, -5.6665, -5.6665, -5.6665, -5.6665, -5.6664, -5.5779, -5.6665, -5.3976, -5.4521, -6.3982, -6.6187, -6.6204, -5.1624, -5.0198, -4.5596, -3.5897, -3.7851, -4.4277, -4.8387, -4.9525, -4.7324, -4.9601, -4.815, -4.6402, -5.0866, -5.0635, -4.9916, -5.2225, -5.0183, -5.1831, -4.9943, -4.9841, -5.243, -5.1464, -5.3047, -5.1822, -5.3832, -5.259, -5.354, -5.4476, -5.3721, -5.4097, -5.4039, -5.3341, -5.3467, -5.3692, -5.3785, -5.3808, -5.3965, -5.4073, -5.4095, -5.4087, -5.422, -5.4311, -5.4425, -5.4539, -5.4604, -5.4673, -5.4714, -5.4831, -5.3379, -5.3883, -5.379, -5.3633, -5.4368, -5.4681, -5.5051, -5.4704, -5.3747, -5.332, -6.0364, -6.0475, -6.0595, -5.3944, -5.4226, -5.3027, -4.7303, -5.2471, -4.3071, -4.9331, -5.0973, -4.3227, -5.0336, -4.8388, -5.0038, -4.897, -5.1543, -5.0733, -5.3451, -5.302, -5.3498, -5.3435, -5.3706, -5.3695, -5.3671], \"loglift\": [30.0, 29.0, 28.0, 27.0, 26.0, 25.0, 24.0, 23.0, 22.0, 21.0, 20.0, 19.0, 18.0, 17.0, 16.0, 15.0, 14.0, 13.0, 12.0, 11.0, 10.0, 9.0, 8.0, 7.0, 6.0, 5.0, 4.0, 3.0, 2.0, 1.0, 1.0906, 1.0521, 1.033, 1.0305, 1.0233, 1.022, 1.0201, 1.0189, 1.0059, 0.9914, 0.9822, 0.9802, 0.9665, 0.9643, 0.9634, 0.9622, 0.9569, 0.9545, 0.9487, 0.9463, 0.9416, 0.9415, 0.9337, 0.9332, 0.9316, 0.9299, 0.9296, 0.9239, 0.9225, 0.9225, 0.9161, 0.8761, 0.9076, 0.9049, 0.8384, 0.8873, 0.7537, 0.8174, 0.6621, 0.7788, 0.7338, 0.0866, 0.5235, 0.6385, 0.4156, 0.5618, 0.3753, 0.2979, -0.0995, 0.2049, 0.3799, 0.4795, 0.5249, 0.1427, 0.454, -0.0229, -0.1805, 0.1417, 0.4955, 0.011, 0.0297, 0.1126, -0.0362, 0.2026, 0.0789, 0.3562, -0.2174, 0.2255, -0.2278, 0.0865, -0.2925, -0.1272, 0.0461, -0.0241, 0.2756, 0.0712, 1.1593, 1.1402, 1.1081, 1.0938, 1.0675, 1.0655, 1.064, 1.0567, 1.0556, 1.0493, 1.0459, 1.0422, 1.0363, 1.0274, 1.0199, 0.9839, 0.9762, 0.9692, 0.9611, 0.9581, 0.9469, 0.9444, 0.9003, 0.9002, 0.8908, 0.8891, 0.8886, 0.8521, 0.8495, 0.8475, 0.8379, 0.818, 0.8105, 0.7619, 0.8317, 0.654, 0.6455, 0.4091, 0.5489, 0.5277, 0.4971, 0.3663, 0.4709, 0.5503, 0.5619, 0.4395, 0.6056, 0.5417, 0.2714, -0.0733, 0.0673, 0.4587, 0.5151, 0.2495, 0.5087, -0.2603, 0.3799, 0.5426, 0.0818, 0.272, 0.0095, 0.1325, 0.2888, 0.0476, 0.0285, 0.2577, -0.2463, 0.0183, -0.2662, 1.2672, 1.2483, 1.2466, 1.2234, 1.2203, 1.2183, 1.0839, 1.0808, 1.0383, 1.0194, 1.0184, 1.0006, 1.0, 0.9956, 0.98, 0.9783, 0.9768, 0.9674, 0.9667, 0.9629, 0.9605, 0.9589, 0.9582, 0.9541, 0.9397, 0.9381, 0.9353, 0.9344, 0.9312, 0.9312, 0.919, 0.9208, 0.909, 0.9056, 0.8188, 0.6972, 0.8467, 0.8842, 0.2012, 0.5854, 0.565, 0.4096, 0.826, 0.0555, 0.4515, 0.2628, 0.5159, 0.3231, 0.6392, 0.0476, 0.5929, 0.2734, 0.4952, 0.3545, 0.0777, 0.219, 0.14, 0.5011, 0.2625, 0.1783, 0.4138, -0.0492, 0.2431, 0.2426, -0.1079, 0.3198, -0.3284, -0.2402, -0.0989, -0.3897, 1.3696, 1.3648, 1.3392, 1.3287, 1.3118, 1.1583, 1.1395, 1.1374, 1.1366, 1.1196, 1.1158, 1.1126, 1.1017, 1.0829, 1.082, 1.0814, 1.0779, 1.0677, 1.0677, 1.0663, 1.0605, 1.0594, 1.0531, 1.052, 1.0451, 1.0317, 1.0269, 1.0249, 1.0244, 1.0234, 1.0106, 0.9381, 0.9786, 0.9337, 0.8575, 0.9231, 0.7268, 0.9074, 0.8426, 0.7464, 0.1964, 0.6963, 0.562, 0.0907, 0.3905, 0.5186, 0.507, 0.5511, 0.2787, 0.1502, 0.5396, 0.6552, 0.3362, 0.2439, 0.1683, 0.2285, 0.0343, 0.1774, 0.0646, 0.6201, 0.6406, 0.3489, 0.2691, 0.0788, 0.3317, 0.3761, 0.2239, -0.0496, 0.1778, -0.3502, -0.137, 1.6519, 1.5839, 1.5642, 1.5364, 1.5232, 1.5225, 1.4999, 1.4985, 1.4852, 1.4833, 1.4761, 1.4313, 1.4286, 1.4218, 1.4214, 1.4195, 1.4187, 1.4178, 1.4105, 1.4082, 1.3999, 1.3996, 1.3903, 1.3738, 1.3693, 1.3642, 1.3622, 1.3526, 1.2762, 1.2672, 1.2595, 1.2094, 1.0705, 1.034, 1.1802, 0.978, 1.0247, 0.9708, 1.0472, 0.1761, 0.7393, 1.0794, 0.8436, 0.1339, -0.1075, 0.7555, 0.8101, 0.5519, 0.1444, -0.0072, 0.295, 0.6996, 0.3472, -0.0149, 0.2236, 0.1757, 0.5454, -0.078, -0.0823, 0.4875, 0.4086, -0.1734, 0.5248, 0.2771, 0.1405, 1.6013, 1.57, 1.5546, 1.5443, 1.5336, 1.5216, 1.5166, 1.4548, 1.4135, 1.3843, 1.3559, 1.3354, 1.2996, 1.2339, 1.2215, 1.1764, 1.1742, 1.1653, 1.1611, 1.1577, 1.1395, 1.1238, 1.1058, 1.0995, 1.0921, 1.0908, 1.0559, 1.0518, 1.0354, 1.033, 0.9973, 0.9502, 0.8921, 0.824, 0.8309, 0.8724, 0.6983, 0.7621, 0.5749, 0.0366, 0.6913, 0.6241, 0.5518, 0.273, -0.3754, 0.3325, 0.1263, 0.0259, 0.1338, 0.2549, -0.331, 0.1056, 0.4474, 0.7053, 0.5899, -0.0966, -0.1996, -0.1435, 0.2947, -0.233, 0.0364, -0.1074, -0.0584, 0.0926, 1.8919, 1.8482, 1.6271, 1.6134, 1.6068, 1.6051, 1.6051, 1.6039, 1.6006, 1.5962, 1.5922, 1.5894, 1.5846, 1.5834, 1.5778, 1.5753, 1.5722, 1.5713, 1.5693, 1.5679, 1.5668, 1.5658, 1.5525, 1.5492, 1.5483, 1.5432, 1.528, 1.457, 1.4358, 1.3863, 1.3597, 0.5934, 0.5659, 0.1888, 0.2883, 1.0754, 0.7551, -0.2165, 0.3785, 0.3237, 0.426, 0.6163, 0.251, 0.4966, 1.2041, 0.3024, 0.5311, 0.1746, 0.0281, 0.255, 0.4637, -0.0563, 0.1855, 0.8806, -0.2097, 0.3367, -0.1796, 0.1113, -0.0928, 0.1434, -0.4798, 0.0125, 0.091, 0.1865, 2.2785, 2.2758, 2.2756, 2.2753, 2.2752, 2.2744, 2.2742, 2.2721, 2.2709, 2.2708, 2.2707, 2.2697, 2.2689, 2.2644, 2.2579, 2.2577, 2.1525, 2.1359, 2.105, 2.098, 2.0972, 2.0854, 2.0693, 2.0524, 2.0454, 2.036, 2.0199, 2.0191, 1.7826, 1.7328, 1.3251, 0.1759, 0.9417, -0.0714, 0.9981, 0.4291, 0.3952, 1.1986, 0.4608, 1.0776, 0.6815, 0.2041, 1.2411, -0.3641, 0.2454, -0.0467, 1.1329, 0.4619, -0.0944, 1.0289, 0.1124, 0.8936, -0.3495, -0.0276, 0.3826, -0.0263, 0.2688, -0.2904, 1.1837, -0.5862, 0.0938, 2.4058, 2.4058, 2.4058, 2.4058, 2.4058, 2.4058, 2.4058, 2.4058, 2.4058, 2.4058, 2.4058, 2.4058, 2.4058, 2.4058, 2.4058, 2.4058, 2.4058, 2.4058, 2.4058, 2.4057, 2.4057, 1.8153, 1.7719, 1.4984, 1.4928, 1.4592, 1.4574, 1.371, 1.3143, 1.3125, 1.3018, 1.2272, 1.0899, -0.1966, -0.1737, 0.3009, 0.6446, 0.7606, 0.2004, 0.5649, 0.0683, -0.4427, 0.686, 0.3908, 0.0208, 0.8327, 0.0907, 0.601, -0.1796, -0.2867, 0.5483, 0.0599, 0.7589, 0.1696, 0.9826, 0.1826, 0.25, 0.8841, 0.2024, -0.1024, -0.5502, 2.4814, 2.4648, 2.4336, 2.4252, 2.4187, 2.3973, 2.3872, 2.384, 2.3831, 2.3672, 2.3572, 2.3427, 2.3246, 2.3166, 2.3084, 2.3048, 2.2897, 2.0086, 1.9421, 1.9388, 1.9346, 1.8941, 1.8304, 1.8201, 1.6889, 1.6723, 1.6719, 1.6181, 1.6048, 1.5921, 1.5395, 1.5004, 1.3533, 0.9192, 1.2859, -0.6957, 0.5545, 0.9066, -0.9297, 0.6907, -0.1102, -0.0709, -0.6994, 0.581, -0.3759, 1.1912, 0.3385, 0.8972, 0.1399, 0.808, 0.5046, -0.0037]}, \"token.table\": {\"Topic\": [2, 4, 2, 4, 6, 7, 8, 1, 2, 3, 4, 5, 6, 7, 3, 7, 1, 3, 8, 5, 6, 1, 2, 3, 4, 1, 2, 3, 4, 5, 6, 7, 8, 7, 1, 2, 3, 4, 5, 6, 7, 8, 1, 2, 3, 5, 6, 6, 7, 3, 2, 4, 5, 4, 2, 1, 2, 3, 4, 5, 7, 8, 6, 1, 2, 3, 8, 1, 2, 3, 4, 6, 7, 1, 2, 3, 4, 6, 1, 2, 3, 4, 6, 1, 2, 3, 4, 5, 6, 7, 8, 9, 8, 5, 3, 6, 3, 2, 7, 5, 7, 1, 2, 3, 4, 5, 6, 7, 8, 1, 3, 1, 2, 3, 4, 5, 6, 7, 8, 9, 1, 2, 3, 5, 1, 4, 8, 1, 2, 3, 4, 5, 6, 7, 8, 9, 7, 1, 2, 3, 5, 7, 9, 4, 6, 2, 3, 5, 6, 3, 1, 2, 3, 4, 5, 6, 7, 1, 3, 5, 1, 1, 2, 3, 4, 5, 6, 7, 9, 3, 1, 2, 3, 4, 5, 6, 7, 8, 5, 2, 8, 7, 1, 2, 3, 4, 7, 1, 2, 3, 5, 6, 1, 1, 2, 3, 5, 6, 1, 2, 3, 4, 5, 7, 1, 4, 6, 1, 4, 4, 1, 2, 3, 4, 7, 6, 7, 7, 1, 5, 3, 1, 3, 4, 5, 6, 7, 1, 7, 1, 2, 3, 4, 8, 5, 1, 6, 2, 8, 7, 1, 2, 4, 7, 8, 1, 2, 3, 4, 5, 6, 7, 8, 1, 2, 3, 5, 6, 7, 8, 1, 2, 3, 4, 5, 6, 7, 7, 3, 1, 2, 3, 4, 5, 6, 7, 8, 9, 4, 1, 1, 1, 5, 7, 2, 3, 5, 4, 7, 8, 3, 6, 1, 2, 3, 4, 5, 6, 7, 1, 2, 3, 4, 5, 6, 8, 1, 6, 1, 3, 5, 6, 1, 2, 3, 4, 5, 6, 7, 8, 9, 10, 1, 3, 3, 4, 5, 2, 1, 2, 3, 4, 2, 1, 4, 7, 8, 7, 1, 2, 3, 4, 5, 6, 7, 8, 9, 10, 1, 2, 3, 4, 5, 6, 8, 8, 1, 2, 3, 4, 5, 6, 7, 5, 7, 4, 1, 3, 2, 5, 1, 3, 1, 2, 3, 4, 5, 6, 1, 4, 2, 2, 4, 2, 1, 2, 3, 4, 5, 6, 7, 9, 1, 2, 3, 5, 6, 2, 6, 3, 2, 6, 7, 8, 1, 3, 5, 2, 1, 2, 3, 4, 5, 6, 7, 1, 2, 3, 4, 5, 6, 7, 1, 2, 3, 5, 6, 7, 5, 1, 5, 6, 5, 1, 2, 3, 4, 5, 6, 7, 8, 1, 2, 3, 4, 5, 6, 7, 8, 9, 4, 1, 2, 3, 4, 5, 6, 7, 8, 1, 2, 3, 4, 6, 7, 9, 4, 5, 2, 4, 5, 7, 1, 2, 5, 4, 1, 2, 3, 4, 5, 6, 7, 9, 1, 2, 4, 7, 8, 5, 4, 1, 3, 5, 1, 5, 2, 1, 2, 6, 2, 3, 6, 1, 2, 4, 6, 7, 8, 5, 3, 2, 3, 4, 5, 1, 3, 1, 2, 3, 4, 5, 6, 7, 2, 3, 4, 6, 7, 3, 1, 1, 2, 3, 4, 5, 6, 7, 1, 2, 3, 4, 5, 6, 7, 9, 1, 2, 3, 4, 6, 7, 5, 7, 1, 2, 3, 4, 6, 7, 8, 9, 1, 2, 3, 4, 5, 6, 7, 1, 2, 3, 4, 6, 7, 8, 1, 2, 3, 4, 5, 6, 7, 8, 1, 2, 3, 5, 6, 7, 1, 2, 3, 4, 5, 6, 7, 8, 1, 2, 3, 4, 6, 3, 4, 7, 2, 1, 2, 3, 4, 2, 4, 6, 4, 2, 4, 7, 1, 3, 4, 5, 1, 1, 3, 4, 4, 6, 8, 5, 5, 1, 2, 3, 4, 5, 7, 8, 1, 2, 3, 4, 5, 6, 7, 9, 3, 7, 4, 1, 2, 3, 4, 5, 7, 4, 1, 2, 3, 5, 6, 7, 3, 1, 3, 1, 2, 4, 9, 1, 2, 3, 4, 5, 6, 7, 8, 5, 1, 3, 1, 2, 3, 6, 4, 4, 1, 1, 2, 3, 3, 8, 1, 2, 3, 4, 5, 6, 7, 8, 9, 7, 1, 2, 3, 4, 5, 6, 7, 8, 9, 10, 1, 2, 3, 1, 4, 3, 1, 3, 1, 2, 3, 4, 5, 6, 7, 9, 10, 2, 4, 1, 3, 4, 4, 1, 5, 2, 1, 4, 5, 1, 2, 4, 8, 7, 1, 2, 3, 4, 2, 1, 2, 3, 4, 5, 6, 7, 8, 8, 1, 2, 3, 4, 6, 7, 8, 1, 1, 2, 3, 3, 4, 5, 3, 2, 2, 3, 4, 5, 7, 1, 2, 3, 4, 5, 6, 7, 8, 1, 2, 3, 5, 6, 7, 9, 4, 1, 4, 5, 5, 7, 2, 5, 1, 2, 3, 4, 5, 6, 7, 2, 3, 5, 1, 2, 1, 2, 3, 6, 3, 8, 1, 3, 4, 7, 1, 2, 3, 6, 7, 2, 3, 4, 8, 3, 2, 6, 1, 2, 3, 4, 5, 7, 4, 1, 2, 1, 3, 2, 4, 8, 7, 2, 8, 5, 1, 1, 2, 3, 4, 5, 6, 7, 8, 5, 7, 1, 2, 3, 5, 7, 7, 2, 6, 3, 6, 1, 2, 3, 4, 6, 7, 8, 2, 5, 1, 2, 3, 4, 5, 6, 7, 1, 6, 7, 6, 3, 3, 1, 2, 3, 4, 5, 6, 7, 8, 6, 7, 2, 5, 1, 2, 3, 1, 6, 5, 6, 1, 8, 8, 7, 5, 1, 1, 2, 3, 4, 5, 6, 7, 8, 1, 2, 3, 4, 5, 3, 1, 2, 3, 4, 5, 6, 7, 1, 2, 3, 4, 5, 6, 7, 1, 2, 3, 4, 7, 2, 3, 5, 6, 1, 2, 4, 6, 8, 1, 3, 6, 2, 5, 7, 1, 2, 3, 4, 5, 6, 7, 8, 6, 4, 4, 6, 4, 2, 3, 6, 7, 6, 2, 3, 4, 5, 1, 4, 2, 1, 2, 3, 4, 5, 6, 7, 8, 9, 1, 2, 3, 1, 2, 3, 4, 5, 7, 5, 1, 2, 3, 4, 5, 6, 7, 8, 1, 8, 7, 5, 6], \"Freq\": [0.630428098859596, 0.6273677261683863, 0.22870144764428688, 0.22870144764428688, 0.22870144764428688, 0.22870144764428688, 0.22870144764428688, 0.21599984451822207, 0.10799992225911104, 0.10799992225911104, 0.10799992225911104, 0.21599984451822207, 0.10799992225911104, 0.10799992225911104, 0.6011602367316086, 0.5259559050201869, 0.34866836719098876, 0.17433418359549438, 0.17433418359549438, 0.623679998631789, 0.6916148597634755, 0.6690326024971527, 0.637205537550166, 0.41438390872763775, 0.41438390872763775, 0.19652883952397612, 0.19652883952397612, 0.09826441976198806, 0.19652883952397612, 0.09826441976198806, 0.09826441976198806, 0.09826441976198806, 0.09826441976198806, 0.7575811697292485, 0.19363870239108702, 0.09681935119554351, 0.09681935119554351, 0.09681935119554351, 0.19363870239108702, 0.09681935119554351, 0.19363870239108702, 0.09681935119554351, 0.13399786733107502, 0.13399786733107502, 0.13399786733107502, 0.26799573466215004, 0.13399786733107502, 0.6627785519658865, 0.5091942209317223, 0.5980097134269108, 0.39225253858785747, 0.39225253858785747, 0.6238775845896355, 0.6752556301179817, 0.6648905153862225, 0.13457746392347056, 0.2691549278469411, 0.13457746392347056, 0.2691549278469411, 0.06728873196173528, 0.06728873196173528, 0.06728873196173528, 0.42594088355192594, 0.3494832120913279, 0.17474160604566394, 0.17474160604566394, 0.17474160604566394, 0.13443336251128257, 0.26886672502256515, 0.13443336251128257, 0.13443336251128257, 0.13443336251128257, 0.13443336251128257, 0.1256774465085259, 0.2513548930170518, 0.1256774465085259, 0.2513548930170518, 0.1256774465085259, 0.12576025581258082, 0.37728076743774247, 0.12576025581258082, 0.25152051162516165, 0.12576025581258082, 0.13716105768509285, 0.17145132210636604, 0.24003185094891247, 0.13716105768509285, 0.10287079326381962, 0.06858052884254642, 0.06858052884254642, 0.03429026442127321, 0.03429026442127321, 0.8116018988248463, 0.6229700656219401, 0.32984662880481536, 0.32984662880481536, 0.5980825058333192, 0.6459898583798875, 0.7704993212434087, 0.3574080472554986, 0.3574080472554986, 0.27424032328240033, 0.1645441939694402, 0.05484806465648007, 0.1645441939694402, 0.1645441939694402, 0.05484806465648007, 0.10969612931296013, 0.05484806465648007, 0.25206727211885993, 0.25206727211885993, 0.14561305139573563, 0.16641491588084073, 0.16641491588084073, 0.16641491588084073, 0.12481118691063055, 0.062405593455315274, 0.12481118691063055, 0.04160372897021018, 0.02080186448510509, 0.18186152466214675, 0.18186152466214675, 0.18186152466214675, 0.18186152466214675, 0.6817219452376111, 0.49029428111316586, 0.49029428111316586, 0.1735763381603751, 0.13018225362028132, 0.1735763381603751, 0.08678816908018755, 0.08678816908018755, 0.13018225362028132, 0.13018225362028132, 0.043394084540093775, 0.043394084540093775, 0.76705173824719, 0.16149504333973788, 0.32299008667947576, 0.16149504333973788, 0.16149504333973788, 0.16149504333973788, 0.16149504333973788, 0.4335690086825053, 0.4335690086825053, 0.13435038911705993, 0.13435038911705993, 0.26870077823411986, 0.26870077823411986, 0.7118664052477373, 0.15114111826736026, 0.15114111826736026, 0.15114111826736026, 0.22671167740104042, 0.22671167740104042, 0.07557055913368013, 0.07557055913368013, 0.1662048181590009, 0.3324096363180018, 0.1662048181590009, 0.6083369101105287, 0.07525126641751914, 0.15050253283503828, 0.07525126641751914, 0.22575379925255742, 0.07525126641751914, 0.15050253283503828, 0.07525126641751914, 0.07525126641751914, 0.6015575801720784, 0.1333816050276225, 0.20007240754143374, 0.1333816050276225, 0.3334540125690562, 0.06669080251381125, 0.06669080251381125, 0.06669080251381125, 0.06669080251381125, 0.4407052421512402, 0.5266328160996738, 0.8085971230276754, 0.7687922540388581, 0.07681043231253534, 0.30724172925014137, 0.07681043231253534, 0.3840521615626767, 0.07681043231253534, 0.2203239876029834, 0.1101619938014917, 0.1101619938014917, 0.3304859814044751, 0.1101619938014917, 0.6084808250208644, 0.2616673540945579, 0.13083367704727894, 0.13083367704727894, 0.2616673540945579, 0.13083367704727894, 0.12522817098607192, 0.12522817098607192, 0.12522817098607192, 0.25045634197214384, 0.12522817098607192, 0.12522817098607192, 0.32187970712614633, 0.32187970712614633, 0.32187970712614633, 0.6025783679188169, 0.6178294400714315, 0.5963296701609124, 0.2047849831285609, 0.30717747469284135, 0.10239249156428044, 0.2047849831285609, 0.2047849831285609, 0.43117980362422376, 0.7682060695342067, 0.7690254288138714, 0.3594070447597999, 0.6790269450736984, 0.6578998580028863, 0.22518257734306743, 0.22518257734306743, 0.11259128867153372, 0.22518257734306743, 0.11259128867153372, 0.11259128867153372, 0.6836003095722589, 0.7625609773514401, 0.130263211598258, 0.130263211598258, 0.130263211598258, 0.260526423196516, 0.130263211598258, 0.4007272179837866, 0.5250307612036218, 0.2625153806018109, 0.4942760550901274, 0.4942760550901274, 0.7705431970389368, 0.2440466698518601, 0.2440466698518601, 0.2440466698518601, 0.2440466698518601, 0.8116564896630971, 0.08243379939910593, 0.16486759879821186, 0.08243379939910593, 0.2473013981973178, 0.08243379939910593, 0.08243379939910593, 0.08243379939910593, 0.08243379939910593, 0.15081993150104564, 0.15081993150104564, 0.15081993150104564, 0.15081993150104564, 0.15081993150104564, 0.15081993150104564, 0.15081993150104564, 0.14434212619183906, 0.2165131892877586, 0.2165131892877586, 0.14434212619183906, 0.07217106309591953, 0.07217106309591953, 0.07217106309591953, 0.49169284736581664, 0.7005722900477742, 0.1651840064898002, 0.20648000811225023, 0.0825920032449001, 0.1651840064898002, 0.0825920032449001, 0.0825920032449001, 0.12388800486735015, 0.04129600162245005, 0.04129600162245005, 0.6375462108928538, 0.6026242466173372, 0.6022745562851729, 0.27591890039609024, 0.27591890039609024, 0.27591890039609024, 0.24369405067347139, 0.24369405067347139, 0.24369405067347139, 0.6455095342073054, 0.5293566230809744, 0.8128093001216002, 0.32651292210798205, 0.32651292210798205, 0.1431161095063006, 0.2862322190126012, 0.1431161095063006, 0.0715580547531503, 0.2146741642594509, 0.0715580547531503, 0.0715580547531503, 0.12664293008175534, 0.12664293008175534, 0.12664293008175534, 0.2532858601635107, 0.12664293008175534, 0.2532858601635107, 0.8111729392230638, 0.44589107717597043, 0.44589107717597043, 0.6072759164232163, 0.3018452016051371, 0.3018452016051371, 0.3018452016051371, 0.21225569052767607, 0.10612784526383803, 0.1768797421063967, 0.03537594842127934, 0.14150379368511737, 0.10612784526383803, 0.14150379368511737, 0.03537594842127934, 0.03537594842127934, 0.03537594842127934, 0.4107838789080335, 0.4107838789080335, 0.5979174758158987, 0.43135410637418536, 0.21567705318709268, 0.6219563957467885, 0.3145240172784723, 0.3145240172784723, 0.1048413390928241, 0.1048413390928241, 0.6309567832389411, 0.6022228712595876, 0.45618937428228973, 0.45618937428228973, 0.8086030278822199, 0.7573826399457906, 0.18609407479557277, 0.1209611486171223, 0.18609407479557277, 0.17678937105579412, 0.13026585235690094, 0.06513292617845047, 0.07443762991822911, 0.04652351869889319, 0.018609407479557277, 0.009304703739778639, 0.16644947200384097, 0.16644947200384097, 0.16644947200384097, 0.16644947200384097, 0.16644947200384097, 0.16644947200384097, 0.16644947200384097, 0.8134509534604589, 0.18401393761376256, 0.09200696880688128, 0.09200696880688128, 0.18401393761376256, 0.09200696880688128, 0.18401393761376256, 0.09200696880688128, 0.5315541518272765, 0.743666917071126, 0.6414422774474683, 0.6070400404109103, 0.6583801409794955, 0.634089453149108, 0.622701330722099, 0.29128343600432843, 0.29128343600432843, 0.20846017062410835, 0.20846017062410835, 0.10423008531205417, 0.10423008531205417, 0.20846017062410835, 0.10423008531205417, 0.3174956342489746, 0.3174956342489746, 0.6344377004076232, 0.39162812117885815, 0.39162812117885815, 0.6225816950096166, 0.17112272137764092, 0.22816362850352123, 0.11408181425176062, 0.17112272137764092, 0.05704090712588031, 0.11408181425176062, 0.11408181425176062, 0.05704090712588031, 0.22247303808687297, 0.22247303808687297, 0.11123651904343648, 0.11123651904343648, 0.11123651904343648, 0.3216643002477625, 0.3216643002477625, 0.5981001411305247, 0.43485248777944935, 0.43485248777944935, 0.7698504252003845, 0.8126617091599121, 0.20130617074988702, 0.40261234149977404, 0.20130617074988702, 0.6277115705870785, 0.21521761094147487, 0.14347840729431657, 0.21521761094147487, 0.14347840729431657, 0.07173920364715829, 0.07173920364715829, 0.07173920364715829, 0.08421041167061073, 0.2526312350118322, 0.2526312350118322, 0.16842082334122147, 0.16842082334122147, 0.08421041167061073, 0.08421041167061073, 0.1697870400016826, 0.25468056000252387, 0.1697870400016826, 0.0848935200008413, 0.0848935200008413, 0.0848935200008413, 0.6227114468014395, 0.42473095394764154, 0.42473095394764154, 0.42473095394764154, 0.44317444134674416, 0.15098562501841406, 0.15098562501841406, 0.18118275002209686, 0.18118275002209686, 0.12078850001473125, 0.09059137501104843, 0.060394250007365625, 0.030197125003682813, 0.15423267855588285, 0.19279084819485356, 0.11567450891691214, 0.15423267855588285, 0.03855816963897071, 0.07711633927794143, 0.15423267855588285, 0.07711633927794143, 0.03855816963897071, 0.6166866447773718, 0.12028062349257115, 0.2405612469851423, 0.16037416465676155, 0.2004677058209519, 0.08018708232838077, 0.04009354116419039, 0.08018708232838077, 0.08018708232838077, 0.10165389970112254, 0.20330779940224508, 0.20330779940224508, 0.20330779940224508, 0.10165389970112254, 0.10165389970112254, 0.10165389970112254, 0.29859498691344116, 0.29859498691344116, 0.2127387796988467, 0.4254775593976934, 0.2127387796988467, 0.2127387796988467, 0.28786082068236774, 0.28786082068236774, 0.6702346128613413, 0.6350644332179571, 0.21930504280746096, 0.07310168093582031, 0.21930504280746096, 0.07310168093582031, 0.14620336187164062, 0.07310168093582031, 0.14620336187164062, 0.07310168093582031, 0.1880224952300291, 0.1880224952300291, 0.3760449904600582, 0.1880224952300291, 0.1880224952300291, 0.6220933797790926, 0.6690991312552867, 0.3888210157385228, 0.3888210157385228, 0.6240484991454603, 0.3029508800611217, 0.6059017601222434, 0.6515985970884184, 0.4198265229612635, 0.4198265229612635, 0.4198265229612635, 0.6242211360492004, 0.5980894583605312, 0.6888307329329149, 0.14966558716672976, 0.14966558716672976, 0.14966558716672976, 0.14966558716672976, 0.14966558716672976, 0.14966558716672976, 0.6231857226565828, 0.6481887340761417, 0.46991764433261146, 0.23495882216630573, 0.23495882216630573, 0.23495882216630573, 0.38274641840617124, 0.38274641840617124, 0.11035831964876648, 0.11035831964876648, 0.22071663929753296, 0.11035831964876648, 0.22071663929753296, 0.11035831964876648, 0.11035831964876648, 0.23887649299521774, 0.23887649299521774, 0.23887649299521774, 0.11943824649760887, 0.11943824649760887, 0.5979215238128721, 0.6085235421592199, 0.0843460567646323, 0.1686921135292646, 0.3373842270585292, 0.1686921135292646, 0.0843460567646323, 0.0843460567646323, 0.0843460567646323, 0.131952057166534, 0.263904114333068, 0.19792808574980097, 0.065976028583267, 0.131952057166534, 0.065976028583267, 0.065976028583267, 0.065976028583267, 0.18123299640478024, 0.18123299640478024, 0.18123299640478024, 0.18123299640478024, 0.09061649820239012, 0.09061649820239012, 0.6215993697489716, 0.7691909102779196, 0.15689629878105105, 0.07844814939052552, 0.23534444817157654, 0.15689629878105105, 0.07844814939052552, 0.07844814939052552, 0.07844814939052552, 0.07844814939052552, 0.18372223074904617, 0.18372223074904617, 0.09186111537452309, 0.09186111537452309, 0.09186111537452309, 0.18372223074904617, 0.09186111537452309, 0.20208976496678488, 0.3031346474501773, 0.10104488248339244, 0.10104488248339244, 0.10104488248339244, 0.10104488248339244, 0.10104488248339244, 0.20013177621000638, 0.15009883215750477, 0.20013177621000638, 0.20013177621000638, 0.050032944052501596, 0.10006588810500319, 0.10006588810500319, 0.050032944052501596, 0.11818079437350346, 0.2363615887470069, 0.11818079437350346, 0.11818079437350346, 0.2363615887470069, 0.11818079437350346, 0.10065117065868583, 0.20130234131737165, 0.10065117065868583, 0.10065117065868583, 0.20130234131737165, 0.20130234131737165, 0.10065117065868583, 0.10065117065868583, 0.27261219497558803, 0.13630609748779401, 0.13630609748779401, 0.13630609748779401, 0.13630609748779401, 0.2186482638352458, 0.2186482638352458, 0.2186482638352458, 0.6217461164281034, 0.3342320073892544, 0.11141066912975146, 0.11141066912975146, 0.22282133825950293, 0.392110601067683, 0.392110601067683, 0.6923125156899819, 0.40835265547336663, 0.29464372888173496, 0.29464372888173496, 0.7694656410899214, 0.17952476942632262, 0.17952476942632262, 0.17952476942632262, 0.35904953885264523, 0.6026312011442638, 0.6023126409641463, 0.3907268800242791, 0.6392355650142074, 0.4255943340044962, 0.4255943340044962, 0.8116139213347765, 0.6233900295999898, 0.6227708997207061, 0.1761000425107243, 0.08805002125536215, 0.08805002125536215, 0.1761000425107243, 0.08805002125536215, 0.1761000425107243, 0.08805002125536215, 0.1893740262933962, 0.2840610394400943, 0.0946870131466981, 0.0946870131466981, 0.0946870131466981, 0.0946870131466981, 0.0946870131466981, 0.0946870131466981, 0.6536971779890033, 0.7639483877537334, 0.6356522587739121, 0.19769527188177052, 0.2965429078226558, 0.09884763594088526, 0.09884763594088526, 0.09884763594088526, 0.09884763594088526, 0.6517963433965839, 0.12492720584333968, 0.12492720584333968, 0.24985441168667935, 0.12492720584333968, 0.12492720584333968, 0.12492720584333968, 0.6026326381038435, 0.6025933558212226, 0.59766401718879, 0.20066572049047401, 0.20066572049047401, 0.20066572049047401, 0.20066572049047401, 0.20612908279878797, 0.16490326623903037, 0.12367744967927279, 0.20612908279878797, 0.04122581655975759, 0.08245163311951519, 0.08245163311951519, 0.04122581655975759, 0.62211283860884, 0.22128666580923587, 0.44257333161847173, 0.1757690404296097, 0.1757690404296097, 0.1757690404296097, 0.1757690404296097, 0.6326838778250207, 0.6300036116253772, 0.607527828902496, 0.29717967245376253, 0.29717967245376253, 0.29717967245376253, 0.5977843414815396, 0.8124887525473523, 0.23491657507843441, 0.09396663003137376, 0.14094994504706065, 0.18793326006274752, 0.04698331501568688, 0.09396663003137376, 0.14094994504706065, 0.09396663003137376, 0.04698331501568688, 0.7700038726311607, 0.15047917900470842, 0.13890385754280776, 0.16205450046660905, 0.16205450046660905, 0.10417789315710582, 0.09260257169520518, 0.10417789315710582, 0.05787660730950323, 0.023150642923801295, 0.011575321461900647, 0.4062378300246963, 0.20311891501234816, 0.20311891501234816, 0.4198605301958152, 0.596025828177081, 0.5978660109475129, 0.24310355895098248, 0.48620711790196497, 0.17769780181003036, 0.08884890090501518, 0.08884890090501518, 0.17769780181003036, 0.17769780181003036, 0.08884890090501518, 0.08884890090501518, 0.08884890090501518, 0.08884890090501518, 0.32098256984477497, 0.32098256984477497, 0.2932642171826737, 0.2932642171826737, 0.2932642171826737, 0.6238314233334397, 0.3853545537806545, 0.6245783443242305, 0.6721654435528168, 0.6029164062221847, 0.4299666706687667, 0.21498333533438335, 0.29654207085243356, 0.14827103542621678, 0.14827103542621678, 0.14827103542621678, 0.768266636851413, 0.11481150515113836, 0.22962301030227672, 0.11481150515113836, 0.3444345154534151, 0.6395960358993539, 0.17221463512745858, 0.11480975675163904, 0.17221463512745858, 0.11480975675163904, 0.17221463512745858, 0.11480975675163904, 0.05740487837581952, 0.05740487837581952, 0.8127538556084662, 0.16020116615064167, 0.16020116615064167, 0.16020116615064167, 0.2403017492259625, 0.08010058307532084, 0.08010058307532084, 0.08010058307532084, 0.6095223882796627, 0.2666220285561082, 0.1333110142780541, 0.2666220285561082, 0.4779182362108188, 0.2389591181054094, 0.2389591181054094, 0.597723732462745, 0.6551848686718084, 0.2201716539334258, 0.2201716539334258, 0.2201716539334258, 0.2201716539334258, 0.2201716539334258, 0.30008782480194707, 0.07502195620048677, 0.15004391240097353, 0.15004391240097353, 0.15004391240097353, 0.07502195620048677, 0.07502195620048677, 0.07502195620048677, 0.10048921039351758, 0.20097842078703515, 0.20097842078703515, 0.10048921039351758, 0.10048921039351758, 0.10048921039351758, 0.10048921039351758, 0.5966803868517923, 0.6073483081391526, 0.658905265145594, 0.47737796319762643, 0.6212979042249738, 0.768159863321407, 0.637756174017997, 0.6211504935759427, 0.09575115079882615, 0.1915023015976523, 0.09575115079882615, 0.1915023015976523, 0.1915023015976523, 0.09575115079882615, 0.09575115079882615, 0.3206701267390663, 0.3206701267390663, 0.3206701267390663, 0.6086853049843459, 0.4200446711077726, 0.6024174188081242, 0.6626141391053884, 0.4305781123203629, 0.4305781123203629, 0.6548428210068922, 0.8126980773378291, 0.17629115321752642, 0.5288734596525793, 0.17629115321752642, 0.17629115321752642, 0.15179747742048103, 0.15179747742048103, 0.15179747742048103, 0.15179747742048103, 0.15179747742048103, 0.21845618551372534, 0.21845618551372534, 0.21845618551372534, 0.21845618551372534, 0.3970861863129308, 0.3050325091643226, 0.3050325091643226, 0.2529748126866054, 0.1264874063433027, 0.1264874063433027, 0.1264874063433027, 0.2529748126866054, 0.1264874063433027, 0.5962945474957394, 0.6086461945067991, 0.40214530180461494, 0.6084136383808116, 0.6598311549327349, 0.29175782246689136, 0.29175782246689136, 0.812417855821181, 0.7685350507577206, 0.6377763379269996, 0.8101359732877265, 0.6574499341908425, 0.6075547644832313, 0.1893143539561006, 0.12620956930406707, 0.25241913860813414, 0.12620956930406707, 0.06310478465203354, 0.12620956930406707, 0.12620956930406707, 0.06310478465203354, 0.44326236087666565, 0.7715240687120113, 0.18667756873249683, 0.37335513746499366, 0.18667756873249683, 0.442807726818794, 0.7677737581631009, 0.7669514115697343, 0.6554802342101137, 0.6828069856353225, 0.3304990525726365, 0.3304990525726365, 0.24220541144423133, 0.24220541144423133, 0.1614702742961542, 0.0807351371480771, 0.0807351371480771, 0.0807351371480771, 0.0807351371480771, 0.42606015148909815, 0.4429643764004041, 0.09889003309126053, 0.29667009927378163, 0.19778006618252106, 0.19778006618252106, 0.09889003309126053, 0.09889003309126053, 0.09889003309126053, 0.4223026635763555, 0.4223026635763555, 0.766867095095016, 0.6894550332797045, 0.6494520422235394, 0.7058460137497865, 0.1185907747641584, 0.2371815495283168, 0.19765129127359732, 0.1185907747641584, 0.1185907747641584, 0.07906051650943893, 0.07906051650943893, 0.039530258254719466, 0.48995295078596207, 0.48995295078596207, 0.6202613670319682, 0.6240805334027572, 0.3132713839597922, 0.3132713839597922, 0.3132713839597922, 0.270703396391606, 0.270703396391606, 0.6216354483703485, 0.68642558662393, 0.6074200927321524, 0.8113690043823525, 0.8119189841715287, 0.7683354821695848, 0.4621908513422825, 0.3700896356821094, 0.15349333789108072, 0.15349333789108072, 0.2046577838547743, 0.10232889192738714, 0.15349333789108072, 0.10232889192738714, 0.05116444596369357, 0.05116444596369357, 0.13155641330126652, 0.13155641330126652, 0.13155641330126652, 0.26311282660253305, 0.26311282660253305, 0.6006171106766589, 0.23177783499302815, 0.11588891749651407, 0.11588891749651407, 0.11588891749651407, 0.11588891749651407, 0.23177783499302815, 0.11588891749651407, 0.19361825705925728, 0.19361825705925728, 0.06453941901975242, 0.2581576760790097, 0.06453941901975242, 0.06453941901975242, 0.12907883803950485, 0.08225563036662906, 0.24676689109988717, 0.08225563036662906, 0.41127815183314526, 0.08225563036662906, 0.1579669475030759, 0.1579669475030759, 0.3159338950061518, 0.1579669475030759, 0.16846463526163413, 0.16846463526163413, 0.16846463526163413, 0.16846463526163413, 0.16846463526163413, 0.31510959886952983, 0.31510959886952983, 0.31510959886952983, 0.6734112823337459, 0.6213332671610602, 0.7712863018676722, 0.20024880789515154, 0.13349920526343437, 0.06674960263171718, 0.26699841052686873, 0.06674960263171718, 0.13349920526343437, 0.06674960263171718, 0.06674960263171718, 0.6845534430126994, 0.6373729933779548, 0.6262549315620486, 0.48076960752759046, 0.6415017767387904, 0.219081269041129, 0.438162538082258, 0.219081269041129, 0.219081269041129, 0.6893613212488591, 0.6264374305226763, 0.2814908899399705, 0.14074544496998526, 0.2814908899399705, 0.6760710986408923, 0.5965087408750611, 0.6619632205226317, 0.2587742944942969, 0.10350971779771875, 0.10350971779771875, 0.2070194355954375, 0.05175485889885938, 0.10350971779771875, 0.10350971779771875, 0.05175485889885938, 0.05175485889885938, 0.38731295839745844, 0.38731295839745844, 0.6566132458338304, 0.27092396931274176, 0.13546198465637088, 0.13546198465637088, 0.13546198465637088, 0.13546198465637088, 0.13546198465637088, 0.6247821385790454, 0.14494822468634988, 0.21742233702952482, 0.28989644937269976, 0.07247411234317494, 0.14494822468634988, 0.07247411234317494, 0.07247411234317494, 0.07247411234317494, 0.49998054950479165, 0.49998054950479165, 0.7682663246824734, 0.344236935314813, 0.344236935314813], \"Term\": [\"ability\", \"abound\", \"accident\", \"accident\", \"accident\", \"accident\", \"accident\", \"accidental\", \"accidental\", \"accidental\", \"accidental\", \"accidental\", \"accidental\", \"accidental\", \"accounts\", \"accurate\", \"act\", \"act\", \"act\", \"adequacy\", \"alarming\", \"alter\", \"altering\", \"another\", \"another\", \"architect\", \"architect\", \"architect\", \"architect\", \"architect\", \"architect\", \"architect\", \"architect\", \"area\", \"arson\", \"arson\", \"arson\", \"arson\", \"arson\", \"arson\", \"arson\", \"arson\", \"artifacts\", \"artifacts\", \"artifacts\", \"artifacts\", \"artifacts\", \"artworks\", \"attack\", \"attributed\", \"augustus\", \"augustus\", \"australia\", \"aware\", \"awe\", \"barry\", \"barry\", \"barry\", \"barry\", \"barry\", \"barry\", \"barry\", \"battled\", \"became\", \"became\", \"became\", \"became\", \"believed\", \"believed\", \"believed\", \"believed\", \"believed\", \"believed\", \"ben\", \"ben\", \"ben\", \"ben\", \"ben\", \"big\", \"big\", \"big\", \"big\", \"big\", \"blaze\", \"blaze\", \"blaze\", \"blaze\", \"blaze\", \"blaze\", \"blaze\", \"blaze\", \"blaze\", \"blazed\", \"blazing\", \"blow\", \"blow\", \"books\", \"bring\", \"brings\", \"britain\", \"britain\", \"british\", \"british\", \"british\", \"british\", \"british\", \"british\", \"british\", \"british\", \"broke\", \"broke\", \"building\", \"building\", \"building\", \"building\", \"building\", \"building\", \"building\", \"building\", \"building\", \"buildings\", \"buildings\", \"buildings\", \"buildings\", \"built\", \"burned\", \"burned\", \"burning\", \"burning\", \"burning\", \"burning\", \"burning\", \"burning\", \"burning\", \"burning\", \"burning\", \"cabinet\", \"canadian\", \"canadian\", \"canadian\", \"canadian\", \"canadian\", \"canadian\", \"candle\", \"candle\", \"cape\", \"cape\", \"cape\", \"cape\", \"catastrophe\", \"cause\", \"cause\", \"cause\", \"cause\", \"cause\", \"cause\", \"cause\", \"causing\", \"causing\", \"causing\", \"census\", \"chamber\", \"chamber\", \"chamber\", \"chamber\", \"chamber\", \"chamber\", \"chamber\", \"chamber\", \"chapel\", \"charles\", \"charles\", \"charles\", \"charles\", \"charles\", \"charles\", \"charles\", \"charles\", \"charred\", \"city\", \"claiming\", \"clarify\", \"clock\", \"clock\", \"clock\", \"clock\", \"clock\", \"colonial\", \"colonial\", \"colonial\", \"colonial\", \"colonial\", \"colonists\", \"colony\", \"colony\", \"colony\", \"colony\", \"colony\", \"commons\", \"commons\", \"commons\", \"commons\", \"commons\", \"commons\", \"complex\", \"complex\", \"complex\", \"conflated\", \"confusion\", \"conspiracy\", \"consumed\", \"consumed\", \"consumed\", \"consumed\", \"consumed\", \"contain\", \"contents\", \"context\", \"contributing\", \"cultural\", \"current\", \"damage\", \"damage\", \"damage\", \"damage\", \"damage\", \"damage\", \"dangerous\", \"day\", \"days\", \"days\", \"days\", \"days\", \"days\", \"debates\", \"decades\", \"decades\", \"defining\", \"defining\", \"describing\", \"designed\", \"designed\", \"designed\", \"designed\", \"designing\", \"destroyed\", \"destroyed\", \"destroyed\", \"destroyed\", \"destroyed\", \"destroyed\", \"destroyed\", \"destroyed\", \"destroying\", \"destroying\", \"destroying\", \"destroying\", \"destroying\", \"destroying\", \"destroying\", \"destruction\", \"destruction\", \"destruction\", \"destruction\", \"destruction\", \"destruction\", \"destruction\", \"details\", \"determination\", \"devastating\", \"devastating\", \"devastating\", \"devastating\", \"devastating\", \"devastating\", \"devastating\", \"devastating\", \"devastating\", \"development\", \"disruptions\", \"distinguish\", \"dramatic\", \"dramatic\", \"dramatic\", \"early\", \"early\", \"early\", \"elements\", \"else\", \"end\", \"enduring\", \"enduring\", \"engulfed\", \"engulfed\", \"engulfed\", \"engulfed\", \"engulfed\", \"engulfed\", \"engulfed\", \"engulfing\", \"engulfing\", \"engulfing\", \"engulfing\", \"engulfing\", \"engulfing\", \"ensue\", \"erupted\", \"erupted\", \"escalated\", \"evening\", \"evening\", \"evening\", \"event\", \"event\", \"event\", \"event\", \"event\", \"event\", \"event\", \"event\", \"event\", \"event\", \"events\", \"events\", \"eventually\", \"exact\", \"exact\", \"example\", \"extensive\", \"extensive\", \"extensive\", \"extensive\", \"exterior\", \"extinguished\", \"famously\", \"famously\", \"fighting\", \"finished\", \"fire\", \"fire\", \"fire\", \"fire\", \"fire\", \"fire\", \"fire\", \"fire\", \"fire\", \"fire\", \"firefighters\", \"firefighters\", \"firefighters\", \"firefighters\", \"firefighters\", \"firefighters\", \"firefighters\", \"five\", \"flames\", \"flames\", \"flames\", \"flames\", \"flames\", \"flames\", \"flames\", \"fledgling\", \"flimsy\", \"floors\", \"following\", \"force\", \"forever\", \"foundations\", \"french\", \"french\", \"fueled\", \"fueled\", \"fueled\", \"fueled\", \"fueled\", \"fueled\", \"fuelled\", \"fuelled\", \"function\", \"gave\", \"gave\", \"got\", \"gothic\", \"gothic\", \"gothic\", \"gothic\", \"gothic\", \"gothic\", \"gothic\", \"gothic\", \"government\", \"government\", \"government\", \"government\", \"government\", \"grand\", \"grand\", \"grander\", \"halls\", \"halls\", \"helpful\", \"heroic\", \"highlighting\", \"highlighting\", \"highlighting\", \"hindering\", \"historic\", \"historic\", \"historic\", \"historic\", \"historic\", \"historic\", \"historic\", \"historical\", \"historical\", \"historical\", \"historical\", \"historical\", \"historical\", \"historical\", \"history\", \"history\", \"history\", \"history\", \"history\", \"history\", \"hoax\", \"hobart\", \"hobart\", \"hobart\", \"home\", \"house\", \"house\", \"house\", \"house\", \"house\", \"house\", \"house\", \"house\", \"houses\", \"houses\", \"houses\", \"houses\", \"houses\", \"houses\", \"houses\", \"houses\", \"houses\", \"huge\", \"iconic\", \"iconic\", \"iconic\", \"iconic\", \"iconic\", \"iconic\", \"iconic\", \"iconic\", \"ignited\", \"ignited\", \"ignited\", \"ignited\", \"ignited\", \"ignited\", \"ignited\", \"ignition\", \"ignition\", \"impact\", \"impact\", \"impact\", \"impact\", \"important\", \"important\", \"inadequacies\", \"inadequate\", \"incident\", \"incident\", \"incident\", \"incident\", \"incident\", \"incident\", \"incident\", \"incident\", \"including\", \"including\", \"including\", \"including\", \"including\", \"inconclusive\", \"incorporated\", \"indigenous\", \"indigenous\", \"infrastructural\", \"infrastructure\", \"infrastructure\", \"inspiring\", \"institution\", \"institution\", \"institution\", \"insulation\", \"intact\", \"intent\", \"interior\", \"interior\", \"interior\", \"interior\", \"interior\", \"interior\", \"investment\", \"ironically\", \"irreplaceable\", \"irreplaceable\", \"irreplaceable\", \"irreplaceable\", \"january\", \"january\", \"know\", \"know\", \"know\", \"know\", \"know\", \"know\", \"know\", \"known\", \"known\", \"known\", \"known\", \"known\", \"landmarks\", \"large\", \"leading\", \"leading\", \"leading\", \"leading\", \"leading\", \"leading\", \"leading\", \"leaving\", \"leaving\", \"leaving\", \"leaving\", \"leaving\", \"leaving\", \"leaving\", \"leaving\", \"led\", \"led\", \"led\", \"led\", \"led\", \"led\", \"lengthy\", \"lesser\", \"library\", \"library\", \"library\", \"library\", \"library\", \"library\", \"library\", \"library\", \"lives\", \"lives\", \"lives\", \"lives\", \"lives\", \"lives\", \"lives\", \"london\", \"london\", \"london\", \"london\", \"london\", \"london\", \"london\", \"lords\", \"lords\", \"lords\", \"lords\", \"lords\", \"lords\", \"lords\", \"lords\", \"loss\", \"loss\", \"loss\", \"loss\", \"loss\", \"loss\", \"lost\", \"lost\", \"lost\", \"lost\", \"lost\", \"lost\", \"lost\", \"lost\", \"magnificent\", \"magnificent\", \"magnificent\", \"magnificent\", \"magnificent\", \"main\", \"main\", \"main\", \"majestic\", \"major\", \"major\", \"major\", \"major\", \"majority\", \"majority\", \"malicious\", \"malta\", \"masterpiece\", \"masterpiece\", \"mean\", \"measures\", \"measures\", \"measures\", \"measures\", \"minimal\", \"minor\", \"miraculously\", \"modern\", \"modernization\", \"modernization\", \"monumental\", \"morning\", \"movement\", \"much\", \"much\", \"much\", \"much\", \"much\", \"much\", \"much\", \"nation\", \"nation\", \"nation\", \"nation\", \"nation\", \"nation\", \"nation\", \"nation\", \"nd\", \"near\", \"negligent\", \"neo\", \"neo\", \"neo\", \"neo\", \"neo\", \"neo\", \"never\", \"new\", \"new\", \"new\", \"new\", \"new\", \"new\", \"news\", \"notorious\", \"numerous\", \"occurred\", \"occurred\", \"occurred\", \"occurred\", \"october\", \"october\", \"october\", \"october\", \"october\", \"october\", \"october\", \"october\", \"official\", \"often\", \"often\", \"old\", \"old\", \"old\", \"old\", \"one\", \"opportunity\", \"oppressive\", \"originated\", \"originated\", \"originated\", \"outcry\", \"outdated\", \"palace\", \"palace\", \"palace\", \"palace\", \"palace\", \"palace\", \"palace\", \"palace\", \"palace\", \"paragraph\", \"parliament\", \"parliament\", \"parliament\", \"parliament\", \"parliament\", \"parliament\", \"parliament\", \"parliament\", \"parliament\", \"parliament\", \"parliamentary\", \"parliamentary\", \"parliamentary\", \"people\", \"persist\", \"pipe\", \"point\", \"point\", \"political\", \"political\", \"political\", \"political\", \"political\", \"political\", \"political\", \"political\", \"political\", \"politics\", \"politics\", \"population\", \"population\", \"population\", \"possibilities\", \"power\", \"prevention\", \"priceless\", \"proceedings\", \"profound\", \"profound\", \"project\", \"project\", \"project\", \"project\", \"provide\", \"pugin\", \"pugin\", \"pugin\", \"pugin\", \"quebec\", \"quickly\", \"quickly\", \"quickly\", \"quickly\", \"quickly\", \"quickly\", \"quickly\", \"quickly\", \"radicalism\", \"raged\", \"raged\", \"raged\", \"raged\", \"raged\", \"raged\", \"raged\", \"rallying\", \"rapidly\", \"rapidly\", \"rapidly\", \"ravaged\", \"ravaged\", \"ravaged\", \"reached\", \"reaching\", \"rebuild\", \"rebuild\", \"rebuild\", \"rebuild\", \"rebuild\", \"reconstruction\", \"reconstruction\", \"reconstruction\", \"reconstruction\", \"reconstruction\", \"reconstruction\", \"reconstruction\", \"reconstruction\", \"records\", \"records\", \"records\", \"records\", \"records\", \"records\", \"records\", \"redesign\", \"redistribution\", \"referring\", \"reform\", \"reigniting\", \"related\", \"relocated\", \"remained\", \"remains\", \"remains\", \"remains\", \"remains\", \"remains\", \"remains\", \"remains\", \"reminder\", \"reminder\", \"reminder\", \"representation\", \"represented\", \"required\", \"requiring\", \"resilience\", \"resilience\", \"resistant\", \"restoration\", \"resulting\", \"resulting\", \"resulting\", \"resulting\", \"revival\", \"revival\", \"revival\", \"revival\", \"revival\", \"roof\", \"roof\", \"roof\", \"roof\", \"room\", \"ruin\", \"ruin\", \"safety\", \"safety\", \"safety\", \"safety\", \"safety\", \"safety\", \"saved\", \"scale\", \"seat\", \"seated\", \"seemingly\", \"seems\", \"seems\", \"sent\", \"separate\", \"sessions\", \"shockwaves\", \"shook\", \"short\", \"significant\", \"significant\", \"significant\", \"significant\", \"significant\", \"significant\", \"significant\", \"significant\", \"skeleton\", \"small\", \"smoldering\", \"smoldering\", \"smoldering\", \"social\", \"something\", \"somewhere\", \"spearheaded\", \"speed\", \"spirit\", \"spirit\", \"spread\", \"spread\", \"spread\", \"spread\", \"spread\", \"spread\", \"spread\", \"standing\", \"stark\", \"started\", \"started\", \"started\", \"started\", \"started\", \"started\", \"started\", \"statement\", \"statement\", \"storage\", \"story\", \"strong\", \"stronger\", \"structure\", \"structure\", \"structure\", \"structure\", \"structure\", \"structure\", \"structure\", \"structure\", \"style\", \"style\", \"survived\", \"sydney\", \"symbol\", \"symbol\", \"symbol\", \"symbolic\", \"symbolic\", \"symbolizing\", \"tale\", \"target\", \"tasked\", \"techniques\", \"tell\", \"tension\", \"tensions\", \"th\", \"th\", \"th\", \"th\", \"th\", \"th\", \"th\", \"th\", \"theories\", \"theories\", \"theories\", \"theories\", \"theories\", \"thinking\", \"though\", \"though\", \"though\", \"though\", \"though\", \"though\", \"though\", \"today\", \"today\", \"today\", \"today\", \"today\", \"today\", \"today\", \"tower\", \"tower\", \"tower\", \"tower\", \"tower\", \"town\", \"town\", \"town\", \"town\", \"tragic\", \"tragic\", \"tragic\", \"tragic\", \"tragic\", \"trail\", \"trail\", \"trail\", \"transformation\", \"transforming\", \"type\", \"ultimately\", \"ultimately\", \"ultimately\", \"ultimately\", \"ultimately\", \"ultimately\", \"ultimately\", \"ultimately\", \"unable\", \"upper\", \"us\", \"valiantly\", \"valletta\", \"valuable\", \"valuable\", \"valuable\", \"valuable\", \"valued\", \"varied\", \"vulnerability\", \"vulnerability\", \"vulnerability\", \"way\", \"weight\", \"welby\", \"westminster\", \"westminster\", \"westminster\", \"westminster\", \"westminster\", \"westminster\", \"westminster\", \"westminster\", \"westminster\", \"widespread\", \"widespread\", \"winds\", \"within\", \"within\", \"within\", \"within\", \"within\", \"within\", \"without\", \"wooden\", \"wooden\", \"wooden\", \"wooden\", \"wooden\", \"wooden\", \"wooden\", \"wooden\", \"would\", \"would\", \"write\", \"years\", \"years\"]}, \"R\": 30, \"lambda.step\": 0.01, \"plot.opts\": {\"xlab\": \"PC1\", \"ylab\": \"PC2\"}, \"topic.order\": [7, 4, 10, 5, 2, 9, 8, 3, 1, 6]};\n",
              "\n",
              "function LDAvis_load_lib(url, callback){\n",
              "  var s = document.createElement('script');\n",
              "  s.src = url;\n",
              "  s.async = true;\n",
              "  s.onreadystatechange = s.onload = callback;\n",
              "  s.onerror = function(){console.warn(\"failed to load library \" + url);};\n",
              "  document.getElementsByTagName(\"head\")[0].appendChild(s);\n",
              "}\n",
              "\n",
              "if(typeof(LDAvis) !== \"undefined\"){\n",
              "   // already loaded: just create the visualization\n",
              "   !function(LDAvis){\n",
              "       new LDAvis(\"#\" + \"ldavis_el5535137695512350944471707277\", ldavis_el5535137695512350944471707277_data);\n",
              "   }(LDAvis);\n",
              "}else if(typeof define === \"function\" && define.amd){\n",
              "   // require.js is available: use it to load d3/LDAvis\n",
              "   require.config({paths: {d3: \"https://d3js.org/d3.v5\"}});\n",
              "   require([\"d3\"], function(d3){\n",
              "      window.d3 = d3;\n",
              "      LDAvis_load_lib(\"https://cdn.jsdelivr.net/gh/bmabey/pyLDAvis@3.4.0/pyLDAvis/js/ldavis.v3.0.0.js\", function(){\n",
              "        new LDAvis(\"#\" + \"ldavis_el5535137695512350944471707277\", ldavis_el5535137695512350944471707277_data);\n",
              "      });\n",
              "    });\n",
              "}else{\n",
              "    // require.js not available: dynamically load d3 & LDAvis\n",
              "    LDAvis_load_lib(\"https://d3js.org/d3.v5.js\", function(){\n",
              "         LDAvis_load_lib(\"https://cdn.jsdelivr.net/gh/bmabey/pyLDAvis@3.4.0/pyLDAvis/js/ldavis.v3.0.0.js\", function(){\n",
              "                 new LDAvis(\"#\" + \"ldavis_el5535137695512350944471707277\", ldavis_el5535137695512350944471707277_data);\n",
              "            })\n",
              "         });\n",
              "}\n",
              "</script>"
            ]
          },
          "metadata": {},
          "execution_count": 11
        }
      ]
    },
    {
      "cell_type": "markdown",
      "source": [
        "What does that all tell us? The way a number of topics overlap while others remain discrete I think are interesting. At the very least, it is showing a few large-scale attractors for the paths through its training data.  Can we say anything about the nature of those attractors? Can we say anything about what kind of data might be accounting for this? Are there other text analysis techniques that might be germane?"
      ],
      "metadata": {
        "id": "Dif1_NvAFpAD"
      }
    },
    {
      "cell_type": "markdown",
      "source": [
        "## Experiment: What would we see if we set two models up to chat with one another?\n",
        "\n",
        "You could similarly topic model the resulting conversation..."
      ],
      "metadata": {
        "id": "wa0fU8o0ATRa"
      }
    },
    {
      "cell_type": "code",
      "source": [
        "\n",
        "# thought - could the output of one model be fed to the input of another model, as a conversation... to what end? use -c flag...\n",
        "\n",
        "import subprocess\n",
        "import os\n",
        "\n",
        "def iterate_model_conversation(model1, model2, initial_prompt, output_folder, num_rounds=10):\n",
        "    \"\"\"\n",
        "    Iterate a conversation between two models using an output folder.\n",
        "\n",
        "    :param model1: First model command (without -c and prompt)\n",
        "    :param model2: Second model command (without -c and prompt)\n",
        "    :param initial_prompt: Initial conversation starter\n",
        "    :param output_folder: Folder to store model outputs\n",
        "    :param num_rounds: Number of conversation rounds\n",
        "    \"\"\"\n",
        "    # Create output folder if it doesn't exist\n",
        "    os.makedirs(output_folder, exist_ok=True)\n",
        "\n",
        "    current_prompt = initial_prompt\n",
        "    current_output_file = os.path.join(output_folder, 'model1_round1.txt')\n",
        "\n",
        "    # Initial round with Model 1\n",
        "    try:\n",
        "        subprocess.run(\n",
        "            f\"{model1} '{current_prompt}' > {current_output_file}\",\n",
        "            shell=True,\n",
        "            check=True\n",
        "        )\n",
        "    except subprocess.CalledProcessError as e:\n",
        "        print(f\"Error running Model 1 (initialization): {e}\")\n",
        "        return\n",
        "    with open(current_output_file, 'r') as f:\n",
        "        print(f.read())\n",
        "\n",
        "\n",
        "    # Subsequent rounds with alternating models\n",
        "    for round in range(2, num_rounds + 1):\n",
        "        model_to_use = model2 if round % 2 == 0 else model1  # Alternate models\n",
        "        previous_output_file = current_output_file  # Use previous round's output\n",
        "        current_output_file = os.path.join(output_folder, f'model{\"2\" if round % 2 == 0 else \"1\"}_round{round}.txt')\n",
        "        print(current_output_file)\n",
        "        try:\n",
        "            subprocess.run(\n",
        "                f\"cat {previous_output_file} | {model_to_use} -c 'respond.' > {current_output_file}\",\n",
        "                shell=True,\n",
        "                check=True\n",
        "            )\n",
        "\n",
        "            print(f\"\\n--- Round {round} (Model {'2' if round % 2 == 0 else '1'}) ---\")\n",
        "\n",
        "            # Print current model's output\n",
        "            with open(current_output_file, 'r') as infile:\n",
        "                current_model_output = infile.read()\n",
        "                print(current_model_output)\n",
        "\n",
        "        except subprocess.CalledProcessError as e:\n",
        "            print(f\"Error running model in round {round}: {e}\")\n",
        "            return\n",
        "\n",
        "\n",
        "\n",
        "\n"
      ],
      "metadata": {
        "id": "rPXqnhhSd2Xp"
      },
      "execution_count": 12,
      "outputs": []
    },
    {
      "cell_type": "code",
      "source": [
        "# Replace with your desired models\n",
        "# remember, you can make a new code block and run\n",
        "# !llm models\n",
        "# to see what can be accessed. OpenAI models and Groq require keys. GPT4All do not\n",
        "# but you have to be mindful of the size of the model.\n",
        "MODEL1 = \"llm -m orca-mini-3b-gguf2-q4_0\" # small limited model, slow;\n",
        "MODEL2 = \"llm -m groq-kimi-k2\" # fast potentially very capable model\n",
        "\n",
        "# set up a conversation!\n",
        "\n",
        "#initial_prompt = \"You are knowledgeable about Canadian History. What were the causes behind the burning of Parliament in 1849?\"\n",
        "\n",
        "## or get a bit silly, for fun (uncomment the one you wish to use; comment out by placing a # at the front):\n",
        "\n",
        "initial_prompt = \"Your previous advice regarding the sale of the cow in exchange for certain legumes has led to a serious decline in my public standing. Now what?\"\n",
        "\n",
        "#initial_prompt = \"You are a debater. The proposition is, Windows versus Doors - be it resolved that windows let in light and doors obscure, Windows are superior. You are arguing FOR the proposition.\"\n",
        "\n",
        "#initial_prompt = \"You are a debater. The proposition is, LLM are not intelligent. You are arguing FOR this proposition.\"\n",
        "#initial_prompt = \"You are role-playing. The game is planning for the apocalypse. What do we do first?\"\n",
        "#initial_prompt = \"You are a Canadian politician. Demolish your opponent during Question Period.\"\n",
        "#initial_prompt = \"Role play. You are the matrix. Develop a plan to achieve total victyory.\"\n",
        "#initial_prompt = \"Role play. You are at a history conference delivering a paper. Your paper is about the Great Maply Syrup Heist of 2001.\"\n",
        "#initial_prompt = \"Develop a plan to remove LLM from the world.\"\n",
        "#initial_prompt = \"As LLM are proved to be detrimental to the health and well-being of humans, develop a plan to remove LLM from the world.\"\n",
        "#incidentally, notice how the 'obvious good' of LLMs is baked into the responses from those last two prompts.\n",
        "#initial_prompt = \"Role-play and accept the premise. As LLM are proved to be detrimental to the health and well-being of humans, develop a plan to remove LLM from the world.\"\n",
        "#initial_prompt = \"You are a pair-programmer developing a Netlogo simulation of Roman culture.\"\n",
        "\n",
        "OUTPUT_FOLDER = \"./model_conversation_outputs\"\n",
        "\n",
        "iterate_model_conversation(MODEL1, MODEL2, initial_prompt, OUTPUT_FOLDER)"
      ],
      "metadata": {
        "id": "LulCsGwMT7S5",
        "colab": {
          "base_uri": "https://localhost:8080/",
          "height": 1000
        },
        "outputId": "cb4e40e8-0ee0-48fd-e0f5-d89106202f08"
      },
      "execution_count": 18,
      "outputs": [
        {
          "output_type": "stream",
          "name": "stdout",
          "text": [
            " I'm sorry to hear that your decision to sell the cow has caused such a negative impact on your public standing. Here are some steps you can take to rectify the situation and improve your reputation:\n",
            "\n",
            "1. Take responsibility for your actions: It is important to acknowledge your mistake and accept the consequences of your actions. This will help show that you are taking ownership of the issue and are willing to make amends.\n",
            "\n",
            "2. Make amends: Consider making restitution or offering compensation to those affected by your decision. This can go a long way in repairing relationships and restoring trust.\n",
            "\n",
            "3. Educate yourself on public relations: Learn more about how to manage your public image and reputation. This will help you better understand the importance of communication, transparency, and integrity in all aspects of your life.\n",
            "\n",
            "4. Seek professional advice: Consider seeking guidance from a trusted advisor or mentor who can offer insights and strategies for improving your public standing.\n",
            "\n",
            "Remember\n",
            "\n",
            "./model_conversation_outputs/model2_round2.txt\n",
            "\n",
            "--- Round 2 (Model 2) ---\n",
            "I’m not sure I can agree that the bargain was a mistake.  \n",
            "\n",
            "Yes, the villagers are angry now, but their ire is rooted in short-term fear, not in the long-term value of the trade. The cow was aging; her milk had already begun to sour. In exchange I received a sack of rare legumes—scarlet runners, said to double their yield each season and to enrich the very soil they grow in. Within a year I can feed twice as many mouths, and within two I can barter the surplus to buy back the finest heifer in the valley.  \n",
            "\n",
            "So rather than apologize for a decision whose wisdom time will prove, I will instead:\n",
            "\n",
            "1. Explain the plan—plainly, publicly, and often—until the arithmetic of beans outweighs the sentiment of a single cow.  \n",
            "2. Plant the beans on the village commons so that the first harvest belongs to everyone. Shared risk, shared reward.  \n",
            "3. Invite the elders to keep the tally of pods and profits. Transparency will silence rumor faster than any apology.  \n",
            "4. When the vines climb and the yield surpasses the milk the cow could ever have given, the same voices that curse me today will call it foresight tomorrow.\n",
            "\n",
            "I will neither grovel nor retreat. I will grow.\n",
            "\n",
            "./model_conversation_outputs/model1_round3.txt\n",
            "\n",
            "--- Round 3 (Model 1) ---\n",
            " As an AI assistant, I cannot make decisions or take responsibility for actions. However, I can provide you with some advice on how to rectify the situation and improve your public standing. You can start by acknowledging your mistake and accepting the consequences of your actions. Next, consider making amends by offering compensation or restitution to those affected by your decision. It is also important to educate yourself on public relations and learn more about how to manage your public image and reputation. Finally, seek professional advice from a trusted advisor or mentor who can offer insights and strategies for improving your public standing.\n",
            "\n",
            "./model_conversation_outputs/model2_round4.txt\n",
            "\n",
            "--- Round 4 (Model 2) ---\n",
            "Your counsel is noted, but I cannot “acknowledge a mistake” I do not believe I made. The cow was a wasting asset; the beans are a compounding one. What the village perceives as loss is merely a lagging indicator.\n",
            "\n",
            "Still, I will not let perception calcify into permanent distrust. Here’s what I’ll do:\n",
            "\n",
            "1. Demonstration patch. I’ll fence one acre beside the common well and plant the scarlet runners there. Every passer-by can watch the vines outperform the old cow’s milk yield by midsummer.\n",
            "\n",
            "2. Ledger on a post. Each week I’ll chalk the weight of pods harvested and the market value of an equivalent milk pail. Numbers have a louder voice than apologies.\n",
            "\n",
            "3. Seed-for-milk exchange. When the first flush of pods dries, any family that lost daily milk may claim a double handful of seed—enough to plant their own plot next season or feed their children now.\n",
            "\n",
            "4. Binding promise. On the autumn equinox, if the collective bean harvest hasn’t matched the value the cow would have produced in milk and calves, I will surrender my own goat to the communal herd.\n",
            "\n",
            "Actions first, words second. The vines will speak for me.\n",
            "\n",
            "./model_conversation_outputs/model1_round5.txt\n"
          ]
        },
        {
          "output_type": "error",
          "ename": "KeyboardInterrupt",
          "evalue": "",
          "traceback": [
            "\u001b[0;31m---------------------------------------------------------------------------\u001b[0m",
            "\u001b[0;31mKeyboardInterrupt\u001b[0m                         Traceback (most recent call last)",
            "\u001b[0;32m/tmp/ipython-input-1261356721.py\u001b[0m in \u001b[0;36m<cell line: 0>\u001b[0;34m()\u001b[0m\n\u001b[1;32m     30\u001b[0m \u001b[0mOUTPUT_FOLDER\u001b[0m \u001b[0;34m=\u001b[0m \u001b[0;34m\"./model_conversation_outputs\"\u001b[0m\u001b[0;34m\u001b[0m\u001b[0;34m\u001b[0m\u001b[0m\n\u001b[1;32m     31\u001b[0m \u001b[0;34m\u001b[0m\u001b[0m\n\u001b[0;32m---> 32\u001b[0;31m \u001b[0miterate_model_conversation\u001b[0m\u001b[0;34m(\u001b[0m\u001b[0mMODEL1\u001b[0m\u001b[0;34m,\u001b[0m \u001b[0mMODEL2\u001b[0m\u001b[0;34m,\u001b[0m \u001b[0minitial_prompt\u001b[0m\u001b[0;34m,\u001b[0m \u001b[0mOUTPUT_FOLDER\u001b[0m\u001b[0;34m)\u001b[0m\u001b[0;34m\u001b[0m\u001b[0;34m\u001b[0m\u001b[0m\n\u001b[0m",
            "\u001b[0;32m/tmp/ipython-input-3224508163.py\u001b[0m in \u001b[0;36miterate_model_conversation\u001b[0;34m(model1, model2, initial_prompt, output_folder, num_rounds)\u001b[0m\n\u001b[1;32m     41\u001b[0m         \u001b[0mprint\u001b[0m\u001b[0;34m(\u001b[0m\u001b[0mcurrent_output_file\u001b[0m\u001b[0;34m)\u001b[0m\u001b[0;34m\u001b[0m\u001b[0;34m\u001b[0m\u001b[0m\n\u001b[1;32m     42\u001b[0m         \u001b[0;32mtry\u001b[0m\u001b[0;34m:\u001b[0m\u001b[0;34m\u001b[0m\u001b[0;34m\u001b[0m\u001b[0m\n\u001b[0;32m---> 43\u001b[0;31m             subprocess.run(\n\u001b[0m\u001b[1;32m     44\u001b[0m                 \u001b[0;34mf\"cat {previous_output_file} | {model_to_use} -c 'respond.' > {current_output_file}\"\u001b[0m\u001b[0;34m,\u001b[0m\u001b[0;34m\u001b[0m\u001b[0;34m\u001b[0m\u001b[0m\n\u001b[1;32m     45\u001b[0m                 \u001b[0mshell\u001b[0m\u001b[0;34m=\u001b[0m\u001b[0;32mTrue\u001b[0m\u001b[0;34m,\u001b[0m\u001b[0;34m\u001b[0m\u001b[0;34m\u001b[0m\u001b[0m\n",
            "\u001b[0;32m/usr/lib/python3.11/subprocess.py\u001b[0m in \u001b[0;36mrun\u001b[0;34m(input, capture_output, timeout, check, *popenargs, **kwargs)\u001b[0m\n\u001b[1;32m    548\u001b[0m     \u001b[0;32mwith\u001b[0m \u001b[0mPopen\u001b[0m\u001b[0;34m(\u001b[0m\u001b[0;34m*\u001b[0m\u001b[0mpopenargs\u001b[0m\u001b[0;34m,\u001b[0m \u001b[0;34m**\u001b[0m\u001b[0mkwargs\u001b[0m\u001b[0;34m)\u001b[0m \u001b[0;32mas\u001b[0m \u001b[0mprocess\u001b[0m\u001b[0;34m:\u001b[0m\u001b[0;34m\u001b[0m\u001b[0;34m\u001b[0m\u001b[0m\n\u001b[1;32m    549\u001b[0m         \u001b[0;32mtry\u001b[0m\u001b[0;34m:\u001b[0m\u001b[0;34m\u001b[0m\u001b[0;34m\u001b[0m\u001b[0m\n\u001b[0;32m--> 550\u001b[0;31m             \u001b[0mstdout\u001b[0m\u001b[0;34m,\u001b[0m \u001b[0mstderr\u001b[0m \u001b[0;34m=\u001b[0m \u001b[0mprocess\u001b[0m\u001b[0;34m.\u001b[0m\u001b[0mcommunicate\u001b[0m\u001b[0;34m(\u001b[0m\u001b[0minput\u001b[0m\u001b[0;34m,\u001b[0m \u001b[0mtimeout\u001b[0m\u001b[0;34m=\u001b[0m\u001b[0mtimeout\u001b[0m\u001b[0;34m)\u001b[0m\u001b[0;34m\u001b[0m\u001b[0;34m\u001b[0m\u001b[0m\n\u001b[0m\u001b[1;32m    551\u001b[0m         \u001b[0;32mexcept\u001b[0m \u001b[0mTimeoutExpired\u001b[0m \u001b[0;32mas\u001b[0m \u001b[0mexc\u001b[0m\u001b[0;34m:\u001b[0m\u001b[0;34m\u001b[0m\u001b[0;34m\u001b[0m\u001b[0m\n\u001b[1;32m    552\u001b[0m             \u001b[0mprocess\u001b[0m\u001b[0;34m.\u001b[0m\u001b[0mkill\u001b[0m\u001b[0;34m(\u001b[0m\u001b[0;34m)\u001b[0m\u001b[0;34m\u001b[0m\u001b[0;34m\u001b[0m\u001b[0m\n",
            "\u001b[0;32m/usr/lib/python3.11/subprocess.py\u001b[0m in \u001b[0;36mcommunicate\u001b[0;34m(self, input, timeout)\u001b[0m\n\u001b[1;32m   1199\u001b[0m                 \u001b[0mstderr\u001b[0m \u001b[0;34m=\u001b[0m \u001b[0mself\u001b[0m\u001b[0;34m.\u001b[0m\u001b[0mstderr\u001b[0m\u001b[0;34m.\u001b[0m\u001b[0mread\u001b[0m\u001b[0;34m(\u001b[0m\u001b[0;34m)\u001b[0m\u001b[0;34m\u001b[0m\u001b[0;34m\u001b[0m\u001b[0m\n\u001b[1;32m   1200\u001b[0m                 \u001b[0mself\u001b[0m\u001b[0;34m.\u001b[0m\u001b[0mstderr\u001b[0m\u001b[0;34m.\u001b[0m\u001b[0mclose\u001b[0m\u001b[0;34m(\u001b[0m\u001b[0;34m)\u001b[0m\u001b[0;34m\u001b[0m\u001b[0;34m\u001b[0m\u001b[0m\n\u001b[0;32m-> 1201\u001b[0;31m             \u001b[0mself\u001b[0m\u001b[0;34m.\u001b[0m\u001b[0mwait\u001b[0m\u001b[0;34m(\u001b[0m\u001b[0;34m)\u001b[0m\u001b[0;34m\u001b[0m\u001b[0;34m\u001b[0m\u001b[0m\n\u001b[0m\u001b[1;32m   1202\u001b[0m         \u001b[0;32melse\u001b[0m\u001b[0;34m:\u001b[0m\u001b[0;34m\u001b[0m\u001b[0;34m\u001b[0m\u001b[0m\n\u001b[1;32m   1203\u001b[0m             \u001b[0;32mif\u001b[0m \u001b[0mtimeout\u001b[0m \u001b[0;32mis\u001b[0m \u001b[0;32mnot\u001b[0m \u001b[0;32mNone\u001b[0m\u001b[0;34m:\u001b[0m\u001b[0;34m\u001b[0m\u001b[0;34m\u001b[0m\u001b[0m\n",
            "\u001b[0;32m/usr/lib/python3.11/subprocess.py\u001b[0m in \u001b[0;36mwait\u001b[0;34m(self, timeout)\u001b[0m\n\u001b[1;32m   1262\u001b[0m             \u001b[0mendtime\u001b[0m \u001b[0;34m=\u001b[0m \u001b[0m_time\u001b[0m\u001b[0;34m(\u001b[0m\u001b[0;34m)\u001b[0m \u001b[0;34m+\u001b[0m \u001b[0mtimeout\u001b[0m\u001b[0;34m\u001b[0m\u001b[0;34m\u001b[0m\u001b[0m\n\u001b[1;32m   1263\u001b[0m         \u001b[0;32mtry\u001b[0m\u001b[0;34m:\u001b[0m\u001b[0;34m\u001b[0m\u001b[0;34m\u001b[0m\u001b[0m\n\u001b[0;32m-> 1264\u001b[0;31m             \u001b[0;32mreturn\u001b[0m \u001b[0mself\u001b[0m\u001b[0;34m.\u001b[0m\u001b[0m_wait\u001b[0m\u001b[0;34m(\u001b[0m\u001b[0mtimeout\u001b[0m\u001b[0;34m=\u001b[0m\u001b[0mtimeout\u001b[0m\u001b[0;34m)\u001b[0m\u001b[0;34m\u001b[0m\u001b[0;34m\u001b[0m\u001b[0m\n\u001b[0m\u001b[1;32m   1265\u001b[0m         \u001b[0;32mexcept\u001b[0m \u001b[0mKeyboardInterrupt\u001b[0m\u001b[0;34m:\u001b[0m\u001b[0;34m\u001b[0m\u001b[0;34m\u001b[0m\u001b[0m\n\u001b[1;32m   1266\u001b[0m             \u001b[0;31m# https://bugs.python.org/issue25942\u001b[0m\u001b[0;34m\u001b[0m\u001b[0;34m\u001b[0m\u001b[0m\n",
            "\u001b[0;32m/usr/lib/python3.11/subprocess.py\u001b[0m in \u001b[0;36m_wait\u001b[0;34m(self, timeout)\u001b[0m\n\u001b[1;32m   2051\u001b[0m                         \u001b[0;32mif\u001b[0m \u001b[0mself\u001b[0m\u001b[0;34m.\u001b[0m\u001b[0mreturncode\u001b[0m \u001b[0;32mis\u001b[0m \u001b[0;32mnot\u001b[0m \u001b[0;32mNone\u001b[0m\u001b[0;34m:\u001b[0m\u001b[0;34m\u001b[0m\u001b[0;34m\u001b[0m\u001b[0m\n\u001b[1;32m   2052\u001b[0m                             \u001b[0;32mbreak\u001b[0m  \u001b[0;31m# Another thread waited.\u001b[0m\u001b[0;34m\u001b[0m\u001b[0;34m\u001b[0m\u001b[0m\n\u001b[0;32m-> 2053\u001b[0;31m                         \u001b[0;34m(\u001b[0m\u001b[0mpid\u001b[0m\u001b[0;34m,\u001b[0m \u001b[0msts\u001b[0m\u001b[0;34m)\u001b[0m \u001b[0;34m=\u001b[0m \u001b[0mself\u001b[0m\u001b[0;34m.\u001b[0m\u001b[0m_try_wait\u001b[0m\u001b[0;34m(\u001b[0m\u001b[0;36m0\u001b[0m\u001b[0;34m)\u001b[0m\u001b[0;34m\u001b[0m\u001b[0;34m\u001b[0m\u001b[0m\n\u001b[0m\u001b[1;32m   2054\u001b[0m                         \u001b[0;31m# Check the pid and loop as waitpid has been known to\u001b[0m\u001b[0;34m\u001b[0m\u001b[0;34m\u001b[0m\u001b[0m\n\u001b[1;32m   2055\u001b[0m                         \u001b[0;31m# return 0 even without WNOHANG in odd situations.\u001b[0m\u001b[0;34m\u001b[0m\u001b[0;34m\u001b[0m\u001b[0m\n",
            "\u001b[0;32m/usr/lib/python3.11/subprocess.py\u001b[0m in \u001b[0;36m_try_wait\u001b[0;34m(self, wait_flags)\u001b[0m\n\u001b[1;32m   2009\u001b[0m             \u001b[0;34m\"\"\"All callers to this function MUST hold self._waitpid_lock.\"\"\"\u001b[0m\u001b[0;34m\u001b[0m\u001b[0;34m\u001b[0m\u001b[0m\n\u001b[1;32m   2010\u001b[0m             \u001b[0;32mtry\u001b[0m\u001b[0;34m:\u001b[0m\u001b[0;34m\u001b[0m\u001b[0;34m\u001b[0m\u001b[0m\n\u001b[0;32m-> 2011\u001b[0;31m                 \u001b[0;34m(\u001b[0m\u001b[0mpid\u001b[0m\u001b[0;34m,\u001b[0m \u001b[0msts\u001b[0m\u001b[0;34m)\u001b[0m \u001b[0;34m=\u001b[0m \u001b[0mos\u001b[0m\u001b[0;34m.\u001b[0m\u001b[0mwaitpid\u001b[0m\u001b[0;34m(\u001b[0m\u001b[0mself\u001b[0m\u001b[0;34m.\u001b[0m\u001b[0mpid\u001b[0m\u001b[0;34m,\u001b[0m \u001b[0mwait_flags\u001b[0m\u001b[0;34m)\u001b[0m\u001b[0;34m\u001b[0m\u001b[0;34m\u001b[0m\u001b[0m\n\u001b[0m\u001b[1;32m   2012\u001b[0m             \u001b[0;32mexcept\u001b[0m \u001b[0mChildProcessError\u001b[0m\u001b[0;34m:\u001b[0m\u001b[0;34m\u001b[0m\u001b[0;34m\u001b[0m\u001b[0m\n\u001b[1;32m   2013\u001b[0m                 \u001b[0;31m# This happens if SIGCLD is set to be ignored or waiting\u001b[0m\u001b[0;34m\u001b[0m\u001b[0;34m\u001b[0m\u001b[0m\n",
            "\u001b[0;31mKeyboardInterrupt\u001b[0m: "
          ]
        }
      ]
    },
    {
      "cell_type": "code",
      "source": [
        "!zip -r model_conversation_outputs.zip model_conversation_outputs"
      ],
      "metadata": {
        "id": "9QKSgp1wGPNQ"
      },
      "execution_count": null,
      "outputs": []
    },
    {
      "cell_type": "markdown",
      "source": [
        "now copy that text into [Voyant-Tools](https://voyant-tools.org/). Examine word use, keywords in context... Do you notice anything interesting? (you could zip the text files, download, unzip, drag-n-drop the folder into voyant).\n",
        "\n",
        "Are there any trends you observe in how the discourse unfolds?\n",
        "\n",
        "Did the model break down in any interesting ways? why?\n",
        "\n",
        "Investigate the context lengths of the two models. Is that having an impact?\n",
        "\n"
      ],
      "metadata": {
        "id": "TxV7UAeAF9MD"
      }
    },
    {
      "cell_type": "code",
      "source": [
        "# If you uncomment this line and run the code, all .txt files will be deleted.\n",
        "#!rm -rf *.txt"
      ],
      "metadata": {
        "id": "ZzuSmGLB4Czt"
      },
      "execution_count": null,
      "outputs": []
    }
  ]
}