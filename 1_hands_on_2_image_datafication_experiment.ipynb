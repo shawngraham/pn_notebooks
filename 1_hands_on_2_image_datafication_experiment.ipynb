{
  "nbformat": 4,
  "nbformat_minor": 0,
  "metadata": {
    "colab": {
      "provenance": []
    },
    "kernelspec": {
      "name": "python3",
      "display_name": "Python 3"
    },
    "language_info": {
      "name": "python"
    }
  },
  "cells": [
    {
      "cell_type": "markdown",
      "source": [
        "# Experiment: Attractors in Image Space\n",
        "\n",
        "If we generate say 100 images an image generator like https://perchance.org/ai-text-to-image-generator and use the same prompt each time and we try the '[datafication of a kiss](https://www.cyberneticforests.com/news/how-to-read-an-ai-image)' approach[^1], what can we see? The idea is to treat the generated images as an infographic of the underlying dataset. What visual tropes or elements seem to be in play in the different clusters? What does that imply about the underlying data?\n",
        "\n",
        "1. Go to Perchance and generate multiple images from the same prompt. use the same prompt 11 times. Take a screenshot of the grid of results each time. Rename your screenshots run1.png, run2.png, run3.png, run4.png, run5.png etc. Drag and drop the screenshots into the file tray here. Then, run the code below in **PART ONE** to slice each screenshot into its constituent sub images.\n",
        "\n",
        "2. Then continue to **PART TWO**. Part two uses the PixPlot code from YaleDH. This code however was written for an _earlier_ version of Python, so we have to set up Colab to be able to use Python 3.7 _just_ for running Pixplot. This is what Part Two achieves. When you actually invoke pixplot against your folder of generated images, the code will drop each image through a trained neural network to turn it into a vector (a direction) within that model. Then it measures the similarity of each vector to every other, boiling that all down to a two dimensional plot where similar images occupy similar spaces.\n",
        "\n",
        "3. **PART THREE** is how we examine the results. When PixPlot ran, it created all of the pieces for a website that will show you the plot of image similarity as well as define hotspots (areas of similarity) and indexical images for those hotspots. It puts everything you need into a folder called 'output'. While it is possible to make this output website display within the notebook (which we'll try), that's not ideal. So the final thing you'll do is zip that output folder up and then use the Netlify Drop service https://app.netlify.com/drop to create a temporary website so you can explore your results.\n",
        "\n",
        "> Examine this 'infographic'. What seems to define a cluster? What does this tell you about the underlying 'understanding' of the concept?\n",
        "\n",
        "**IF** you have Python installed on your own computer, you can see the website by downloading the zipped output folder, unzipping it, and then starting a terminal or command prompt in that output folder to run this command:\n",
        "\n",
        "```python -m http.server 5000```\n",
        "\n",
        "then go to localhost:5000 in a browser on your machine.\n",
        "\n",
        "\n",
        "![](https://i.imgur.com/BWYnDJt.png)\n",
        "\n",
        "_'The Battle of Vimy Ridge', according to Craiyon_\n",
        "\n",
        "[Here is an example output using images generated with 'The Battle of Vimy Ridge' as a prompt](https://shawngraham.github.io/homecooked-history/genai-images-as-infographics/demo/) using the image generator at perchance.org/ai-text-to-image-generator, which clearly has a very different training set (or perhaps guardrails, lack thereof?)\n",
        "\n",
        "[^1]: Modified. In the original post, there's a lot of close-reading of the image(s) going on. Here, we're also trying to use cnn to cluster images to cycle between close and distant reads."
      ],
      "metadata": {
        "id": "R0TupZp6EmqR"
      }
    },
    {
      "cell_type": "markdown",
      "source": [
        "# Part One\n",
        "\n",
        "You need a collection of input images that are all the same size. Since the Perchance generator will create a kind of contact sheet of images for you, use it to generate multiple images at a time from the same prompt. Take a screenshot of the results (cmd+4 on a mac, win+shift+s on windows)."
      ],
      "metadata": {
        "id": "KisxSrYotnHa"
      }
    },
    {
      "cell_type": "code",
      "source": [
        "## run this\n",
        "#!rm -r input #if you're processing different images w/ different aspect ratios, do it in batches. Do one batch, then uncomment this line to get a fresh input folder. Then change column/rows as appropriate, below\n",
        "!mkdir input"
      ],
      "metadata": {
        "id": "Gyn_xMYQDXSB"
      },
      "execution_count": 1,
      "outputs": []
    },
    {
      "cell_type": "markdown",
      "source": [
        "Drag and drop your screenshots into the `input` folder. Alternatively, you might want to zip all of your images up _then_ drag and drop the zip folder into the `input` folder."
      ],
      "metadata": {
        "id": "uvVsAa-_uhUp"
      }
    },
    {
      "cell_type": "markdown",
      "source": [
        "### use this cell to unzip a zip file with images:"
      ],
      "metadata": {
        "id": "cBHeVGOCkiNd"
      }
    },
    {
      "cell_type": "code",
      "source": [
        "# if you have a folder of zipped images ready to go\n",
        "# drag and drop the zipped folder into the file tray (hit the the folder icon to expand it if necessary) at left\n",
        "# then adjust this code to use your file name, and run it:\n",
        "!unzip my_images.zip -d input"
      ],
      "metadata": {
        "id": "RvLwJHqri0sg"
      },
      "execution_count": null,
      "outputs": []
    },
    {
      "cell_type": "markdown",
      "source": [
        "## create some necessary functions for manipulating grids of images\n",
        "\n",
        "The functions below will cut your 'contact' sheet of multiple images up into single images. We want to feed one image at a time to pixplot for visualization, so we need to split the grid into separate images. You run the cell that `def`ines the function, then we run the function on your images in the subsequent block."
      ],
      "metadata": {
        "id": "VzWyFwU4Tp5l"
      }
    },
    {
      "cell_type": "code",
      "source": [
        "import os\n",
        "from PIL import Image\n",
        "import math\n",
        "import logging\n",
        "\n",
        "def setup_logging():\n",
        "    \"\"\"Configure logging to track image processing details.\"\"\"\n",
        "    logging.basicConfig(level=logging.INFO,\n",
        "                       format='%(asctime)s - %(levelname)s - %(message)s')\n",
        "    return logging.getLogger(__name__)\n",
        "\n",
        "def validate_dimensions(img_width, img_height, num_columns, num_rows):\n",
        "    \"\"\"\n",
        "    Validate that the image can be evenly divided into the specified grid.\n",
        "\n",
        "    Returns:\n",
        "        tuple: (is_valid, single_width, single_height, warning_message)\n",
        "    \"\"\"\n",
        "    single_width = img_width / num_columns\n",
        "    single_height = img_height / num_rows\n",
        "\n",
        "    # Check if dimensions result in whole numbers\n",
        "    is_width_whole = single_width.is_integer()\n",
        "    is_height_whole = single_height.is_integer()\n",
        "\n",
        "    warning_msg = \"\"\n",
        "    if not (is_width_whole and is_height_whole):\n",
        "        warning_msg = (\n",
        "            f\"Warning: Image dimensions ({img_width}x{img_height}) \"\n",
        "            f\"cannot be evenly divided into {num_columns}x{num_rows} grid. \"\n",
        "            f\"Subimages will be {single_width:.2f}x{single_height:.2f} pixels.\"\n",
        "        )\n",
        "\n",
        "    return (is_width_whole and is_height_whole,\n",
        "            int(single_width),\n",
        "            int(single_height),\n",
        "            warning_msg)\n",
        "\n",
        "def slice_image(image_path, output_dir, num_columns=3, num_rows=2, strict_mode=True):\n",
        "    \"\"\"\n",
        "    Slice an image into a grid of smaller images with validation and logging.\n",
        "\n",
        "    Args:\n",
        "        image_path (str): Path to the input image\n",
        "        output_dir (str): Directory to save the output images\n",
        "        num_columns (int): Number of columns in the grid\n",
        "        num_rows (int): Number of rows in the grid\n",
        "        strict_mode (bool): If True, raises error on uneven divisions\n",
        "\n",
        "    Returns:\n",
        "        list: List of paths to the generated images\n",
        "    \"\"\"\n",
        "    logger = setup_logging()\n",
        "\n",
        "    # Load the image\n",
        "    img = Image.open(image_path).convert(\"RGB\")\n",
        "    img_width, img_height = img.size\n",
        "\n",
        "    logger.info(f\"Processing image: {image_path}\")\n",
        "    logger.info(f\"Original dimensions: {img_width}x{img_height}\")\n",
        "\n",
        "    # Validate dimensions\n",
        "    is_valid, single_width, single_height, warning_msg = validate_dimensions(\n",
        "        img_width, img_height, num_columns, num_rows\n",
        "    )\n",
        "\n",
        "    if warning_msg:\n",
        "        logger.warning(warning_msg)\n",
        "        if strict_mode:\n",
        "            raise ValueError(\"Image dimensions must be exactly divisible in strict mode\")\n",
        "\n",
        "    # Ensure we're working with integer dimensions\n",
        "    single_width = math.floor(single_width)\n",
        "    single_height = math.floor(single_height)\n",
        "\n",
        "    logger.info(f\"Subimage dimensions: {single_width}x{single_height}\")\n",
        "\n",
        "    output_paths = []\n",
        "    for row in range(num_rows):\n",
        "        for col in range(num_columns):\n",
        "            left = col * single_width\n",
        "            upper = row * single_height\n",
        "            right = left + single_width\n",
        "            lower = upper + single_height\n",
        "\n",
        "            # Create a new blank image instead of cropping\n",
        "            cropped_img = Image.new('RGB', (single_width, single_height))\n",
        "            # Copy the exact region we want\n",
        "            region = img.crop((left, upper, right, lower))\n",
        "            cropped_img.paste(region, (0, 0))\n",
        "\n",
        "            # Strip any existing metadata\n",
        "            data = list(cropped_img.getdata())\n",
        "            clean_img = Image.new('RGB', cropped_img.size)\n",
        "            clean_img.putdata(data)\n",
        "\n",
        "            base_name = os.path.splitext(os.path.basename(image_path))[0]\n",
        "            original_ext = os.path.splitext(image_path)[1].lower()\n",
        "            output_path = os.path.join(\n",
        "                output_dir,\n",
        "                f'{base_name}_cropped_{row * num_columns + col + 1}{original_ext}'\n",
        "            )\n",
        "\n",
        "            # Save with explicit dimensions\n",
        "            clean_img.save(output_path, format=original_ext[1:])\n",
        "\n",
        "            logger.info(f\"Saved subimage: {output_path}\")\n",
        "            output_paths.append(output_path)\n",
        "\n",
        "    return output_paths\n",
        "\n",
        "def process_images(input_dir=\"input\", output_dir=\"all_images\",\n",
        "                  num_columns=3, num_rows=2, strict_mode=True):\n",
        "    \"\"\"\n",
        "    Process all supported image files in the input directory with validation.\n",
        "\n",
        "    Args:\n",
        "        input_dir (str): Input directory containing images\n",
        "        output_dir (str): Directory to save the output images\n",
        "        num_columns (int): Number of columns in the grid\n",
        "        num_rows (int): Number of rows in the grid\n",
        "        strict_mode (bool): If True, raises error on uneven divisions\n",
        "    \"\"\"\n",
        "    logger = setup_logging()\n",
        "\n",
        "    SUPPORTED_FORMATS = ('.jpg', '.jpeg', '.png', '.JPG', '.JPEG', '.PNG')\n",
        "    os.makedirs(output_dir, exist_ok=True)\n",
        "\n",
        "    processed_files = 0\n",
        "    errors = 0\n",
        "\n",
        "    for filename in os.listdir(input_dir):\n",
        "        if filename.endswith(SUPPORTED_FORMATS):\n",
        "            image_path = os.path.join(input_dir, filename)\n",
        "            try:\n",
        "                slice_image(image_path, output_dir, num_columns, num_rows, strict_mode)\n",
        "                processed_files += 1\n",
        "                logger.info(f\"Successfully processed: {filename}\")\n",
        "            except Exception as e:\n",
        "                errors += 1\n",
        "                logger.error(f\"Error processing {filename}: {str(e)}\")\n",
        "\n",
        "    logger.info(f\"Processing complete. {processed_files} images processed, {errors} errors.\")\n",
        "    logger.info(f\"Subimages saved to '{output_dir}' directory.\")\n",
        "\n"
      ],
      "metadata": {
        "id": "HYgEj4Hb-YFG"
      },
      "execution_count": 3,
      "outputs": []
    },
    {
      "cell_type": "markdown",
      "source": [
        "## slice the images\n",
        "If your image generator generates previews in a grid-like format, you can take a screenshot of that grid and then run 'process_images' below to cut them into individual images. Just change the number of columns and rows appropriately Eg, craiyon gives you 3x3 preview images;  https://perchance.org/ai-text-to-image-generator with 'casual photography', 6 photos, portrait, will return 3 x 2.\n",
        "\n",
        "For instance, here's a 'contact' sheet I made with Perchance with the prompt, `an archaeologist at work`; you'd set the code in the next block to have 6 columns and 3 rows.\n",
        "\n",
        "![](https://github.com/shawngraham/homecooked-history/blob/main/genai-images-as-infographics/perchance-archaeologists.png?raw=true)"
      ],
      "metadata": {
        "id": "_pdZkvmL_3GM"
      }
    },
    {
      "cell_type": "code",
      "source": [
        "process_images(\n",
        "    input_dir=\"input\",\n",
        "    output_dir=\"all_images\",\n",
        "    num_columns=6,  #make sure you set this correctly!\n",
        "    num_rows=3,  #make sure you set this correctly!\n",
        "    strict_mode=False\n",
        ")\n",
        "\n",
        "# For strict validation (will raise error if dimensions don't divide evenly)\n",
        "#process_images(strict_mode=True)\n",
        "\n",
        "# For more lenient processing (will warn but continue)\n",
        "#process_images(strict_mode=False)"
      ],
      "metadata": {
        "id": "EtaRLwjq-aNG"
      },
      "execution_count": 5,
      "outputs": []
    },
    {
      "cell_type": "markdown",
      "source": [
        "If the block runs, check your file browser for 'all_images'. You should see a number of image files in there (you can double-click them to see if everything worked correctly)."
      ],
      "metadata": {
        "id": "fkZkgMtBwffF"
      }
    },
    {
      "cell_type": "code",
      "source": [
        "#uncomment this if you want to start over\n",
        "#%cd ..\n",
        "#!rm -r all_images\n",
        "\n",
        "# run it, then go back to the start of Part ONE"
      ],
      "metadata": {
        "colab": {
          "base_uri": "https://localhost:8080/"
        },
        "id": "S3Vvxsl9OWMg",
        "outputId": "3c8a58ab-99a7-4979-bf2c-76bfd3722a38"
      },
      "execution_count": null,
      "outputs": [
        {
          "output_type": "stream",
          "name": "stdout",
          "text": [
            "/content\n"
          ]
        }
      ]
    },
    {
      "cell_type": "markdown",
      "source": [
        "# PART TWO\n"
      ],
      "metadata": {
        "id": "7B_B4r-rwpsX"
      }
    },
    {
      "cell_type": "markdown",
      "source": [
        "## Get Pixplot Sorted Out\n",
        "\n",
        "Because Pixplot was made for an earlier version of the python programming language, we have to do some shennanigans to make the right version of python available here. Then, whenever we want to run a pixplot command, we need to also tell Colab to use the earlier version."
      ],
      "metadata": {
        "id": "Zv3ZGdqnXuLE"
      }
    },
    {
      "cell_type": "code",
      "source": [
        "!pip install -q condacolab\n",
        "import condacolab\n",
        "\n",
        "condacolab.install()"
      ],
      "metadata": {
        "colab": {
          "base_uri": "https://localhost:8080/"
        },
        "id": "0BWGZvBM9GaQ",
        "outputId": "dd5a5127-dd1a-47ae-8c2d-efd769b9c0a9"
      },
      "execution_count": 6,
      "outputs": [
        {
          "output_type": "stream",
          "name": "stdout",
          "text": [
            "⏬ Downloading https://github.com/jaimergp/miniforge/releases/download/24.11.2-1_colab/Miniforge3-colab-24.11.2-1_colab-Linux-x86_64.sh...\n",
            "📦 Installing...\n",
            "📌 Adjusting configuration...\n",
            "🩹 Patching environment...\n",
            "⏲ Done in 0:00:09\n",
            "🔁 Restarting kernel...\n"
          ]
        }
      ]
    },
    {
      "cell_type": "markdown",
      "source": [
        "+ nb If you get some sort of message about crashing or kernel restarting, just carry on from here with the 'conda create' command below."
      ],
      "metadata": {
        "id": "IBpJaqA3BbG8"
      }
    },
    {
      "cell_type": "code",
      "source": [
        "%%capture\n",
        "!conda create -n pixplot_test python=3.7"
      ],
      "metadata": {
        "id": "6EqQVNqt9Mlo"
      },
      "execution_count": 1,
      "outputs": []
    },
    {
      "cell_type": "code",
      "source": [
        "#activate pixplot_test\n",
        "!source activate pixplot_test; python --version; pip -V; pip install https://github.com/yaledhlab/pix-plot/archive/master.zip\n",
        "!source activate pixplot_test; pip install ipykernel"
      ],
      "metadata": {
        "id": "lKTrFJj39NIP"
      },
      "execution_count": null,
      "outputs": []
    },
    {
      "cell_type": "code",
      "source": [
        "# make sure you're in the content directory\n",
        "%pwd\n",
        "\n",
        "# if you're not, use the cd command accordingly to get you there."
      ],
      "metadata": {
        "id": "r9QRe3XpMr6u"
      },
      "execution_count": null,
      "outputs": []
    },
    {
      "cell_type": "markdown",
      "source": [
        "### here's the line that actually does the visual similarity analysis and creates the visualization"
      ],
      "metadata": {
        "id": "SsVVMSI5mT0r"
      }
    },
    {
      "cell_type": "code",
      "source": [
        "### change the name of the folder between the quotes if you need to to point to your folder of images if you didn't use the slicer. KEEP the /* It means 'all the things inside'\n",
        "\n",
        "!source activate pixplot_test; pixplot --images \"all_images/*\""
      ],
      "metadata": {
        "id": "EvqQ0Uxe9bMb"
      },
      "execution_count": null,
      "outputs": []
    },
    {
      "cell_type": "code",
      "source": [
        "#make sure you're in content\n",
        "%pwd\n",
        "#%cd content #change directory if necessary"
      ],
      "metadata": {
        "id": "rIIihCevM3ql"
      },
      "execution_count": null,
      "outputs": []
    },
    {
      "cell_type": "markdown",
      "source": [
        "## Download the Pixplot visualization\n",
        "\n",
        "The next cell zips the pixplot 'output' folder. When it's finished, right-click on 'pixplot_visualization.zip' in your file tray and select download. It's a big file, it'll take a few moments.\n",
        "\n",
        "Then on your own machine, unzip it (windows people, 'extract all'). Open a terminal or command prompt in the folder. I will assume you have python installed; start a server with\n",
        "\n",
        "```python -m http.server 5000```\n",
        "\n",
        "and go to https://localhost:5000 in your browser to load and explore the visualization."
      ],
      "metadata": {
        "id": "uJV7XTiaXww7"
      }
    },
    {
      "cell_type": "code",
      "source": [
        "\n",
        "!zip -r pixplot_visualization.zip output\n",
        "\n",
        "## then download it; unzip it\n",
        "## and assuming you have python installed, in a terminal run\n",
        "## python -m http.server 5000\n",
        "## then go to localhost:5000 in a browser on your machine"
      ],
      "metadata": {
        "id": "onxfIPY3C251"
      },
      "execution_count": null,
      "outputs": []
    },
    {
      "cell_type": "markdown",
      "source": [
        "### Or try running it here in colab\n"
      ],
      "metadata": {
        "id": "Y8ELdJ2KAoBv"
      }
    },
    {
      "cell_type": "code",
      "source": [
        "# for reasons I can't figure out yet\n",
        "# running pixplot from colab\n",
        "# sometimes doesn't work and might\n",
        "# fail at one crucial spot here, not loading a piece - check the log for 404 error; if you see that you'll know something went wrong.\n",
        "# If it fails, that's a colab issue, not a *you* issue.\n",
        "# IF THAT HAPPENS not to worry: zip it up, download, unzip, run the terminal or command prompt in that unzipped folder and run the python -m http.server 50000 command on your computer and it will work.\n",
        "\n",
        "from google.colab import output\n",
        "output.serve_kernel_port_as_iframe(5000)\n",
        "%cd output\n",
        "!python -m http.server 5000\n"
      ],
      "metadata": {
        "id": "rGS7f_gJEO42",
        "outputId": "345589b6-47a7-46c5-b0aa-f52f1650f170",
        "colab": {
          "base_uri": "https://localhost:8080/",
          "height": 1000
        }
      },
      "execution_count": 5,
      "outputs": [
        {
          "output_type": "display_data",
          "data": {
            "text/plain": [
              "<IPython.core.display.Javascript object>"
            ],
            "application/javascript": [
              "(async (port, path, width, height, cache, element) => {\n",
              "    if (!google.colab.kernel.accessAllowed && !cache) {\n",
              "      return;\n",
              "    }\n",
              "    element.appendChild(document.createTextNode(''));\n",
              "    const url = await google.colab.kernel.proxyPort(port, {cache});\n",
              "    const iframe = document.createElement('iframe');\n",
              "    iframe.src = new URL(path, url).toString();\n",
              "    iframe.height = height;\n",
              "    iframe.width = width;\n",
              "    iframe.style.border = 0;\n",
              "    iframe.allow = [\n",
              "        'accelerometer',\n",
              "        'autoplay',\n",
              "        'camera',\n",
              "        'clipboard-read',\n",
              "        'clipboard-write',\n",
              "        'gyroscope',\n",
              "        'magnetometer',\n",
              "        'microphone',\n",
              "        'serial',\n",
              "        'usb',\n",
              "        'xr-spatial-tracking',\n",
              "    ].join('; ');\n",
              "    element.appendChild(iframe);\n",
              "  })(5000, \"/\", \"100%\", \"400\", false, window.element)"
            ]
          },
          "metadata": {}
        },
        {
          "output_type": "stream",
          "name": "stdout",
          "text": [
            "/content/output\n",
            "Serving HTTP on 0.0.0.0 port 5000 (http://0.0.0.0:5000/) ...\n",
            "127.0.0.1 - - [13/Aug/2025 18:59:13] \"GET / HTTP/1.1\" 200 -\n",
            "127.0.0.1 - - [13/Aug/2025 18:59:13] \"GET /assets/css/style.css HTTP/1.1\" 200 -\n",
            "127.0.0.1 - - [13/Aug/2025 18:59:13] \"GET /assets/css/no-ui-slider.css HTTP/1.1\" 200 -\n",
            "127.0.0.1 - - [13/Aug/2025 18:59:13] \"GET /assets/images/dhlab-logo.svg HTTP/1.1\" 200 -\n",
            "127.0.0.1 - - [13/Aug/2025 18:59:13] \"GET /assets/images/icons/search-icon.svg HTTP/1.1\" 200 -\n",
            "127.0.0.1 - - [13/Aug/2025 18:59:13] \"GET /assets/images/icons/gear-icon.svg HTTP/1.1\" 200 -\n",
            "127.0.0.1 - - [13/Aug/2025 18:59:13] \"GET /assets/images/icons/grid-layout.svg HTTP/1.1\" 200 -\n",
            "127.0.0.1 - - [13/Aug/2025 18:59:13] \"GET /assets/images/icons/categorical-layout.svg HTTP/1.1\" 200 -\n",
            "127.0.0.1 - - [13/Aug/2025 18:59:13] \"GET /assets/images/icons/custom-layout.svg HTTP/1.1\" 200 -\n",
            "127.0.0.1 - - [13/Aug/2025 18:59:13] \"GET /assets/images/icons/az-layout.svg HTTP/1.1\" 200 -\n",
            "127.0.0.1 - - [13/Aug/2025 18:59:13] \"GET /assets/images/icons/date-layout.svg HTTP/1.1\" 200 -\n",
            "127.0.0.1 - - [13/Aug/2025 18:59:13] \"GET /assets/images/icons/geographic-layout.svg HTTP/1.1\" 200 -\n",
            "127.0.0.1 - - [13/Aug/2025 18:59:13] \"GET /assets/images/icons/scatter-layout.svg HTTP/1.1\" 200 -\n",
            "127.0.0.1 - - [13/Aug/2025 18:59:13] \"GET /assets/vendor/dist/three.min.js HTTP/1.1\" 200 -\n",
            "127.0.0.1 - - [13/Aug/2025 18:59:13] \"GET /assets/images/icons/pan.svg HTTP/1.1\" 200 -\n",
            "127.0.0.1 - - [13/Aug/2025 18:59:13] \"GET /assets/vendor/src/trackball-controls.js HTTP/1.1\" 200 -\n",
            "127.0.0.1 - - [13/Aug/2025 18:59:13] \"GET /assets/vendor/dist/gsap.min.js HTTP/1.1\" 200 -\n",
            "127.0.0.1 - - [13/Aug/2025 18:59:13] \"GET /assets/vendor/src/fly-controls.js HTTP/1.1\" 200 -\n",
            "127.0.0.1 - - [13/Aug/2025 18:59:13] \"GET /assets/images/icons/lasso.png HTTP/1.1\" 200 -\n",
            "127.0.0.1 - - [13/Aug/2025 18:59:13] \"GET /assets/images/icons/pinch-icon.svg HTTP/1.1\" 200 -\n",
            "127.0.0.1 - - [13/Aug/2025 18:59:13] \"GET /assets/vendor/dist/papaparse.min.js HTTP/1.1\" 200 -\n",
            "127.0.0.1 - - [13/Aug/2025 18:59:13] \"GET /assets/vendor/dist/no-ui-slider.min.js HTTP/1.1\" 200 -\n",
            "127.0.0.1 - - [13/Aug/2025 18:59:13] \"GET /assets/vendor/dist/lodash.min.js HTTP/1.1\" 200 -\n",
            "127.0.0.1 - - [13/Aug/2025 18:59:13] \"GET /assets/vendor/dist/stats.min.js HTTP/1.1\" 200 -\n",
            "127.0.0.1 - - [13/Aug/2025 18:59:13] \"GET /assets/js/object-assign-polyfill.js HTTP/1.1\" 200 -\n",
            "127.0.0.1 - - [13/Aug/2025 18:59:13] \"GET /assets/vendor/dist/gunzip.min.js HTTP/1.1\" 200 -\n",
            "127.0.0.1 - - [13/Aug/2025 18:59:13] \"GET /assets/vendor/dist/jszip.min.js HTTP/1.1\" 200 -\n",
            "127.0.0.1 - - [13/Aug/2025 18:59:13] \"GET /assets/vendor/dist/d3.min.js HTTP/1.1\" 200 -\n",
            "127.0.0.1 - - [13/Aug/2025 18:59:13] \"GET /assets/js/tsne.js HTTP/1.1\" 200 -\n",
            "127.0.0.1 - - [13/Aug/2025 18:59:14] \"GET /assets/images/heightmap.jpg HTTP/1.1\" 200 -\n",
            "127.0.0.1 - - [13/Aug/2025 18:59:15] \"GET /data/manifest.json HTTP/1.1\" 200 -\n",
            "127.0.0.1 - - [13/Aug/2025 18:59:15] \"GET /data/imagelists/imagelist-753f427c-7877-11f0-beb0-0242ac1c000c.json HTTP/1.1\" 200 -\n",
            "127.0.0.1 - - [13/Aug/2025 18:59:15] \"GET /data/atlases/753f427c-7877-11f0-beb0-0242ac1c000c/atlas-0.jpg HTTP/1.1\" 200 -\n",
            "127.0.0.1 - - [13/Aug/2025 18:59:15] \"GET /data/layouts/umap-753f427c-7877-11f0-beb0-0242ac1c000c.json HTTP/1.1\" 200 -\n",
            "127.0.0.1 - - [13/Aug/2025 18:59:15] code 404, message File not found\n",
            "127.0.0.1 - - [13/Aug/2025 18:59:15] \"GET /data/hotspots/user_hotspots.json HTTP/1.1\" 404 -\n",
            "127.0.0.1 - - [13/Aug/2025 18:59:15] \"GET /data/hotspots/hotspot-753f427c-7877-11f0-beb0-0242ac1c000c.json HTTP/1.1\" 200 -\n",
            "127.0.0.1 - - [13/Aug/2025 18:59:15] \"GET /data/thumbs/perchance-archaeologists_cropped_6.png HTTP/1.1\" 200 -\n",
            "127.0.0.1 - - [13/Aug/2025 18:59:15] \"GET /data/thumbs/perchance-archaeologists_cropped_25.png HTTP/1.1\" 200 -\n",
            "127.0.0.1 - - [13/Aug/2025 18:59:15] \"GET /data/thumbs/perchance-archaeologists_cropped_26.png HTTP/1.1\" 200 -\n",
            "127.0.0.1 - - [13/Aug/2025 18:59:15] \"GET /data/thumbs/perchance-archaeologists_cropped_3.png HTTP/1.1\" 200 -\n",
            "127.0.0.1 - - [13/Aug/2025 18:59:15] \"GET /data/thumbs/perchance-archaeologists_cropped_23.png HTTP/1.1\" 200 -\n",
            "127.0.0.1 - - [13/Aug/2025 18:59:15] \"GET /data/thumbs/perchance-archaeologists_cropped_7.png HTTP/1.1\" 200 -\n",
            "127.0.0.1 - - [13/Aug/2025 18:59:15] \"GET /data/thumbs/perchance-archaeologists_cropped_28.png HTTP/1.1\" 200 -\n",
            "127.0.0.1 - - [13/Aug/2025 18:59:15] \"GET /data/thumbs/perchance-archaeologists_cropped_22.png HTTP/1.1\" 200 -\n",
            "127.0.0.1 - - [13/Aug/2025 18:59:15] \"GET /data/thumbs/perchance-archaeologists_cropped_12.png HTTP/1.1\" 200 -\n",
            "127.0.0.1 - - [13/Aug/2025 18:59:15] \"GET /data/thumbs/perchance-archaeologists_cropped_2.png HTTP/1.1\" 200 -\n",
            "127.0.0.1 - - [13/Aug/2025 18:59:27] \"GET /data/thumbs/perchance-archaeologists_cropped_16.png HTTP/1.1\" 200 -\n",
            "127.0.0.1 - - [13/Aug/2025 18:59:27] \"GET /data/thumbs/perchance-archaeologists_cropped_5.png HTTP/1.1\" 200 -\n",
            "127.0.0.1 - - [13/Aug/2025 18:59:27] \"GET /data/thumbs/perchance-archaeologists_cropped_9.png HTTP/1.1\" 200 -\n",
            "127.0.0.1 - - [13/Aug/2025 18:59:27] \"GET /data/thumbs/perchance-archaeologists_cropped_24.png HTTP/1.1\" 200 -\n",
            "\n",
            "Keyboard interrupt received, exiting.\n",
            "^C\n"
          ]
        }
      ]
    }
  ]
}