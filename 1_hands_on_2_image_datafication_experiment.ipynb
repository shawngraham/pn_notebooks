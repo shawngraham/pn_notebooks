{
  "nbformat": 4,
  "nbformat_minor": 0,
  "metadata": {
    "colab": {
      "provenance": []
    },
    "kernelspec": {
      "name": "python3",
      "display_name": "Python 3"
    },
    "language_info": {
      "name": "python"
    }
  },
  "cells": [
    {
      "cell_type": "markdown",
      "source": [
        "# Experiment: What does Canadian History Look Like To the Machine?\n",
        "\n",
        "If we generate say 100 images with https://www.craiyon.com/ or https://perchance.org/ai-text-to-image-generator and use the same prompt each time - a prompt related to canadian history - and we try the '[datafication of a kiss](https://www.cyberneticforests.com/news/how-to-read-an-ai-image)' approach[^1], what can we see? The idea is to treat the generated images as an infographic of the underlying dataset.\n",
        "\n",
        "Go to craiyon or perchance (perchance seems to have fewer hidden guardrails); use the same prompt 11 times. Take a screenshot of the results each time (the image grid that Craiyon returns). Rename your screenshots 1, 2, 3, 4, 5 etc. Drag and drop the screenshots into the file tray here. Then, run the code below to slice each screenshot into its constituent sub images.\n",
        "\n",
        "Continue with pixplot. The final cell should run pixplot in this notebook, but if the loading screen says 'NaN', stop the cell and just download the zipped output to your own machine. Assuming you have python installed, in a terminal run\n",
        "\n",
        "```python -m http.server 5000```\n",
        "\n",
        "then go to localhost:5000 in a browser on your machine. Examine this 'infographic'. What seems to define a cluster? What does this tell you about the underlying 'understanding' of the concept?\n",
        "\n",
        "![](https://i.imgur.com/BWYnDJt.png)\n",
        "\n",
        "_'The Battle of Vimy Ridge', according to Craiyon_\n",
        "\n",
        "[Here is an example output using images generated with 'The Battle of Vimy Ridge' as a prompt](https://shawngraham.github.io/homecooked-history/genai-images-as-infographics/demo/) using the image generator at perchance.org/ai-text-to-image-generator, which clearly has a very different training set (or perhaps guardrails, lack thereof?)\n",
        "\n",
        "[^1]: Modified. In the original post, there's a lot of close-reading of the image(s) going on. Here, we're also trying to use cnn to cluster images to cycle between close and distant reads."
      ],
      "metadata": {
        "id": "R0TupZp6EmqR"
      }
    },
    {
      "cell_type": "code",
      "source": [
        "## run this\n",
        "#!rm -r input #if you're processing different images w/ different aspect ratios, do it in batches. Do one batch, then uncomment this line to get a fresh input folder. Then change column/rows as appropriate, below\n",
        "!mkdir input"
      ],
      "metadata": {
        "id": "Gyn_xMYQDXSB"
      },
      "execution_count": null,
      "outputs": []
    },
    {
      "cell_type": "code",
      "source": [
        "#uncomment this if you want to start over\n",
        "#%cd ..\n",
        "#!rm -r all_images"
      ],
      "metadata": {
        "colab": {
          "base_uri": "https://localhost:8080/"
        },
        "id": "S3Vvxsl9OWMg",
        "outputId": "3c8a58ab-99a7-4979-bf2c-76bfd3722a38"
      },
      "execution_count": null,
      "outputs": [
        {
          "output_type": "stream",
          "name": "stdout",
          "text": [
            "/content\n"
          ]
        }
      ]
    },
    {
      "cell_type": "markdown",
      "source": [
        "### use this cell to unzip existing images:"
      ],
      "metadata": {
        "id": "cBHeVGOCkiNd"
      }
    },
    {
      "cell_type": "code",
      "source": [
        "# if you have a folder of zipped images ready to go\n",
        "# drag and drop the zipped folder into the file tray (hit the the folder icon to expand it if necessary) at left\n",
        "# then adjust this code to use your file name, and run it:\n",
        "!unzip my_images.zip -d input"
      ],
      "metadata": {
        "id": "RvLwJHqri0sg"
      },
      "execution_count": null,
      "outputs": []
    },
    {
      "cell_type": "markdown",
      "source": [
        "## create some necessary functions for manipulating grids of images\n",
        "\n",
        "You only need this if the images you uploaded and unzipped are in a grid, eg, like when you take a screenshot of craiyon.ai's grid of generated images. We want to feed one image at a time to pixplot for visualization, so we need to split the grid into nine separate images."
      ],
      "metadata": {
        "id": "VzWyFwU4Tp5l"
      }
    },
    {
      "cell_type": "code",
      "source": [
        "import os\n",
        "from PIL import Image\n",
        "import math\n",
        "import logging\n",
        "\n",
        "def setup_logging():\n",
        "    \"\"\"Configure logging to track image processing details.\"\"\"\n",
        "    logging.basicConfig(level=logging.INFO,\n",
        "                       format='%(asctime)s - %(levelname)s - %(message)s')\n",
        "    return logging.getLogger(__name__)\n",
        "\n",
        "def validate_dimensions(img_width, img_height, num_columns, num_rows):\n",
        "    \"\"\"\n",
        "    Validate that the image can be evenly divided into the specified grid.\n",
        "\n",
        "    Returns:\n",
        "        tuple: (is_valid, single_width, single_height, warning_message)\n",
        "    \"\"\"\n",
        "    single_width = img_width / num_columns\n",
        "    single_height = img_height / num_rows\n",
        "\n",
        "    # Check if dimensions result in whole numbers\n",
        "    is_width_whole = single_width.is_integer()\n",
        "    is_height_whole = single_height.is_integer()\n",
        "\n",
        "    warning_msg = \"\"\n",
        "    if not (is_width_whole and is_height_whole):\n",
        "        warning_msg = (\n",
        "            f\"Warning: Image dimensions ({img_width}x{img_height}) \"\n",
        "            f\"cannot be evenly divided into {num_columns}x{num_rows} grid. \"\n",
        "            f\"Subimages will be {single_width:.2f}x{single_height:.2f} pixels.\"\n",
        "        )\n",
        "\n",
        "    return (is_width_whole and is_height_whole,\n",
        "            int(single_width),\n",
        "            int(single_height),\n",
        "            warning_msg)\n",
        "\n",
        "def slice_image(image_path, output_dir, num_columns=3, num_rows=2, strict_mode=True):\n",
        "    \"\"\"\n",
        "    Slice an image into a grid of smaller images with validation and logging.\n",
        "\n",
        "    Args:\n",
        "        image_path (str): Path to the input image\n",
        "        output_dir (str): Directory to save the output images\n",
        "        num_columns (int): Number of columns in the grid\n",
        "        num_rows (int): Number of rows in the grid\n",
        "        strict_mode (bool): If True, raises error on uneven divisions\n",
        "\n",
        "    Returns:\n",
        "        list: List of paths to the generated images\n",
        "    \"\"\"\n",
        "    logger = setup_logging()\n",
        "\n",
        "    # Load the image\n",
        "    img = Image.open(image_path).convert(\"RGB\")\n",
        "    img_width, img_height = img.size\n",
        "\n",
        "    logger.info(f\"Processing image: {image_path}\")\n",
        "    logger.info(f\"Original dimensions: {img_width}x{img_height}\")\n",
        "\n",
        "    # Validate dimensions\n",
        "    is_valid, single_width, single_height, warning_msg = validate_dimensions(\n",
        "        img_width, img_height, num_columns, num_rows\n",
        "    )\n",
        "\n",
        "    if warning_msg:\n",
        "        logger.warning(warning_msg)\n",
        "        if strict_mode:\n",
        "            raise ValueError(\"Image dimensions must be exactly divisible in strict mode\")\n",
        "\n",
        "    # Ensure we're working with integer dimensions\n",
        "    single_width = math.floor(single_width)\n",
        "    single_height = math.floor(single_height)\n",
        "\n",
        "    logger.info(f\"Subimage dimensions: {single_width}x{single_height}\")\n",
        "\n",
        "    output_paths = []\n",
        "    for row in range(num_rows):\n",
        "        for col in range(num_columns):\n",
        "            left = col * single_width\n",
        "            upper = row * single_height\n",
        "            right = left + single_width\n",
        "            lower = upper + single_height\n",
        "\n",
        "            # Create a new blank image instead of cropping\n",
        "            cropped_img = Image.new('RGB', (single_width, single_height))\n",
        "            # Copy the exact region we want\n",
        "            region = img.crop((left, upper, right, lower))\n",
        "            cropped_img.paste(region, (0, 0))\n",
        "\n",
        "            # Strip any existing metadata\n",
        "            data = list(cropped_img.getdata())\n",
        "            clean_img = Image.new('RGB', cropped_img.size)\n",
        "            clean_img.putdata(data)\n",
        "\n",
        "            base_name = os.path.splitext(os.path.basename(image_path))[0]\n",
        "            original_ext = os.path.splitext(image_path)[1].lower()\n",
        "            output_path = os.path.join(\n",
        "                output_dir,\n",
        "                f'{base_name}_cropped_{row * num_columns + col + 1}{original_ext}'\n",
        "            )\n",
        "\n",
        "            # Save with explicit dimensions\n",
        "            clean_img.save(output_path, format=original_ext[1:])\n",
        "\n",
        "            logger.info(f\"Saved subimage: {output_path}\")\n",
        "            output_paths.append(output_path)\n",
        "\n",
        "    return output_paths\n",
        "\n",
        "def process_images(input_dir=\"input\", output_dir=\"all_images\",\n",
        "                  num_columns=3, num_rows=2, strict_mode=True):\n",
        "    \"\"\"\n",
        "    Process all supported image files in the input directory with validation.\n",
        "\n",
        "    Args:\n",
        "        input_dir (str): Input directory containing images\n",
        "        output_dir (str): Directory to save the output images\n",
        "        num_columns (int): Number of columns in the grid\n",
        "        num_rows (int): Number of rows in the grid\n",
        "        strict_mode (bool): If True, raises error on uneven divisions\n",
        "    \"\"\"\n",
        "    logger = setup_logging()\n",
        "\n",
        "    SUPPORTED_FORMATS = ('.jpg', '.jpeg', '.png', '.JPG', '.JPEG', '.PNG')\n",
        "    os.makedirs(output_dir, exist_ok=True)\n",
        "\n",
        "    processed_files = 0\n",
        "    errors = 0\n",
        "\n",
        "    for filename in os.listdir(input_dir):\n",
        "        if filename.endswith(SUPPORTED_FORMATS):\n",
        "            image_path = os.path.join(input_dir, filename)\n",
        "            try:\n",
        "                slice_image(image_path, output_dir, num_columns, num_rows, strict_mode)\n",
        "                processed_files += 1\n",
        "                logger.info(f\"Successfully processed: {filename}\")\n",
        "            except Exception as e:\n",
        "                errors += 1\n",
        "                logger.error(f\"Error processing {filename}: {str(e)}\")\n",
        "\n",
        "    logger.info(f\"Processing complete. {processed_files} images processed, {errors} errors.\")\n",
        "    logger.info(f\"Subimages saved to '{output_dir}' directory.\")\n",
        "\n"
      ],
      "metadata": {
        "id": "HYgEj4Hb-YFG"
      },
      "execution_count": null,
      "outputs": []
    },
    {
      "cell_type": "markdown",
      "source": [
        "## slice the images\n",
        "If your image generator generates previews in a grid-like format, you can take a screenshot of that grid and then run 'process_images' below to cut them into individual images. Just change the number of columns and rows appropriately Eg, craiyon gives you 3x3 preview images;  https://perchance.org/ai-text-to-image-generator with 'casual photography', 6 photos, portrait, will return 3 x 2."
      ],
      "metadata": {
        "id": "_pdZkvmL_3GM"
      }
    },
    {
      "cell_type": "code",
      "source": [
        "process_images(\n",
        "    input_dir=\"input\",\n",
        "    output_dir=\"all_images\",\n",
        "    num_columns=7,  #make sure you set this correctly!\n",
        "    num_rows=4,  #make sure you set this correctly!\n",
        "    strict_mode=False\n",
        ")\n",
        "\n",
        "# For strict validation (will raise error if dimensions don't divide evenly)\n",
        "#process_images(strict_mode=True)\n",
        "\n",
        "# For more lenient processing (will warn but continue)\n",
        "#process_images(strict_mode=False)"
      ],
      "metadata": {
        "id": "EtaRLwjq-aNG"
      },
      "execution_count": null,
      "outputs": []
    },
    {
      "cell_type": "markdown",
      "source": [
        "## Get Pixplot Sorted Out\n",
        "\n",
        "Because Pixplot was made for an earlier version of the python programming language, we have to do some shennanigans to make the right version of python available here. Then, whenever we want to run a pixplot command, we need to also tell Colab to use the earlier version."
      ],
      "metadata": {
        "id": "Zv3ZGdqnXuLE"
      }
    },
    {
      "cell_type": "code",
      "source": [
        "!pip install -q condacolab\n",
        "import condacolab\n",
        "\n",
        "condacolab.install()"
      ],
      "metadata": {
        "colab": {
          "base_uri": "https://localhost:8080/"
        },
        "id": "0BWGZvBM9GaQ",
        "outputId": "c0982915-d38d-4e9e-fb5d-ad2fb66bdd05"
      },
      "execution_count": null,
      "outputs": [
        {
          "output_type": "stream",
          "name": "stdout",
          "text": [
            "✨🍰✨ Everything looks OK!\n"
          ]
        }
      ]
    },
    {
      "cell_type": "markdown",
      "source": [
        "+ nb If you get some sort of message about crashing or kernel restarting, just carry on from here with the 'conda create' command below."
      ],
      "metadata": {
        "id": "IBpJaqA3BbG8"
      }
    },
    {
      "cell_type": "code",
      "source": [
        "%%capture\n",
        "!conda create -n pixplot_test python=3.7"
      ],
      "metadata": {
        "id": "6EqQVNqt9Mlo"
      },
      "execution_count": null,
      "outputs": []
    },
    {
      "cell_type": "code",
      "source": [
        "#activate pixplot_test\n",
        "!source activate pixplot_test; python --version; pip -V; pip install https://github.com/yaledhlab/pix-plot/archive/master.zip\n",
        "!source activate pixplot_test; pip install ipykernel"
      ],
      "metadata": {
        "id": "lKTrFJj39NIP"
      },
      "execution_count": null,
      "outputs": []
    },
    {
      "cell_type": "code",
      "source": [
        "# make sure you're in the content directory\n",
        "%pwd\n",
        "\n",
        "# if you're not, use the cd command accordingly to get you there."
      ],
      "metadata": {
        "id": "r9QRe3XpMr6u"
      },
      "execution_count": null,
      "outputs": []
    },
    {
      "cell_type": "markdown",
      "source": [
        "### here's the line that actually does the visual similarity analysis and creates the visualization"
      ],
      "metadata": {
        "id": "SsVVMSI5mT0r"
      }
    },
    {
      "cell_type": "code",
      "source": [
        "### change the name of the folder between the quotes if you need to to point to your folder of images if you didn't use the slicer. KEEP the /* It means 'all the things inside'\n",
        "\n",
        "!source activate pixplot_test; pixplot --images \"all_images/*\""
      ],
      "metadata": {
        "id": "EvqQ0Uxe9bMb"
      },
      "execution_count": null,
      "outputs": []
    },
    {
      "cell_type": "code",
      "source": [
        "#make sure you're in content\n",
        "%pwd\n",
        "#%cd content #change directory if necessary"
      ],
      "metadata": {
        "id": "rIIihCevM3ql"
      },
      "execution_count": null,
      "outputs": []
    },
    {
      "cell_type": "markdown",
      "source": [
        "## Download the Pixplot visualization\n",
        "\n",
        "The next cell zips the pixplot 'output' folder. When it's finished, right-click on 'pixplot_visualization.zip' in your file tray and select download. It's a big file, it'll take a few moments.\n",
        "\n",
        "Then on your own machine, unzip it (windows people, 'extract all'). Open a terminal or command prompt in the folder. I will assume you have python installed; start a server with\n",
        "\n",
        "```python -m http.server 5000```\n",
        "\n",
        "and go to https://localhost:5000 in your browser to load and explore the visualization."
      ],
      "metadata": {
        "id": "uJV7XTiaXww7"
      }
    },
    {
      "cell_type": "code",
      "source": [
        "\n",
        "!zip -r pixplot_visualization.zip output\n",
        "\n",
        "## then download it; unzip it\n",
        "## and assuming you have python installed, in a terminal run\n",
        "## python -m http.server 5000\n",
        "## then go to localhost:5000 in a browser on your machine"
      ],
      "metadata": {
        "id": "onxfIPY3C251"
      },
      "execution_count": null,
      "outputs": []
    },
    {
      "cell_type": "markdown",
      "source": [
        "### Or try running it here in colab\n"
      ],
      "metadata": {
        "id": "Y8ELdJ2KAoBv"
      }
    },
    {
      "cell_type": "code",
      "source": [
        "# for reasons I can't figure out yet\n",
        "# running pixplot from colab\n",
        "# sometimes doesn't work and might\n",
        "# fail at one crucial spot here, not loading a piece - check the log for 404 error; if you see that you'll know something went wrong.\n",
        "# If it fails, that's a colab issue, not a *you* issue.\n",
        "# IF THAT HAPPENS not to worry: zip it up, download, unzip, run the terminal or command prompt in that unzipped folder and run the python -m http.server 50000 command on your computer and it will work.\n",
        "\n",
        "from google.colab import output\n",
        "output.serve_kernel_port_as_iframe(5000)\n",
        "%cd output\n",
        "!python -m http.server 5000\n"
      ],
      "metadata": {
        "id": "rGS7f_gJEO42"
      },
      "execution_count": null,
      "outputs": []
    }
  ]
}